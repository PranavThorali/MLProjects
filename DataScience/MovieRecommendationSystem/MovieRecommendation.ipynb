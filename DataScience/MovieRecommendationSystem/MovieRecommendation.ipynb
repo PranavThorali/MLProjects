{
 "cells": [
  {
   "cell_type": "code",
   "execution_count": 1,
   "id": "31091fc6",
   "metadata": {},
   "outputs": [],
   "source": [
    "import pandas as pd\n",
    "import numpy as np\n",
    "import matplotlib.pyplot as plt\n",
    "import seaborn as sns\n"
   ]
  },
  {
   "cell_type": "code",
   "execution_count": null,
   "id": "9fac3c68",
   "metadata": {},
   "outputs": [
    {
     "data": {
      "text/html": [
       "<div>\n",
       "<style scoped>\n",
       "    .dataframe tbody tr th:only-of-type {\n",
       "        vertical-align: middle;\n",
       "    }\n",
       "\n",
       "    .dataframe tbody tr th {\n",
       "        vertical-align: top;\n",
       "    }\n",
       "\n",
       "    .dataframe thead th {\n",
       "        text-align: right;\n",
       "    }\n",
       "</style>\n",
       "<table border=\"1\" class=\"dataframe\">\n",
       "  <thead>\n",
       "    <tr style=\"text-align: right;\">\n",
       "      <th></th>\n",
       "      <th>budget</th>\n",
       "      <th>genres</th>\n",
       "      <th>homepage</th>\n",
       "      <th>id</th>\n",
       "      <th>keywords</th>\n",
       "      <th>original_language</th>\n",
       "      <th>original_title</th>\n",
       "      <th>overview</th>\n",
       "      <th>popularity</th>\n",
       "      <th>production_companies</th>\n",
       "      <th>production_countries</th>\n",
       "      <th>release_date</th>\n",
       "      <th>revenue</th>\n",
       "      <th>runtime</th>\n",
       "      <th>spoken_languages</th>\n",
       "      <th>status</th>\n",
       "      <th>tagline</th>\n",
       "      <th>title</th>\n",
       "      <th>vote_average</th>\n",
       "      <th>vote_count</th>\n",
       "    </tr>\n",
       "  </thead>\n",
       "  <tbody>\n",
       "    <tr>\n",
       "      <th>0</th>\n",
       "      <td>237000000</td>\n",
       "      <td>[{\"id\": 28, \"name\": \"Action\"}, {\"id\": 12, \"nam...</td>\n",
       "      <td>http://www.avatarmovie.com/</td>\n",
       "      <td>19995</td>\n",
       "      <td>[{\"id\": 1463, \"name\": \"culture clash\"}, {\"id\":...</td>\n",
       "      <td>en</td>\n",
       "      <td>Avatar</td>\n",
       "      <td>In the 22nd century, a paraplegic Marine is di...</td>\n",
       "      <td>150.437577</td>\n",
       "      <td>[{\"name\": \"Ingenious Film Partners\", \"id\": 289...</td>\n",
       "      <td>[{\"iso_3166_1\": \"US\", \"name\": \"United States o...</td>\n",
       "      <td>2009-12-10</td>\n",
       "      <td>2787965087</td>\n",
       "      <td>162.0</td>\n",
       "      <td>[{\"iso_639_1\": \"en\", \"name\": \"English\"}, {\"iso...</td>\n",
       "      <td>Released</td>\n",
       "      <td>Enter the World of Pandora.</td>\n",
       "      <td>Avatar</td>\n",
       "      <td>7.2</td>\n",
       "      <td>11800</td>\n",
       "    </tr>\n",
       "    <tr>\n",
       "      <th>1</th>\n",
       "      <td>300000000</td>\n",
       "      <td>[{\"id\": 12, \"name\": \"Adventure\"}, {\"id\": 14, \"...</td>\n",
       "      <td>http://disney.go.com/disneypictures/pirates/</td>\n",
       "      <td>285</td>\n",
       "      <td>[{\"id\": 270, \"name\": \"ocean\"}, {\"id\": 726, \"na...</td>\n",
       "      <td>en</td>\n",
       "      <td>Pirates of the Caribbean: At World's End</td>\n",
       "      <td>Captain Barbossa, long believed to be dead, ha...</td>\n",
       "      <td>139.082615</td>\n",
       "      <td>[{\"name\": \"Walt Disney Pictures\", \"id\": 2}, {\"...</td>\n",
       "      <td>[{\"iso_3166_1\": \"US\", \"name\": \"United States o...</td>\n",
       "      <td>2007-05-19</td>\n",
       "      <td>961000000</td>\n",
       "      <td>169.0</td>\n",
       "      <td>[{\"iso_639_1\": \"en\", \"name\": \"English\"}]</td>\n",
       "      <td>Released</td>\n",
       "      <td>At the end of the world, the adventure begins.</td>\n",
       "      <td>Pirates of the Caribbean: At World's End</td>\n",
       "      <td>6.9</td>\n",
       "      <td>4500</td>\n",
       "    </tr>\n",
       "    <tr>\n",
       "      <th>2</th>\n",
       "      <td>245000000</td>\n",
       "      <td>[{\"id\": 28, \"name\": \"Action\"}, {\"id\": 12, \"nam...</td>\n",
       "      <td>http://www.sonypictures.com/movies/spectre/</td>\n",
       "      <td>206647</td>\n",
       "      <td>[{\"id\": 470, \"name\": \"spy\"}, {\"id\": 818, \"name...</td>\n",
       "      <td>en</td>\n",
       "      <td>Spectre</td>\n",
       "      <td>A cryptic message from Bond’s past sends him o...</td>\n",
       "      <td>107.376788</td>\n",
       "      <td>[{\"name\": \"Columbia Pictures\", \"id\": 5}, {\"nam...</td>\n",
       "      <td>[{\"iso_3166_1\": \"GB\", \"name\": \"United Kingdom\"...</td>\n",
       "      <td>2015-10-26</td>\n",
       "      <td>880674609</td>\n",
       "      <td>148.0</td>\n",
       "      <td>[{\"iso_639_1\": \"fr\", \"name\": \"Fran\\u00e7ais\"},...</td>\n",
       "      <td>Released</td>\n",
       "      <td>A Plan No One Escapes</td>\n",
       "      <td>Spectre</td>\n",
       "      <td>6.3</td>\n",
       "      <td>4466</td>\n",
       "    </tr>\n",
       "    <tr>\n",
       "      <th>3</th>\n",
       "      <td>250000000</td>\n",
       "      <td>[{\"id\": 28, \"name\": \"Action\"}, {\"id\": 80, \"nam...</td>\n",
       "      <td>http://www.thedarkknightrises.com/</td>\n",
       "      <td>49026</td>\n",
       "      <td>[{\"id\": 849, \"name\": \"dc comics\"}, {\"id\": 853,...</td>\n",
       "      <td>en</td>\n",
       "      <td>The Dark Knight Rises</td>\n",
       "      <td>Following the death of District Attorney Harve...</td>\n",
       "      <td>112.312950</td>\n",
       "      <td>[{\"name\": \"Legendary Pictures\", \"id\": 923}, {\"...</td>\n",
       "      <td>[{\"iso_3166_1\": \"US\", \"name\": \"United States o...</td>\n",
       "      <td>2012-07-16</td>\n",
       "      <td>1084939099</td>\n",
       "      <td>165.0</td>\n",
       "      <td>[{\"iso_639_1\": \"en\", \"name\": \"English\"}]</td>\n",
       "      <td>Released</td>\n",
       "      <td>The Legend Ends</td>\n",
       "      <td>The Dark Knight Rises</td>\n",
       "      <td>7.6</td>\n",
       "      <td>9106</td>\n",
       "    </tr>\n",
       "    <tr>\n",
       "      <th>4</th>\n",
       "      <td>260000000</td>\n",
       "      <td>[{\"id\": 28, \"name\": \"Action\"}, {\"id\": 12, \"nam...</td>\n",
       "      <td>http://movies.disney.com/john-carter</td>\n",
       "      <td>49529</td>\n",
       "      <td>[{\"id\": 818, \"name\": \"based on novel\"}, {\"id\":...</td>\n",
       "      <td>en</td>\n",
       "      <td>John Carter</td>\n",
       "      <td>John Carter is a war-weary, former military ca...</td>\n",
       "      <td>43.926995</td>\n",
       "      <td>[{\"name\": \"Walt Disney Pictures\", \"id\": 2}]</td>\n",
       "      <td>[{\"iso_3166_1\": \"US\", \"name\": \"United States o...</td>\n",
       "      <td>2012-03-07</td>\n",
       "      <td>284139100</td>\n",
       "      <td>132.0</td>\n",
       "      <td>[{\"iso_639_1\": \"en\", \"name\": \"English\"}]</td>\n",
       "      <td>Released</td>\n",
       "      <td>Lost in our world, found in another.</td>\n",
       "      <td>John Carter</td>\n",
       "      <td>6.1</td>\n",
       "      <td>2124</td>\n",
       "    </tr>\n",
       "  </tbody>\n",
       "</table>\n",
       "</div>"
      ],
      "text/plain": [
       "      budget                                             genres  \\\n",
       "0  237000000  [{\"id\": 28, \"name\": \"Action\"}, {\"id\": 12, \"nam...   \n",
       "1  300000000  [{\"id\": 12, \"name\": \"Adventure\"}, {\"id\": 14, \"...   \n",
       "2  245000000  [{\"id\": 28, \"name\": \"Action\"}, {\"id\": 12, \"nam...   \n",
       "3  250000000  [{\"id\": 28, \"name\": \"Action\"}, {\"id\": 80, \"nam...   \n",
       "4  260000000  [{\"id\": 28, \"name\": \"Action\"}, {\"id\": 12, \"nam...   \n",
       "\n",
       "                                       homepage      id  \\\n",
       "0                   http://www.avatarmovie.com/   19995   \n",
       "1  http://disney.go.com/disneypictures/pirates/     285   \n",
       "2   http://www.sonypictures.com/movies/spectre/  206647   \n",
       "3            http://www.thedarkknightrises.com/   49026   \n",
       "4          http://movies.disney.com/john-carter   49529   \n",
       "\n",
       "                                            keywords original_language  \\\n",
       "0  [{\"id\": 1463, \"name\": \"culture clash\"}, {\"id\":...                en   \n",
       "1  [{\"id\": 270, \"name\": \"ocean\"}, {\"id\": 726, \"na...                en   \n",
       "2  [{\"id\": 470, \"name\": \"spy\"}, {\"id\": 818, \"name...                en   \n",
       "3  [{\"id\": 849, \"name\": \"dc comics\"}, {\"id\": 853,...                en   \n",
       "4  [{\"id\": 818, \"name\": \"based on novel\"}, {\"id\":...                en   \n",
       "\n",
       "                             original_title  \\\n",
       "0                                    Avatar   \n",
       "1  Pirates of the Caribbean: At World's End   \n",
       "2                                   Spectre   \n",
       "3                     The Dark Knight Rises   \n",
       "4                               John Carter   \n",
       "\n",
       "                                            overview  popularity  \\\n",
       "0  In the 22nd century, a paraplegic Marine is di...  150.437577   \n",
       "1  Captain Barbossa, long believed to be dead, ha...  139.082615   \n",
       "2  A cryptic message from Bond’s past sends him o...  107.376788   \n",
       "3  Following the death of District Attorney Harve...  112.312950   \n",
       "4  John Carter is a war-weary, former military ca...   43.926995   \n",
       "\n",
       "                                production_companies  \\\n",
       "0  [{\"name\": \"Ingenious Film Partners\", \"id\": 289...   \n",
       "1  [{\"name\": \"Walt Disney Pictures\", \"id\": 2}, {\"...   \n",
       "2  [{\"name\": \"Columbia Pictures\", \"id\": 5}, {\"nam...   \n",
       "3  [{\"name\": \"Legendary Pictures\", \"id\": 923}, {\"...   \n",
       "4        [{\"name\": \"Walt Disney Pictures\", \"id\": 2}]   \n",
       "\n",
       "                                production_countries release_date     revenue  \\\n",
       "0  [{\"iso_3166_1\": \"US\", \"name\": \"United States o...   2009-12-10  2787965087   \n",
       "1  [{\"iso_3166_1\": \"US\", \"name\": \"United States o...   2007-05-19   961000000   \n",
       "2  [{\"iso_3166_1\": \"GB\", \"name\": \"United Kingdom\"...   2015-10-26   880674609   \n",
       "3  [{\"iso_3166_1\": \"US\", \"name\": \"United States o...   2012-07-16  1084939099   \n",
       "4  [{\"iso_3166_1\": \"US\", \"name\": \"United States o...   2012-03-07   284139100   \n",
       "\n",
       "   runtime                                   spoken_languages    status  \\\n",
       "0    162.0  [{\"iso_639_1\": \"en\", \"name\": \"English\"}, {\"iso...  Released   \n",
       "1    169.0           [{\"iso_639_1\": \"en\", \"name\": \"English\"}]  Released   \n",
       "2    148.0  [{\"iso_639_1\": \"fr\", \"name\": \"Fran\\u00e7ais\"},...  Released   \n",
       "3    165.0           [{\"iso_639_1\": \"en\", \"name\": \"English\"}]  Released   \n",
       "4    132.0           [{\"iso_639_1\": \"en\", \"name\": \"English\"}]  Released   \n",
       "\n",
       "                                          tagline  \\\n",
       "0                     Enter the World of Pandora.   \n",
       "1  At the end of the world, the adventure begins.   \n",
       "2                           A Plan No One Escapes   \n",
       "3                                 The Legend Ends   \n",
       "4            Lost in our world, found in another.   \n",
       "\n",
       "                                      title  vote_average  vote_count  \n",
       "0                                    Avatar           7.2       11800  \n",
       "1  Pirates of the Caribbean: At World's End           6.9        4500  \n",
       "2                                   Spectre           6.3        4466  \n",
       "3                     The Dark Knight Rises           7.6        9106  \n",
       "4                               John Carter           6.1        2124  "
      ]
     },
     "execution_count": 4,
     "metadata": {},
     "output_type": "execute_result"
    }
   ],
   "source": [
    "credits = pd.read_csv(\"tmdb_5000_credits.csv\")\n",
    "movies_df = pd.read_csv(\"tmdb_5000_movies.csv\")\n",
    "\n",
    "credits.head()\n",
    "\n",
    "movies_df.head()\n"
   ]
  },
  {
   "cell_type": "code",
   "execution_count": 5,
   "id": "48be04e1",
   "metadata": {},
   "outputs": [
    {
     "data": {
      "text/plain": [
       "Index(['budget', 'genres', 'homepage', 'id', 'keywords', 'original_language',\n",
       "       'original_title', 'overview', 'popularity', 'production_companies',\n",
       "       'production_countries', 'release_date', 'revenue', 'runtime',\n",
       "       'spoken_languages', 'status', 'tagline', 'title', 'vote_average',\n",
       "       'vote_count'],\n",
       "      dtype='object')"
      ]
     },
     "execution_count": 5,
     "metadata": {},
     "output_type": "execute_result"
    }
   ],
   "source": [
    "movies_df.columns"
   ]
  },
  {
   "cell_type": "code",
   "execution_count": null,
   "id": "597e8566",
   "metadata": {},
   "outputs": [
    {
     "data": {
      "text/html": [
       "<div>\n",
       "<style scoped>\n",
       "    .dataframe tbody tr th:only-of-type {\n",
       "        vertical-align: middle;\n",
       "    }\n",
       "\n",
       "    .dataframe tbody tr th {\n",
       "        vertical-align: top;\n",
       "    }\n",
       "\n",
       "    .dataframe thead th {\n",
       "        text-align: right;\n",
       "    }\n",
       "</style>\n",
       "<table border=\"1\" class=\"dataframe\">\n",
       "  <thead>\n",
       "    <tr style=\"text-align: right;\">\n",
       "      <th></th>\n",
       "      <th>budget</th>\n",
       "      <th>genres</th>\n",
       "      <th>homepage</th>\n",
       "      <th>id</th>\n",
       "      <th>keywords</th>\n",
       "      <th>original_language</th>\n",
       "      <th>original_title</th>\n",
       "      <th>overview</th>\n",
       "      <th>popularity</th>\n",
       "      <th>production_companies</th>\n",
       "      <th>...</th>\n",
       "      <th>runtime</th>\n",
       "      <th>spoken_languages</th>\n",
       "      <th>status</th>\n",
       "      <th>tagline</th>\n",
       "      <th>title_x</th>\n",
       "      <th>vote_average</th>\n",
       "      <th>vote_count</th>\n",
       "      <th>title_y</th>\n",
       "      <th>cast</th>\n",
       "      <th>crew</th>\n",
       "    </tr>\n",
       "  </thead>\n",
       "  <tbody>\n",
       "    <tr>\n",
       "      <th>0</th>\n",
       "      <td>237000000</td>\n",
       "      <td>[{\"id\": 28, \"name\": \"Action\"}, {\"id\": 12, \"nam...</td>\n",
       "      <td>http://www.avatarmovie.com/</td>\n",
       "      <td>19995</td>\n",
       "      <td>[{\"id\": 1463, \"name\": \"culture clash\"}, {\"id\":...</td>\n",
       "      <td>en</td>\n",
       "      <td>Avatar</td>\n",
       "      <td>In the 22nd century, a paraplegic Marine is di...</td>\n",
       "      <td>150.437577</td>\n",
       "      <td>[{\"name\": \"Ingenious Film Partners\", \"id\": 289...</td>\n",
       "      <td>...</td>\n",
       "      <td>162.0</td>\n",
       "      <td>[{\"iso_639_1\": \"en\", \"name\": \"English\"}, {\"iso...</td>\n",
       "      <td>Released</td>\n",
       "      <td>Enter the World of Pandora.</td>\n",
       "      <td>Avatar</td>\n",
       "      <td>7.2</td>\n",
       "      <td>11800</td>\n",
       "      <td>Avatar</td>\n",
       "      <td>[{\"cast_id\": 242, \"character\": \"Jake Sully\", \"...</td>\n",
       "      <td>[{\"credit_id\": \"52fe48009251416c750aca23\", \"de...</td>\n",
       "    </tr>\n",
       "    <tr>\n",
       "      <th>1</th>\n",
       "      <td>300000000</td>\n",
       "      <td>[{\"id\": 12, \"name\": \"Adventure\"}, {\"id\": 14, \"...</td>\n",
       "      <td>http://disney.go.com/disneypictures/pirates/</td>\n",
       "      <td>285</td>\n",
       "      <td>[{\"id\": 270, \"name\": \"ocean\"}, {\"id\": 726, \"na...</td>\n",
       "      <td>en</td>\n",
       "      <td>Pirates of the Caribbean: At World's End</td>\n",
       "      <td>Captain Barbossa, long believed to be dead, ha...</td>\n",
       "      <td>139.082615</td>\n",
       "      <td>[{\"name\": \"Walt Disney Pictures\", \"id\": 2}, {\"...</td>\n",
       "      <td>...</td>\n",
       "      <td>169.0</td>\n",
       "      <td>[{\"iso_639_1\": \"en\", \"name\": \"English\"}]</td>\n",
       "      <td>Released</td>\n",
       "      <td>At the end of the world, the adventure begins.</td>\n",
       "      <td>Pirates of the Caribbean: At World's End</td>\n",
       "      <td>6.9</td>\n",
       "      <td>4500</td>\n",
       "      <td>Pirates of the Caribbean: At World's End</td>\n",
       "      <td>[{\"cast_id\": 4, \"character\": \"Captain Jack Spa...</td>\n",
       "      <td>[{\"credit_id\": \"52fe4232c3a36847f800b579\", \"de...</td>\n",
       "    </tr>\n",
       "    <tr>\n",
       "      <th>2</th>\n",
       "      <td>245000000</td>\n",
       "      <td>[{\"id\": 28, \"name\": \"Action\"}, {\"id\": 12, \"nam...</td>\n",
       "      <td>http://www.sonypictures.com/movies/spectre/</td>\n",
       "      <td>206647</td>\n",
       "      <td>[{\"id\": 470, \"name\": \"spy\"}, {\"id\": 818, \"name...</td>\n",
       "      <td>en</td>\n",
       "      <td>Spectre</td>\n",
       "      <td>A cryptic message from Bond’s past sends him o...</td>\n",
       "      <td>107.376788</td>\n",
       "      <td>[{\"name\": \"Columbia Pictures\", \"id\": 5}, {\"nam...</td>\n",
       "      <td>...</td>\n",
       "      <td>148.0</td>\n",
       "      <td>[{\"iso_639_1\": \"fr\", \"name\": \"Fran\\u00e7ais\"},...</td>\n",
       "      <td>Released</td>\n",
       "      <td>A Plan No One Escapes</td>\n",
       "      <td>Spectre</td>\n",
       "      <td>6.3</td>\n",
       "      <td>4466</td>\n",
       "      <td>Spectre</td>\n",
       "      <td>[{\"cast_id\": 1, \"character\": \"James Bond\", \"cr...</td>\n",
       "      <td>[{\"credit_id\": \"54805967c3a36829b5002c41\", \"de...</td>\n",
       "    </tr>\n",
       "    <tr>\n",
       "      <th>3</th>\n",
       "      <td>250000000</td>\n",
       "      <td>[{\"id\": 28, \"name\": \"Action\"}, {\"id\": 80, \"nam...</td>\n",
       "      <td>http://www.thedarkknightrises.com/</td>\n",
       "      <td>49026</td>\n",
       "      <td>[{\"id\": 849, \"name\": \"dc comics\"}, {\"id\": 853,...</td>\n",
       "      <td>en</td>\n",
       "      <td>The Dark Knight Rises</td>\n",
       "      <td>Following the death of District Attorney Harve...</td>\n",
       "      <td>112.312950</td>\n",
       "      <td>[{\"name\": \"Legendary Pictures\", \"id\": 923}, {\"...</td>\n",
       "      <td>...</td>\n",
       "      <td>165.0</td>\n",
       "      <td>[{\"iso_639_1\": \"en\", \"name\": \"English\"}]</td>\n",
       "      <td>Released</td>\n",
       "      <td>The Legend Ends</td>\n",
       "      <td>The Dark Knight Rises</td>\n",
       "      <td>7.6</td>\n",
       "      <td>9106</td>\n",
       "      <td>The Dark Knight Rises</td>\n",
       "      <td>[{\"cast_id\": 2, \"character\": \"Bruce Wayne / Ba...</td>\n",
       "      <td>[{\"credit_id\": \"52fe4781c3a36847f81398c3\", \"de...</td>\n",
       "    </tr>\n",
       "    <tr>\n",
       "      <th>4</th>\n",
       "      <td>260000000</td>\n",
       "      <td>[{\"id\": 28, \"name\": \"Action\"}, {\"id\": 12, \"nam...</td>\n",
       "      <td>http://movies.disney.com/john-carter</td>\n",
       "      <td>49529</td>\n",
       "      <td>[{\"id\": 818, \"name\": \"based on novel\"}, {\"id\":...</td>\n",
       "      <td>en</td>\n",
       "      <td>John Carter</td>\n",
       "      <td>John Carter is a war-weary, former military ca...</td>\n",
       "      <td>43.926995</td>\n",
       "      <td>[{\"name\": \"Walt Disney Pictures\", \"id\": 2}]</td>\n",
       "      <td>...</td>\n",
       "      <td>132.0</td>\n",
       "      <td>[{\"iso_639_1\": \"en\", \"name\": \"English\"}]</td>\n",
       "      <td>Released</td>\n",
       "      <td>Lost in our world, found in another.</td>\n",
       "      <td>John Carter</td>\n",
       "      <td>6.1</td>\n",
       "      <td>2124</td>\n",
       "      <td>John Carter</td>\n",
       "      <td>[{\"cast_id\": 5, \"character\": \"John Carter\", \"c...</td>\n",
       "      <td>[{\"credit_id\": \"52fe479ac3a36847f813eaa3\", \"de...</td>\n",
       "    </tr>\n",
       "  </tbody>\n",
       "</table>\n",
       "<p>5 rows × 23 columns</p>\n",
       "</div>"
      ],
      "text/plain": [
       "      budget                                             genres  \\\n",
       "0  237000000  [{\"id\": 28, \"name\": \"Action\"}, {\"id\": 12, \"nam...   \n",
       "1  300000000  [{\"id\": 12, \"name\": \"Adventure\"}, {\"id\": 14, \"...   \n",
       "2  245000000  [{\"id\": 28, \"name\": \"Action\"}, {\"id\": 12, \"nam...   \n",
       "3  250000000  [{\"id\": 28, \"name\": \"Action\"}, {\"id\": 80, \"nam...   \n",
       "4  260000000  [{\"id\": 28, \"name\": \"Action\"}, {\"id\": 12, \"nam...   \n",
       "\n",
       "                                       homepage      id  \\\n",
       "0                   http://www.avatarmovie.com/   19995   \n",
       "1  http://disney.go.com/disneypictures/pirates/     285   \n",
       "2   http://www.sonypictures.com/movies/spectre/  206647   \n",
       "3            http://www.thedarkknightrises.com/   49026   \n",
       "4          http://movies.disney.com/john-carter   49529   \n",
       "\n",
       "                                            keywords original_language  \\\n",
       "0  [{\"id\": 1463, \"name\": \"culture clash\"}, {\"id\":...                en   \n",
       "1  [{\"id\": 270, \"name\": \"ocean\"}, {\"id\": 726, \"na...                en   \n",
       "2  [{\"id\": 470, \"name\": \"spy\"}, {\"id\": 818, \"name...                en   \n",
       "3  [{\"id\": 849, \"name\": \"dc comics\"}, {\"id\": 853,...                en   \n",
       "4  [{\"id\": 818, \"name\": \"based on novel\"}, {\"id\":...                en   \n",
       "\n",
       "                             original_title  \\\n",
       "0                                    Avatar   \n",
       "1  Pirates of the Caribbean: At World's End   \n",
       "2                                   Spectre   \n",
       "3                     The Dark Knight Rises   \n",
       "4                               John Carter   \n",
       "\n",
       "                                            overview  popularity  \\\n",
       "0  In the 22nd century, a paraplegic Marine is di...  150.437577   \n",
       "1  Captain Barbossa, long believed to be dead, ha...  139.082615   \n",
       "2  A cryptic message from Bond’s past sends him o...  107.376788   \n",
       "3  Following the death of District Attorney Harve...  112.312950   \n",
       "4  John Carter is a war-weary, former military ca...   43.926995   \n",
       "\n",
       "                                production_companies  ... runtime  \\\n",
       "0  [{\"name\": \"Ingenious Film Partners\", \"id\": 289...  ...   162.0   \n",
       "1  [{\"name\": \"Walt Disney Pictures\", \"id\": 2}, {\"...  ...   169.0   \n",
       "2  [{\"name\": \"Columbia Pictures\", \"id\": 5}, {\"nam...  ...   148.0   \n",
       "3  [{\"name\": \"Legendary Pictures\", \"id\": 923}, {\"...  ...   165.0   \n",
       "4        [{\"name\": \"Walt Disney Pictures\", \"id\": 2}]  ...   132.0   \n",
       "\n",
       "                                    spoken_languages    status  \\\n",
       "0  [{\"iso_639_1\": \"en\", \"name\": \"English\"}, {\"iso...  Released   \n",
       "1           [{\"iso_639_1\": \"en\", \"name\": \"English\"}]  Released   \n",
       "2  [{\"iso_639_1\": \"fr\", \"name\": \"Fran\\u00e7ais\"},...  Released   \n",
       "3           [{\"iso_639_1\": \"en\", \"name\": \"English\"}]  Released   \n",
       "4           [{\"iso_639_1\": \"en\", \"name\": \"English\"}]  Released   \n",
       "\n",
       "                                          tagline  \\\n",
       "0                     Enter the World of Pandora.   \n",
       "1  At the end of the world, the adventure begins.   \n",
       "2                           A Plan No One Escapes   \n",
       "3                                 The Legend Ends   \n",
       "4            Lost in our world, found in another.   \n",
       "\n",
       "                                    title_x vote_average vote_count  \\\n",
       "0                                    Avatar          7.2      11800   \n",
       "1  Pirates of the Caribbean: At World's End          6.9       4500   \n",
       "2                                   Spectre          6.3       4466   \n",
       "3                     The Dark Knight Rises          7.6       9106   \n",
       "4                               John Carter          6.1       2124   \n",
       "\n",
       "                                    title_y  \\\n",
       "0                                    Avatar   \n",
       "1  Pirates of the Caribbean: At World's End   \n",
       "2                                   Spectre   \n",
       "3                     The Dark Knight Rises   \n",
       "4                               John Carter   \n",
       "\n",
       "                                                cast  \\\n",
       "0  [{\"cast_id\": 242, \"character\": \"Jake Sully\", \"...   \n",
       "1  [{\"cast_id\": 4, \"character\": \"Captain Jack Spa...   \n",
       "2  [{\"cast_id\": 1, \"character\": \"James Bond\", \"cr...   \n",
       "3  [{\"cast_id\": 2, \"character\": \"Bruce Wayne / Ba...   \n",
       "4  [{\"cast_id\": 5, \"character\": \"John Carter\", \"c...   \n",
       "\n",
       "                                                crew  \n",
       "0  [{\"credit_id\": \"52fe48009251416c750aca23\", \"de...  \n",
       "1  [{\"credit_id\": \"52fe4232c3a36847f800b579\", \"de...  \n",
       "2  [{\"credit_id\": \"54805967c3a36829b5002c41\", \"de...  \n",
       "3  [{\"credit_id\": \"52fe4781c3a36847f81398c3\", \"de...  \n",
       "4  [{\"credit_id\": \"52fe479ac3a36847f813eaa3\", \"de...  \n",
       "\n",
       "[5 rows x 23 columns]"
      ]
     },
     "execution_count": 10,
     "metadata": {},
     "output_type": "execute_result"
    }
   ],
   "source": [
    "credits_updated = credits.rename(columns={'movie_id': 'id'})\n",
    "movies_df_updated = movies_df.merge(credits_updated, on='id')\n",
    "\n",
    "movies_df_updated.head()\n"
   ]
  },
  {
   "cell_type": "code",
   "execution_count": 9,
   "id": "606ef78b",
   "metadata": {},
   "outputs": [
    {
     "data": {
      "text/plain": [
       "(4803, 23)"
      ]
     },
     "execution_count": 9,
     "metadata": {},
     "output_type": "execute_result"
    }
   ],
   "source": [
    "movies_df_updated.shape"
   ]
  },
  {
   "cell_type": "code",
   "execution_count": 13,
   "id": "86c4541a",
   "metadata": {},
   "outputs": [],
   "source": [
    "movies_cleaned = movies_df_updated.drop(columns=['homepage', 'title_x', 'title_y', 'status', 'production_countries'])"
   ]
  },
  {
   "cell_type": "code",
   "execution_count": 15,
   "id": "8d96c3f4",
   "metadata": {},
   "outputs": [],
   "source": [
    "v = movies_cleaned['vote_count']\n",
    "R = movies_cleaned['vote_average']\n",
    "C = movies_cleaned['vote_average'].mean()"
   ]
  },
  {
   "cell_type": "code",
   "execution_count": 16,
   "id": "a93b4c37",
   "metadata": {},
   "outputs": [
    {
     "data": {
      "text/plain": [
       "6.092171559442016"
      ]
     },
     "execution_count": 16,
     "metadata": {},
     "output_type": "execute_result"
    }
   ],
   "source": [
    "C"
   ]
  },
  {
   "cell_type": "code",
   "execution_count": 17,
   "id": "5b8253d2",
   "metadata": {},
   "outputs": [
    {
     "data": {
      "text/html": [
       "<div>\n",
       "<style scoped>\n",
       "    .dataframe tbody tr th:only-of-type {\n",
       "        vertical-align: middle;\n",
       "    }\n",
       "\n",
       "    .dataframe tbody tr th {\n",
       "        vertical-align: top;\n",
       "    }\n",
       "\n",
       "    .dataframe thead th {\n",
       "        text-align: right;\n",
       "    }\n",
       "</style>\n",
       "<table border=\"1\" class=\"dataframe\">\n",
       "  <thead>\n",
       "    <tr style=\"text-align: right;\">\n",
       "      <th></th>\n",
       "      <th>original_title</th>\n",
       "      <th>vote_count</th>\n",
       "    </tr>\n",
       "  </thead>\n",
       "  <tbody>\n",
       "    <tr>\n",
       "      <th>0</th>\n",
       "      <td>Avatar</td>\n",
       "      <td>11800</td>\n",
       "    </tr>\n",
       "    <tr>\n",
       "      <th>1</th>\n",
       "      <td>Pirates of the Caribbean: At World's End</td>\n",
       "      <td>4500</td>\n",
       "    </tr>\n",
       "    <tr>\n",
       "      <th>2</th>\n",
       "      <td>Spectre</td>\n",
       "      <td>4466</td>\n",
       "    </tr>\n",
       "    <tr>\n",
       "      <th>3</th>\n",
       "      <td>The Dark Knight Rises</td>\n",
       "      <td>9106</td>\n",
       "    </tr>\n",
       "    <tr>\n",
       "      <th>4</th>\n",
       "      <td>John Carter</td>\n",
       "      <td>2124</td>\n",
       "    </tr>\n",
       "    <tr>\n",
       "      <th>...</th>\n",
       "      <td>...</td>\n",
       "      <td>...</td>\n",
       "    </tr>\n",
       "    <tr>\n",
       "      <th>4798</th>\n",
       "      <td>El Mariachi</td>\n",
       "      <td>238</td>\n",
       "    </tr>\n",
       "    <tr>\n",
       "      <th>4799</th>\n",
       "      <td>Newlyweds</td>\n",
       "      <td>5</td>\n",
       "    </tr>\n",
       "    <tr>\n",
       "      <th>4800</th>\n",
       "      <td>Signed, Sealed, Delivered</td>\n",
       "      <td>6</td>\n",
       "    </tr>\n",
       "    <tr>\n",
       "      <th>4801</th>\n",
       "      <td>Shanghai Calling</td>\n",
       "      <td>7</td>\n",
       "    </tr>\n",
       "    <tr>\n",
       "      <th>4802</th>\n",
       "      <td>My Date with Drew</td>\n",
       "      <td>16</td>\n",
       "    </tr>\n",
       "  </tbody>\n",
       "</table>\n",
       "<p>4803 rows × 2 columns</p>\n",
       "</div>"
      ],
      "text/plain": [
       "                                original_title  vote_count\n",
       "0                                       Avatar       11800\n",
       "1     Pirates of the Caribbean: At World's End        4500\n",
       "2                                      Spectre        4466\n",
       "3                        The Dark Knight Rises        9106\n",
       "4                                  John Carter        2124\n",
       "...                                        ...         ...\n",
       "4798                               El Mariachi         238\n",
       "4799                                 Newlyweds           5\n",
       "4800                 Signed, Sealed, Delivered           6\n",
       "4801                          Shanghai Calling           7\n",
       "4802                         My Date with Drew          16\n",
       "\n",
       "[4803 rows x 2 columns]"
      ]
     },
     "execution_count": 17,
     "metadata": {},
     "output_type": "execute_result"
    }
   ],
   "source": [
    "movies_cleaned[['original_title', 'vote_count']]"
   ]
  },
  {
   "cell_type": "code",
   "execution_count": 18,
   "id": "77bf950d",
   "metadata": {},
   "outputs": [
    {
     "data": {
      "text/plain": [
       "<Axes: xlabel='vote_count', ylabel='vote_average'>"
      ]
     },
     "execution_count": 18,
     "metadata": {},
     "output_type": "execute_result"
    },
    {
     "data": {
      "image/png": "[encoded data removed]",
      "text/plain": [
       "<Figure size 640x480 with 1 Axes>"
      ]
     },
     "metadata": {},
     "output_type": "display_data"
    }
   ],
   "source": [
    "sns.boxplot(data= movies_cleaned, x='vote_count', y='vote_average')"
   ]
  },
  {
   "cell_type": "code",
   "execution_count": 19,
   "id": "9082ce89",
   "metadata": {},
   "outputs": [],
   "source": [
    "m = 1900"
   ]
  },
  {
   "cell_type": "code",
   "execution_count": null,
   "id": "aa51e41f",
   "metadata": {},
   "outputs": [],
   "source": [
    "threshold = movies_cleaned['vote_count'].quantile(q=0.9)\n"
   ]
  },
  {
   "cell_type": "code",
   "execution_count": null,
   "id": "229fed00",
   "metadata": {},
   "outputs": [],
   "source": [
    "filtered_movies = movies_cleaned[movies_cleaned['vote_count'] >= threshold]\n"
   ]
  },
  {
   "cell_type": "code",
   "execution_count": 24,
   "id": "c9f6c154",
   "metadata": {},
   "outputs": [
    {
     "data": {
      "text/html": [
       "<div>\n",
       "<style scoped>\n",
       "    .dataframe tbody tr th:only-of-type {\n",
       "        vertical-align: middle;\n",
       "    }\n",
       "\n",
       "    .dataframe tbody tr th {\n",
       "        vertical-align: top;\n",
       "    }\n",
       "\n",
       "    .dataframe thead th {\n",
       "        text-align: right;\n",
       "    }\n",
       "</style>\n",
       "<table border=\"1\" class=\"dataframe\">\n",
       "  <thead>\n",
       "    <tr style=\"text-align: right;\">\n",
       "      <th></th>\n",
       "      <th>budget</th>\n",
       "      <th>genres</th>\n",
       "      <th>id</th>\n",
       "      <th>keywords</th>\n",
       "      <th>original_language</th>\n",
       "      <th>original_title</th>\n",
       "      <th>overview</th>\n",
       "      <th>popularity</th>\n",
       "      <th>production_companies</th>\n",
       "      <th>release_date</th>\n",
       "      <th>revenue</th>\n",
       "      <th>runtime</th>\n",
       "      <th>spoken_languages</th>\n",
       "      <th>tagline</th>\n",
       "      <th>vote_average</th>\n",
       "      <th>vote_count</th>\n",
       "      <th>cast</th>\n",
       "      <th>crew</th>\n",
       "    </tr>\n",
       "  </thead>\n",
       "  <tbody>\n",
       "    <tr>\n",
       "      <th>0</th>\n",
       "      <td>237000000</td>\n",
       "      <td>[{\"id\": 28, \"name\": \"Action\"}, {\"id\": 12, \"nam...</td>\n",
       "      <td>19995</td>\n",
       "      <td>[{\"id\": 1463, \"name\": \"culture clash\"}, {\"id\":...</td>\n",
       "      <td>en</td>\n",
       "      <td>Avatar</td>\n",
       "      <td>In the 22nd century, a paraplegic Marine is di...</td>\n",
       "      <td>150.437577</td>\n",
       "      <td>[{\"name\": \"Ingenious Film Partners\", \"id\": 289...</td>\n",
       "      <td>2009-12-10</td>\n",
       "      <td>2787965087</td>\n",
       "      <td>162.0</td>\n",
       "      <td>[{\"iso_639_1\": \"en\", \"name\": \"English\"}, {\"iso...</td>\n",
       "      <td>Enter the World of Pandora.</td>\n",
       "      <td>7.2</td>\n",
       "      <td>11800</td>\n",
       "      <td>[{\"cast_id\": 242, \"character\": \"Jake Sully\", \"...</td>\n",
       "      <td>[{\"credit_id\": \"52fe48009251416c750aca23\", \"de...</td>\n",
       "    </tr>\n",
       "    <tr>\n",
       "      <th>1</th>\n",
       "      <td>300000000</td>\n",
       "      <td>[{\"id\": 12, \"name\": \"Adventure\"}, {\"id\": 14, \"...</td>\n",
       "      <td>285</td>\n",
       "      <td>[{\"id\": 270, \"name\": \"ocean\"}, {\"id\": 726, \"na...</td>\n",
       "      <td>en</td>\n",
       "      <td>Pirates of the Caribbean: At World's End</td>\n",
       "      <td>Captain Barbossa, long believed to be dead, ha...</td>\n",
       "      <td>139.082615</td>\n",
       "      <td>[{\"name\": \"Walt Disney Pictures\", \"id\": 2}, {\"...</td>\n",
       "      <td>2007-05-19</td>\n",
       "      <td>961000000</td>\n",
       "      <td>169.0</td>\n",
       "      <td>[{\"iso_639_1\": \"en\", \"name\": \"English\"}]</td>\n",
       "      <td>At the end of the world, the adventure begins.</td>\n",
       "      <td>6.9</td>\n",
       "      <td>4500</td>\n",
       "      <td>[{\"cast_id\": 4, \"character\": \"Captain Jack Spa...</td>\n",
       "      <td>[{\"credit_id\": \"52fe4232c3a36847f800b579\", \"de...</td>\n",
       "    </tr>\n",
       "    <tr>\n",
       "      <th>2</th>\n",
       "      <td>245000000</td>\n",
       "      <td>[{\"id\": 28, \"name\": \"Action\"}, {\"id\": 12, \"nam...</td>\n",
       "      <td>206647</td>\n",
       "      <td>[{\"id\": 470, \"name\": \"spy\"}, {\"id\": 818, \"name...</td>\n",
       "      <td>en</td>\n",
       "      <td>Spectre</td>\n",
       "      <td>A cryptic message from Bond’s past sends him o...</td>\n",
       "      <td>107.376788</td>\n",
       "      <td>[{\"name\": \"Columbia Pictures\", \"id\": 5}, {\"nam...</td>\n",
       "      <td>2015-10-26</td>\n",
       "      <td>880674609</td>\n",
       "      <td>148.0</td>\n",
       "      <td>[{\"iso_639_1\": \"fr\", \"name\": \"Fran\\u00e7ais\"},...</td>\n",
       "      <td>A Plan No One Escapes</td>\n",
       "      <td>6.3</td>\n",
       "      <td>4466</td>\n",
       "      <td>[{\"cast_id\": 1, \"character\": \"James Bond\", \"cr...</td>\n",
       "      <td>[{\"credit_id\": \"54805967c3a36829b5002c41\", \"de...</td>\n",
       "    </tr>\n",
       "    <tr>\n",
       "      <th>3</th>\n",
       "      <td>250000000</td>\n",
       "      <td>[{\"id\": 28, \"name\": \"Action\"}, {\"id\": 80, \"nam...</td>\n",
       "      <td>49026</td>\n",
       "      <td>[{\"id\": 849, \"name\": \"dc comics\"}, {\"id\": 853,...</td>\n",
       "      <td>en</td>\n",
       "      <td>The Dark Knight Rises</td>\n",
       "      <td>Following the death of District Attorney Harve...</td>\n",
       "      <td>112.312950</td>\n",
       "      <td>[{\"name\": \"Legendary Pictures\", \"id\": 923}, {\"...</td>\n",
       "      <td>2012-07-16</td>\n",
       "      <td>1084939099</td>\n",
       "      <td>165.0</td>\n",
       "      <td>[{\"iso_639_1\": \"en\", \"name\": \"English\"}]</td>\n",
       "      <td>The Legend Ends</td>\n",
       "      <td>7.6</td>\n",
       "      <td>9106</td>\n",
       "      <td>[{\"cast_id\": 2, \"character\": \"Bruce Wayne / Ba...</td>\n",
       "      <td>[{\"credit_id\": \"52fe4781c3a36847f81398c3\", \"de...</td>\n",
       "    </tr>\n",
       "    <tr>\n",
       "      <th>4</th>\n",
       "      <td>260000000</td>\n",
       "      <td>[{\"id\": 28, \"name\": \"Action\"}, {\"id\": 12, \"nam...</td>\n",
       "      <td>49529</td>\n",
       "      <td>[{\"id\": 818, \"name\": \"based on novel\"}, {\"id\":...</td>\n",
       "      <td>en</td>\n",
       "      <td>John Carter</td>\n",
       "      <td>John Carter is a war-weary, former military ca...</td>\n",
       "      <td>43.926995</td>\n",
       "      <td>[{\"name\": \"Walt Disney Pictures\", \"id\": 2}]</td>\n",
       "      <td>2012-03-07</td>\n",
       "      <td>284139100</td>\n",
       "      <td>132.0</td>\n",
       "      <td>[{\"iso_639_1\": \"en\", \"name\": \"English\"}]</td>\n",
       "      <td>Lost in our world, found in another.</td>\n",
       "      <td>6.1</td>\n",
       "      <td>2124</td>\n",
       "      <td>[{\"cast_id\": 5, \"character\": \"John Carter\", \"c...</td>\n",
       "      <td>[{\"credit_id\": \"52fe479ac3a36847f813eaa3\", \"de...</td>\n",
       "    </tr>\n",
       "    <tr>\n",
       "      <th>...</th>\n",
       "      <td>...</td>\n",
       "      <td>...</td>\n",
       "      <td>...</td>\n",
       "      <td>...</td>\n",
       "      <td>...</td>\n",
       "      <td>...</td>\n",
       "      <td>...</td>\n",
       "      <td>...</td>\n",
       "      <td>...</td>\n",
       "      <td>...</td>\n",
       "      <td>...</td>\n",
       "      <td>...</td>\n",
       "      <td>...</td>\n",
       "      <td>...</td>\n",
       "      <td>...</td>\n",
       "      <td>...</td>\n",
       "      <td>...</td>\n",
       "      <td>...</td>\n",
       "    </tr>\n",
       "    <tr>\n",
       "      <th>4291</th>\n",
       "      <td>1200000</td>\n",
       "      <td>[{\"id\": 27, \"name\": \"Horror\"}, {\"id\": 9648, \"n...</td>\n",
       "      <td>176</td>\n",
       "      <td>[{\"id\": 1366, \"name\": \"shotgun\"}, {\"id\": 13000...</td>\n",
       "      <td>en</td>\n",
       "      <td>Saw</td>\n",
       "      <td>Obsessed with teaching his victims the value o...</td>\n",
       "      <td>63.655973</td>\n",
       "      <td>[{\"name\": \"Lions Gate Films\", \"id\": 35}, {\"nam...</td>\n",
       "      <td>2004-10-01</td>\n",
       "      <td>103911669</td>\n",
       "      <td>103.0</td>\n",
       "      <td>[{\"iso_639_1\": \"en\", \"name\": \"English\"}]</td>\n",
       "      <td>Live or die. Make your choice.</td>\n",
       "      <td>7.2</td>\n",
       "      <td>2184</td>\n",
       "      <td>[{\"cast_id\": 4, \"character\": \"Dr. Lawrence Gor...</td>\n",
       "      <td>[{\"credit_id\": \"52fe4223c3a36847f8006c57\", \"de...</td>\n",
       "    </tr>\n",
       "    <tr>\n",
       "      <th>4300</th>\n",
       "      <td>1200000</td>\n",
       "      <td>[{\"id\": 80, \"name\": \"Crime\"}, {\"id\": 53, \"name...</td>\n",
       "      <td>500</td>\n",
       "      <td>[{\"id\": 2052, \"name\": \"traitor\"}, {\"id\": 6099,...</td>\n",
       "      <td>en</td>\n",
       "      <td>Reservoir Dogs</td>\n",
       "      <td>A botched robbery indicates a police informant...</td>\n",
       "      <td>66.925866</td>\n",
       "      <td>[{\"name\": \"Live Entertainment\", \"id\": 285}, {\"...</td>\n",
       "      <td>1992-09-02</td>\n",
       "      <td>14661007</td>\n",
       "      <td>99.0</td>\n",
       "      <td>[{\"iso_639_1\": \"en\", \"name\": \"English\"}]</td>\n",
       "      <td>Every dog has his day.</td>\n",
       "      <td>8.0</td>\n",
       "      <td>3697</td>\n",
       "      <td>[{\"cast_id\": 20, \"character\": \"Mr. White/Larry...</td>\n",
       "      <td>[{\"credit_id\": \"52fe424ac3a36847f8012cb9\", \"de...</td>\n",
       "    </tr>\n",
       "    <tr>\n",
       "      <th>4302</th>\n",
       "      <td>1200000</td>\n",
       "      <td>[{\"id\": 37, \"name\": \"Western\"}]</td>\n",
       "      <td>429</td>\n",
       "      <td>[{\"id\": 801, \"name\": \"bounty hunter\"}, {\"id\": ...</td>\n",
       "      <td>it</td>\n",
       "      <td>Il buono, il brutto, il cattivo</td>\n",
       "      <td>While the Civil War rages between the Union an...</td>\n",
       "      <td>88.377076</td>\n",
       "      <td>[{\"name\": \"United Artists\", \"id\": 60}, {\"name\"...</td>\n",
       "      <td>1966-12-23</td>\n",
       "      <td>6000000</td>\n",
       "      <td>161.0</td>\n",
       "      <td>[{\"iso_639_1\": \"it\", \"name\": \"Italiano\"}]</td>\n",
       "      <td>For three men the Civil War wasn't hell. It wa...</td>\n",
       "      <td>8.1</td>\n",
       "      <td>2311</td>\n",
       "      <td>[{\"cast_id\": 6, \"character\": \"Tuco\", \"credit_i...</td>\n",
       "      <td>[{\"credit_id\": \"575aee00c3a3682d10000281\", \"de...</td>\n",
       "    </tr>\n",
       "    <tr>\n",
       "      <th>4337</th>\n",
       "      <td>1300000</td>\n",
       "      <td>[{\"id\": 80, \"name\": \"Crime\"}, {\"id\": 18, \"name...</td>\n",
       "      <td>103</td>\n",
       "      <td>[{\"id\": 422, \"name\": \"vietnam veteran\"}, {\"id\"...</td>\n",
       "      <td>en</td>\n",
       "      <td>Taxi Driver</td>\n",
       "      <td>A mentally unstable Vietnam War veteran works ...</td>\n",
       "      <td>58.845025</td>\n",
       "      <td>[{\"name\": \"Columbia Pictures Corporation\", \"id...</td>\n",
       "      <td>1976-02-07</td>\n",
       "      <td>28262574</td>\n",
       "      <td>114.0</td>\n",
       "      <td>[{\"iso_639_1\": \"en\", \"name\": \"English\"}, {\"iso...</td>\n",
       "      <td>On every street in every city, there's a nobod...</td>\n",
       "      <td>8.0</td>\n",
       "      <td>2535</td>\n",
       "      <td>[{\"cast_id\": 5, \"character\": \"Travis Bickle\", ...</td>\n",
       "      <td>[{\"credit_id\": \"52fe4218c3a36847f8003803\", \"de...</td>\n",
       "    </tr>\n",
       "    <tr>\n",
       "      <th>4602</th>\n",
       "      <td>350000</td>\n",
       "      <td>[{\"id\": 18, \"name\": \"Drama\"}]</td>\n",
       "      <td>389</td>\n",
       "      <td>[{\"id\": 934, \"name\": \"judge\"}, {\"id\": 1417, \"n...</td>\n",
       "      <td>en</td>\n",
       "      <td>12 Angry Men</td>\n",
       "      <td>The defense and the prosecution have rested an...</td>\n",
       "      <td>59.259204</td>\n",
       "      <td>[{\"name\": \"United Artists\", \"id\": 60}, {\"name\"...</td>\n",
       "      <td>1957-03-25</td>\n",
       "      <td>1000000</td>\n",
       "      <td>96.0</td>\n",
       "      <td>[{\"iso_639_1\": \"en\", \"name\": \"English\"}]</td>\n",
       "      <td>Life is in their hands. Death is on their minds.</td>\n",
       "      <td>8.2</td>\n",
       "      <td>2078</td>\n",
       "      <td>[{\"cast_id\": 29, \"character\": \"Juror 8\", \"cred...</td>\n",
       "      <td>[{\"credit_id\": \"52fe423dc3a36847f800ec55\", \"de...</td>\n",
       "    </tr>\n",
       "  </tbody>\n",
       "</table>\n",
       "<p>481 rows × 18 columns</p>\n",
       "</div>"
      ],
      "text/plain": [
       "         budget                                             genres      id  \\\n",
       "0     237000000  [{\"id\": 28, \"name\": \"Action\"}, {\"id\": 12, \"nam...   19995   \n",
       "1     300000000  [{\"id\": 12, \"name\": \"Adventure\"}, {\"id\": 14, \"...     285   \n",
       "2     245000000  [{\"id\": 28, \"name\": \"Action\"}, {\"id\": 12, \"nam...  206647   \n",
       "3     250000000  [{\"id\": 28, \"name\": \"Action\"}, {\"id\": 80, \"nam...   49026   \n",
       "4     260000000  [{\"id\": 28, \"name\": \"Action\"}, {\"id\": 12, \"nam...   49529   \n",
       "...         ...                                                ...     ...   \n",
       "4291    1200000  [{\"id\": 27, \"name\": \"Horror\"}, {\"id\": 9648, \"n...     176   \n",
       "4300    1200000  [{\"id\": 80, \"name\": \"Crime\"}, {\"id\": 53, \"name...     500   \n",
       "4302    1200000                    [{\"id\": 37, \"name\": \"Western\"}]     429   \n",
       "4337    1300000  [{\"id\": 80, \"name\": \"Crime\"}, {\"id\": 18, \"name...     103   \n",
       "4602     350000                      [{\"id\": 18, \"name\": \"Drama\"}]     389   \n",
       "\n",
       "                                               keywords original_language  \\\n",
       "0     [{\"id\": 1463, \"name\": \"culture clash\"}, {\"id\":...                en   \n",
       "1     [{\"id\": 270, \"name\": \"ocean\"}, {\"id\": 726, \"na...                en   \n",
       "2     [{\"id\": 470, \"name\": \"spy\"}, {\"id\": 818, \"name...                en   \n",
       "3     [{\"id\": 849, \"name\": \"dc comics\"}, {\"id\": 853,...                en   \n",
       "4     [{\"id\": 818, \"name\": \"based on novel\"}, {\"id\":...                en   \n",
       "...                                                 ...               ...   \n",
       "4291  [{\"id\": 1366, \"name\": \"shotgun\"}, {\"id\": 13000...                en   \n",
       "4300  [{\"id\": 2052, \"name\": \"traitor\"}, {\"id\": 6099,...                en   \n",
       "4302  [{\"id\": 801, \"name\": \"bounty hunter\"}, {\"id\": ...                it   \n",
       "4337  [{\"id\": 422, \"name\": \"vietnam veteran\"}, {\"id\"...                en   \n",
       "4602  [{\"id\": 934, \"name\": \"judge\"}, {\"id\": 1417, \"n...                en   \n",
       "\n",
       "                                original_title  \\\n",
       "0                                       Avatar   \n",
       "1     Pirates of the Caribbean: At World's End   \n",
       "2                                      Spectre   \n",
       "3                        The Dark Knight Rises   \n",
       "4                                  John Carter   \n",
       "...                                        ...   \n",
       "4291                                       Saw   \n",
       "4300                            Reservoir Dogs   \n",
       "4302           Il buono, il brutto, il cattivo   \n",
       "4337                               Taxi Driver   \n",
       "4602                              12 Angry Men   \n",
       "\n",
       "                                               overview  popularity  \\\n",
       "0     In the 22nd century, a paraplegic Marine is di...  150.437577   \n",
       "1     Captain Barbossa, long believed to be dead, ha...  139.082615   \n",
       "2     A cryptic message from Bond’s past sends him o...  107.376788   \n",
       "3     Following the death of District Attorney Harve...  112.312950   \n",
       "4     John Carter is a war-weary, former military ca...   43.926995   \n",
       "...                                                 ...         ...   \n",
       "4291  Obsessed with teaching his victims the value o...   63.655973   \n",
       "4300  A botched robbery indicates a police informant...   66.925866   \n",
       "4302  While the Civil War rages between the Union an...   88.377076   \n",
       "4337  A mentally unstable Vietnam War veteran works ...   58.845025   \n",
       "4602  The defense and the prosecution have rested an...   59.259204   \n",
       "\n",
       "                                   production_companies release_date  \\\n",
       "0     [{\"name\": \"Ingenious Film Partners\", \"id\": 289...   2009-12-10   \n",
       "1     [{\"name\": \"Walt Disney Pictures\", \"id\": 2}, {\"...   2007-05-19   \n",
       "2     [{\"name\": \"Columbia Pictures\", \"id\": 5}, {\"nam...   2015-10-26   \n",
       "3     [{\"name\": \"Legendary Pictures\", \"id\": 923}, {\"...   2012-07-16   \n",
       "4           [{\"name\": \"Walt Disney Pictures\", \"id\": 2}]   2012-03-07   \n",
       "...                                                 ...          ...   \n",
       "4291  [{\"name\": \"Lions Gate Films\", \"id\": 35}, {\"nam...   2004-10-01   \n",
       "4300  [{\"name\": \"Live Entertainment\", \"id\": 285}, {\"...   1992-09-02   \n",
       "4302  [{\"name\": \"United Artists\", \"id\": 60}, {\"name\"...   1966-12-23   \n",
       "4337  [{\"name\": \"Columbia Pictures Corporation\", \"id...   1976-02-07   \n",
       "4602  [{\"name\": \"United Artists\", \"id\": 60}, {\"name\"...   1957-03-25   \n",
       "\n",
       "         revenue  runtime                                   spoken_languages  \\\n",
       "0     2787965087    162.0  [{\"iso_639_1\": \"en\", \"name\": \"English\"}, {\"iso...   \n",
       "1      961000000    169.0           [{\"iso_639_1\": \"en\", \"name\": \"English\"}]   \n",
       "2      880674609    148.0  [{\"iso_639_1\": \"fr\", \"name\": \"Fran\\u00e7ais\"},...   \n",
       "3     1084939099    165.0           [{\"iso_639_1\": \"en\", \"name\": \"English\"}]   \n",
       "4      284139100    132.0           [{\"iso_639_1\": \"en\", \"name\": \"English\"}]   \n",
       "...          ...      ...                                                ...   \n",
       "4291   103911669    103.0           [{\"iso_639_1\": \"en\", \"name\": \"English\"}]   \n",
       "4300    14661007     99.0           [{\"iso_639_1\": \"en\", \"name\": \"English\"}]   \n",
       "4302     6000000    161.0          [{\"iso_639_1\": \"it\", \"name\": \"Italiano\"}]   \n",
       "4337    28262574    114.0  [{\"iso_639_1\": \"en\", \"name\": \"English\"}, {\"iso...   \n",
       "4602     1000000     96.0           [{\"iso_639_1\": \"en\", \"name\": \"English\"}]   \n",
       "\n",
       "                                                tagline  vote_average  \\\n",
       "0                           Enter the World of Pandora.           7.2   \n",
       "1        At the end of the world, the adventure begins.           6.9   \n",
       "2                                 A Plan No One Escapes           6.3   \n",
       "3                                       The Legend Ends           7.6   \n",
       "4                  Lost in our world, found in another.           6.1   \n",
       "...                                                 ...           ...   \n",
       "4291                     Live or die. Make your choice.           7.2   \n",
       "4300                             Every dog has his day.           8.0   \n",
       "4302  For three men the Civil War wasn't hell. It wa...           8.1   \n",
       "4337  On every street in every city, there's a nobod...           8.0   \n",
       "4602   Life is in their hands. Death is on their minds.           8.2   \n",
       "\n",
       "      vote_count                                               cast  \\\n",
       "0          11800  [{\"cast_id\": 242, \"character\": \"Jake Sully\", \"...   \n",
       "1           4500  [{\"cast_id\": 4, \"character\": \"Captain Jack Spa...   \n",
       "2           4466  [{\"cast_id\": 1, \"character\": \"James Bond\", \"cr...   \n",
       "3           9106  [{\"cast_id\": 2, \"character\": \"Bruce Wayne / Ba...   \n",
       "4           2124  [{\"cast_id\": 5, \"character\": \"John Carter\", \"c...   \n",
       "...          ...                                                ...   \n",
       "4291        2184  [{\"cast_id\": 4, \"character\": \"Dr. Lawrence Gor...   \n",
       "4300        3697  [{\"cast_id\": 20, \"character\": \"Mr. White/Larry...   \n",
       "4302        2311  [{\"cast_id\": 6, \"character\": \"Tuco\", \"credit_i...   \n",
       "4337        2535  [{\"cast_id\": 5, \"character\": \"Travis Bickle\", ...   \n",
       "4602        2078  [{\"cast_id\": 29, \"character\": \"Juror 8\", \"cred...   \n",
       "\n",
       "                                                   crew  \n",
       "0     [{\"credit_id\": \"52fe48009251416c750aca23\", \"de...  \n",
       "1     [{\"credit_id\": \"52fe4232c3a36847f800b579\", \"de...  \n",
       "2     [{\"credit_id\": \"54805967c3a36829b5002c41\", \"de...  \n",
       "3     [{\"credit_id\": \"52fe4781c3a36847f81398c3\", \"de...  \n",
       "4     [{\"credit_id\": \"52fe479ac3a36847f813eaa3\", \"de...  \n",
       "...                                                 ...  \n",
       "4291  [{\"credit_id\": \"52fe4223c3a36847f8006c57\", \"de...  \n",
       "4300  [{\"credit_id\": \"52fe424ac3a36847f8012cb9\", \"de...  \n",
       "4302  [{\"credit_id\": \"575aee00c3a3682d10000281\", \"de...  \n",
       "4337  [{\"credit_id\": \"52fe4218c3a36847f8003803\", \"de...  \n",
       "4602  [{\"credit_id\": \"52fe423dc3a36847f800ec55\", \"de...  \n",
       "\n",
       "[481 rows x 18 columns]"
      ]
     },
     "execution_count": 24,
     "metadata": {},
     "output_type": "execute_result"
    }
   ],
   "source": [
    "filtered_movies "
   ]
  },
  {
   "cell_type": "code",
   "execution_count": null,
   "id": "fb8a0d90",
   "metadata": {},
   "outputs": [
    {
     "name": "stderr",
     "output_type": "stream",
     "text": [
      "C:\\Users\\pthor\\AppData\\Local\\Temp\\ipykernel_30536\\995600111.py:1: SettingWithCopyWarning: \n",
      "A value is trying to be set on a copy of a slice from a DataFrame.\n",
      "Try using .loc[row_indexer,col_indexer] = value instead\n",
      "\n",
      "See the caveats in the documentation: https://pandas.pydata.org/pandas-docs/stable/user_guide/indexing.html#returning-a-view-versus-a-copy\n",
      "  filtered_movies['weighted_average'] = (filtered_movies['vote_count'] / (filtered_movies['vote_count'] + 10)) * filtered_movies['vote_average'] + (10 / (filtered_movies['vote_count'] + 10)) * C\n"
     ]
    }
   ],
   "source": [
    "filtered_movies['weighted_average'] = (filtered_movies['vote_count'] / (filtered_movies['vote_count'] + 10)) * filtered_movies['vote_average'] + (10 / (filtered_movies['vote_count'] + 10)) * C\n",
    "\n"
   ]
  },
  {
   "cell_type": "code",
   "execution_count": 26,
   "id": "181cd413",
   "metadata": {},
   "outputs": [
    {
     "data": {
      "text/plain": [
       "Index(['budget', 'genres', 'id', 'keywords', 'original_language',\n",
       "       'original_title', 'overview', 'popularity', 'production_companies',\n",
       "       'release_date', 'revenue', 'runtime', 'spoken_languages', 'tagline',\n",
       "       'vote_average', 'vote_count', 'cast', 'crew', 'weighted_average'],\n",
       "      dtype='object')"
      ]
     },
     "execution_count": 26,
     "metadata": {},
     "output_type": "execute_result"
    }
   ],
   "source": [
    "filtered_movies.columns"
   ]
  },
  {
   "cell_type": "code",
   "execution_count": null,
   "id": "5b1de715",
   "metadata": {},
   "outputs": [],
   "source": [
    "df_sorted_ranking = filtered_movies.sort_values('weighted_average', ascending=False).head(20)\n"
   ]
  },
  {
   "cell_type": "code",
   "execution_count": null,
   "id": "85ea8cfe",
   "metadata": {},
   "outputs": [
    {
     "data": {
      "text/plain": [
       "Index(['budget', 'genres', 'id', 'keywords', 'original_language',\n",
       "       'original_title', 'overview', 'popularity', 'production_companies',\n",
       "       'release_date', 'revenue', 'runtime', 'spoken_languages', 'tagline',\n",
       "       'vote_average', 'vote_count', 'cast', 'crew', 'weighted_average'],\n",
       "      dtype='object')"
      ]
     },
     "execution_count": 30,
     "metadata": {},
     "output_type": "execute_result"
    }
   ],
   "source": [
    "df_sorted_ranking.columns\n",
    "\n"
   ]
  },
  {
   "cell_type": "code",
   "execution_count": null,
   "id": "832dad63",
   "metadata": {},
   "outputs": [
    {
     "data": {
      "text/html": [
       "<div>\n",
       "<style scoped>\n",
       "    .dataframe tbody tr th:only-of-type {\n",
       "        vertical-align: middle;\n",
       "    }\n",
       "\n",
       "    .dataframe tbody tr th {\n",
       "        vertical-align: top;\n",
       "    }\n",
       "\n",
       "    .dataframe thead th {\n",
       "        text-align: right;\n",
       "    }\n",
       "</style>\n",
       "<table border=\"1\" class=\"dataframe\">\n",
       "  <thead>\n",
       "    <tr style=\"text-align: right;\">\n",
       "      <th></th>\n",
       "      <th>original_title</th>\n",
       "      <th>vote_count</th>\n",
       "      <th>vote_average</th>\n",
       "      <th>weighted_average</th>\n",
       "      <th>popularity</th>\n",
       "    </tr>\n",
       "  </thead>\n",
       "  <tbody>\n",
       "    <tr>\n",
       "      <th>1881</th>\n",
       "      <td>The Shawshank Redemption</td>\n",
       "      <td>8205</td>\n",
       "      <td>8.5</td>\n",
       "      <td>8.497069</td>\n",
       "      <td>136.747729</td>\n",
       "    </tr>\n",
       "    <tr>\n",
       "      <th>3337</th>\n",
       "      <td>The Godfather</td>\n",
       "      <td>5893</td>\n",
       "      <td>8.4</td>\n",
       "      <td>8.396090</td>\n",
       "      <td>143.659698</td>\n",
       "    </tr>\n",
       "    <tr>\n",
       "      <th>662</th>\n",
       "      <td>Fight Club</td>\n",
       "      <td>9413</td>\n",
       "      <td>8.3</td>\n",
       "      <td>8.297657</td>\n",
       "      <td>146.757391</td>\n",
       "    </tr>\n",
       "    <tr>\n",
       "      <th>3232</th>\n",
       "      <td>Pulp Fiction</td>\n",
       "      <td>8428</td>\n",
       "      <td>8.3</td>\n",
       "      <td>8.297383</td>\n",
       "      <td>121.463076</td>\n",
       "    </tr>\n",
       "    <tr>\n",
       "      <th>1818</th>\n",
       "      <td>Schindler's List</td>\n",
       "      <td>4329</td>\n",
       "      <td>8.3</td>\n",
       "      <td>8.294912</td>\n",
       "      <td>104.469351</td>\n",
       "    </tr>\n",
       "    <tr>\n",
       "      <th>3865</th>\n",
       "      <td>Whiplash</td>\n",
       "      <td>4254</td>\n",
       "      <td>8.3</td>\n",
       "      <td>8.294822</td>\n",
       "      <td>192.528841</td>\n",
       "    </tr>\n",
       "    <tr>\n",
       "      <th>2294</th>\n",
       "      <td>千と千尋の神隠し</td>\n",
       "      <td>3840</td>\n",
       "      <td>8.3</td>\n",
       "      <td>8.294265</td>\n",
       "      <td>118.968562</td>\n",
       "    </tr>\n",
       "    <tr>\n",
       "      <th>2731</th>\n",
       "      <td>The Godfather: Part II</td>\n",
       "      <td>3338</td>\n",
       "      <td>8.3</td>\n",
       "      <td>8.293406</td>\n",
       "      <td>105.792936</td>\n",
       "    </tr>\n",
       "    <tr>\n",
       "      <th>65</th>\n",
       "      <td>The Dark Knight</td>\n",
       "      <td>12002</td>\n",
       "      <td>8.2</td>\n",
       "      <td>8.198245</td>\n",
       "      <td>187.322927</td>\n",
       "    </tr>\n",
       "    <tr>\n",
       "      <th>809</th>\n",
       "      <td>Forrest Gump</td>\n",
       "      <td>7927</td>\n",
       "      <td>8.2</td>\n",
       "      <td>8.197344</td>\n",
       "      <td>138.133331</td>\n",
       "    </tr>\n",
       "  </tbody>\n",
       "</table>\n",
       "</div>"
      ],
      "text/plain": [
       "                original_title  vote_count  vote_average  weighted_average  \\\n",
       "1881  The Shawshank Redemption        8205           8.5          8.497069   \n",
       "3337             The Godfather        5893           8.4          8.396090   \n",
       "662                 Fight Club        9413           8.3          8.297657   \n",
       "3232              Pulp Fiction        8428           8.3          8.297383   \n",
       "1818          Schindler's List        4329           8.3          8.294912   \n",
       "3865                  Whiplash        4254           8.3          8.294822   \n",
       "2294                  千と千尋の神隠し        3840           8.3          8.294265   \n",
       "2731    The Godfather: Part II        3338           8.3          8.293406   \n",
       "65             The Dark Knight       12002           8.2          8.198245   \n",
       "809               Forrest Gump        7927           8.2          8.197344   \n",
       "\n",
       "      popularity  \n",
       "1881  136.747729  \n",
       "3337  143.659698  \n",
       "662   146.757391  \n",
       "3232  121.463076  \n",
       "1818  104.469351  \n",
       "3865  192.528841  \n",
       "2294  118.968562  \n",
       "2731  105.792936  \n",
       "65    187.322927  \n",
       "809   138.133331  "
      ]
     },
     "execution_count": 31,
     "metadata": {},
     "output_type": "execute_result"
    }
   ],
   "source": [
    "df_sorted_ranking[['original_title', 'vote_count', 'vote_average', 'weighted_average', 'popularity']].head(10)\n"
   ]
  },
  {
   "cell_type": "code",
   "execution_count": 33,
   "id": "a9cb340e",
   "metadata": {},
   "outputs": [
    {
     "data": {
      "text/plain": [
       "<Axes: xlabel='weighted_average', ylabel='original_title'>"
      ]
     },
     "execution_count": 33,
     "metadata": {},
     "output_type": "execute_result"
    },
    {
     "data": {
      "image/png": "[encoded data removed]",
      "text/plain": [
       "<Figure size 640x480 with 1 Axes>"
      ]
     },
     "metadata": {},
     "output_type": "display_data"
    }
   ],
   "source": [
    "import warnings \n",
    "from warnings import filterwarnings\n",
    "filterwarnings('ignore')\n",
    "sns.barplot(x = df_sorted_ranking['weighted_average'] , y = df_sorted_ranking['original_title'])\n"
   ]
  },
  {
   "cell_type": "code",
   "execution_count": 34,
   "id": "24b53295",
   "metadata": {},
   "outputs": [
    {
     "data": {
      "text/plain": [
       "Index(['budget', 'genres', 'id', 'keywords', 'original_language',\n",
       "       'original_title', 'overview', 'popularity', 'production_companies',\n",
       "       'release_date', 'revenue', 'runtime', 'spoken_languages', 'tagline',\n",
       "       'vote_average', 'vote_count', 'cast', 'crew', 'weighted_average'],\n",
       "      dtype='object')"
      ]
     },
     "execution_count": 34,
     "metadata": {},
     "output_type": "execute_result"
    }
   ],
   "source": [
    "filtered_movies.columns\n",
    "\n"
   ]
  },
  {
   "cell_type": "code",
   "execution_count": null,
   "id": "b054d291",
   "metadata": {},
   "outputs": [],
   "source": [
    "popularity_df = filtered_movies.sort_values('popularity', ascending=False)\n",
    "\n"
   ]
  },
  {
   "cell_type": "code",
   "execution_count": 36,
   "id": "14c43e7c",
   "metadata": {},
   "outputs": [
    {
     "data": {
      "text/plain": [
       "546     875.581305\n",
       "95      724.247784\n",
       "788     514.569956\n",
       "94      481.098624\n",
       "127     434.278564\n",
       "           ...    \n",
       "101       3.195174\n",
       "203       2.871739\n",
       "508       2.502487\n",
       "2511      2.186927\n",
       "334       1.859364\n",
       "Name: popularity, Length: 481, dtype: float64"
      ]
     },
     "execution_count": 36,
     "metadata": {},
     "output_type": "execute_result"
    }
   ],
   "source": [
    "popularity_df['popularity']"
   ]
  },
  {
   "cell_type": "code",
   "execution_count": 37,
   "id": "98893d49",
   "metadata": {},
   "outputs": [
    {
     "data": {
      "text/plain": [
       "original_title\n",
       "Minions                          875.581305\n",
       "Interstellar                     724.247784\n",
       "Deadpool                         514.569956\n",
       "Guardians of the Galaxy          481.098624\n",
       "Mad Max: Fury Road               434.278564\n",
       "                                    ...    \n",
       "X-Men: First Class                 3.195174\n",
       "X2                                 2.871739\n",
       "The Lost World: Jurassic Park      2.502487\n",
       "Home Alone                         2.186927\n",
       "Jurassic Park III                  1.859364\n",
       "Name: popularity, Length: 481, dtype: float64"
      ]
     },
     "execution_count": 37,
     "metadata": {},
     "output_type": "execute_result"
    }
   ],
   "source": [
    "popularity_df.set_index('original_title')['popularity']"
   ]
  },
  {
   "cell_type": "code",
   "execution_count": null,
   "id": "906f50b8",
   "metadata": {},
   "outputs": [
    {
     "data": {
      "text/plain": [
       "<Axes: ylabel='original_title'>"
      ]
     },
     "execution_count": 38,
     "metadata": {},
     "output_type": "execute_result"
    },
    {
     "data": {
      "image/png": "[encoded data removed]",
      "text/plain": [
       "<Figure size 640x480 with 1 Axes>"
      ]
     },
     "metadata": {},
     "output_type": "display_data"
    }
   ],
   "source": [
    "popularity_df.set_index('original_title')['popularity'][0:10].plot.barh()\n",
    "\n"
   ]
  },
  {
   "cell_type": "code",
   "execution_count": null,
   "id": "2f8da127",
   "metadata": {},
   "outputs": [
    {
     "data": {
      "text/plain": [
       "(481, 19)"
      ]
     },
     "execution_count": 39,
     "metadata": {},
     "output_type": "execute_result"
    }
   ],
   "source": [
    "## To Normalize data using MinMaxScaler\n",
    "filtered_movies.shape\n"
   ]
  },
  {
   "cell_type": "code",
   "execution_count": null,
   "id": "80f582a4",
   "metadata": {},
   "outputs": [
    {
     "data": {
      "text/plain": [
       "Index(['budget', 'genres', 'id', 'keywords', 'original_language',\n",
       "       'original_title', 'overview', 'popularity', 'production_companies',\n",
       "       'release_date', 'revenue', 'runtime', 'spoken_languages', 'tagline',\n",
       "       'vote_average', 'vote_count', 'cast', 'crew', 'weighted_average'],\n",
       "      dtype='object')"
      ]
     },
     "execution_count": 40,
     "metadata": {},
     "output_type": "execute_result"
    }
   ],
   "source": [
    "filtered_movies.columns\n"
   ]
  },
  {
   "cell_type": "code",
   "execution_count": 41,
   "id": "a53f6a12",
   "metadata": {},
   "outputs": [],
   "source": [
    "from sklearn.preprocessing import MinMaxScaler"
   ]
  },
  {
   "cell_type": "code",
   "execution_count": 43,
   "id": "a8b6a95e",
   "metadata": {},
   "outputs": [],
   "source": [
    "scaler = MinMaxScaler()\n",
    "\n",
    "scaling_values = scaler.fit_transform(filtered_movies[['weighted_average', 'popularity']])"
   ]
  },
  {
   "cell_type": "code",
   "execution_count": 44,
   "id": "29ffbcf4",
   "metadata": {},
   "outputs": [],
   "source": [
    "filtered_movies[['weighted_average_scaled', 'popularity_scaled']] = scaling_values\n"
   ]
  },
  {
   "cell_type": "code",
   "execution_count": 45,
   "id": "58cce6cb",
   "metadata": {},
   "outputs": [
    {
     "data": {
      "text/plain": [
       "Index(['budget', 'genres', 'id', 'keywords', 'original_language',\n",
       "       'original_title', 'overview', 'popularity', 'production_companies',\n",
       "       'release_date', 'revenue', 'runtime', 'spoken_languages', 'tagline',\n",
       "       'vote_average', 'vote_count', 'cast', 'crew', 'weighted_average',\n",
       "       'weighted_average_scaled', 'popularity_scaled'],\n",
       "      dtype='object')"
      ]
     },
     "execution_count": 45,
     "metadata": {},
     "output_type": "execute_result"
    }
   ],
   "source": [
    "filtered_movies.columns\n"
   ]
  },
  {
   "cell_type": "code",
   "execution_count": null,
   "id": "bac98f50",
   "metadata": {},
   "outputs": [],
   "source": [
    "filtered_movies['score_mix'] = filtered_movies['weighted_average_scaled'] * 0.5 + filtered_movies['popularity_scaled'] * 0.5\n",
    "\n"
   ]
  },
  {
   "cell_type": "code",
   "execution_count": 47,
   "id": "f38476ca",
   "metadata": {},
   "outputs": [
    {
     "data": {
      "text/html": [
       "<div>\n",
       "<style scoped>\n",
       "    .dataframe tbody tr th:only-of-type {\n",
       "        vertical-align: middle;\n",
       "    }\n",
       "\n",
       "    .dataframe tbody tr th {\n",
       "        vertical-align: top;\n",
       "    }\n",
       "\n",
       "    .dataframe thead th {\n",
       "        text-align: right;\n",
       "    }\n",
       "</style>\n",
       "<table border=\"1\" class=\"dataframe\">\n",
       "  <thead>\n",
       "    <tr style=\"text-align: right;\">\n",
       "      <th></th>\n",
       "      <th>budget</th>\n",
       "      <th>genres</th>\n",
       "      <th>id</th>\n",
       "      <th>keywords</th>\n",
       "      <th>original_language</th>\n",
       "      <th>original_title</th>\n",
       "      <th>overview</th>\n",
       "      <th>popularity</th>\n",
       "      <th>production_companies</th>\n",
       "      <th>release_date</th>\n",
       "      <th>...</th>\n",
       "      <th>spoken_languages</th>\n",
       "      <th>tagline</th>\n",
       "      <th>vote_average</th>\n",
       "      <th>vote_count</th>\n",
       "      <th>cast</th>\n",
       "      <th>crew</th>\n",
       "      <th>weighted_average</th>\n",
       "      <th>weighted_average_scaled</th>\n",
       "      <th>popularity_scaled</th>\n",
       "      <th>score_mix</th>\n",
       "    </tr>\n",
       "  </thead>\n",
       "  <tbody>\n",
       "    <tr>\n",
       "      <th>0</th>\n",
       "      <td>237000000</td>\n",
       "      <td>[{\"id\": 28, \"name\": \"Action\"}, {\"id\": 12, \"nam...</td>\n",
       "      <td>19995</td>\n",
       "      <td>[{\"id\": 1463, \"name\": \"culture clash\"}, {\"id\":...</td>\n",
       "      <td>en</td>\n",
       "      <td>Avatar</td>\n",
       "      <td>In the 22nd century, a paraplegic Marine is di...</td>\n",
       "      <td>150.437577</td>\n",
       "      <td>[{\"name\": \"Ingenious Film Partners\", \"id\": 289...</td>\n",
       "      <td>2009-12-10</td>\n",
       "      <td>...</td>\n",
       "      <td>[{\"iso_639_1\": \"en\", \"name\": \"English\"}, {\"iso...</td>\n",
       "      <td>Enter the World of Pandora.</td>\n",
       "      <td>7.2</td>\n",
       "      <td>11800</td>\n",
       "      <td>[{\"cast_id\": 242, \"character\": \"Jake Sully\", \"...</td>\n",
       "      <td>[{\"credit_id\": \"52fe48009251416c750aca23\", \"de...</td>\n",
       "      <td>7.199062</td>\n",
       "      <td>0.682614</td>\n",
       "      <td>0.170052</td>\n",
       "      <td>0.426333</td>\n",
       "    </tr>\n",
       "    <tr>\n",
       "      <th>1</th>\n",
       "      <td>300000000</td>\n",
       "      <td>[{\"id\": 12, \"name\": \"Adventure\"}, {\"id\": 14, \"...</td>\n",
       "      <td>285</td>\n",
       "      <td>[{\"id\": 270, \"name\": \"ocean\"}, {\"id\": 726, \"na...</td>\n",
       "      <td>en</td>\n",
       "      <td>Pirates of the Caribbean: At World's End</td>\n",
       "      <td>Captain Barbossa, long believed to be dead, ha...</td>\n",
       "      <td>139.082615</td>\n",
       "      <td>[{\"name\": \"Walt Disney Pictures\", \"id\": 2}, {\"...</td>\n",
       "      <td>2007-05-19</td>\n",
       "      <td>...</td>\n",
       "      <td>[{\"iso_639_1\": \"en\", \"name\": \"English\"}]</td>\n",
       "      <td>At the end of the world, the adventure begins.</td>\n",
       "      <td>6.9</td>\n",
       "      <td>4500</td>\n",
       "      <td>[{\"cast_id\": 4, \"character\": \"Captain Jack Spa...</td>\n",
       "      <td>[{\"credit_id\": \"52fe4232c3a36847f800b579\", \"de...</td>\n",
       "      <td>6.898209</td>\n",
       "      <td>0.609049</td>\n",
       "      <td>0.157056</td>\n",
       "      <td>0.383053</td>\n",
       "    </tr>\n",
       "    <tr>\n",
       "      <th>2</th>\n",
       "      <td>245000000</td>\n",
       "      <td>[{\"id\": 28, \"name\": \"Action\"}, {\"id\": 12, \"nam...</td>\n",
       "      <td>206647</td>\n",
       "      <td>[{\"id\": 470, \"name\": \"spy\"}, {\"id\": 818, \"name...</td>\n",
       "      <td>en</td>\n",
       "      <td>Spectre</td>\n",
       "      <td>A cryptic message from Bond’s past sends him o...</td>\n",
       "      <td>107.376788</td>\n",
       "      <td>[{\"name\": \"Columbia Pictures\", \"id\": 5}, {\"nam...</td>\n",
       "      <td>2015-10-26</td>\n",
       "      <td>...</td>\n",
       "      <td>[{\"iso_639_1\": \"fr\", \"name\": \"Fran\\u00e7ais\"},...</td>\n",
       "      <td>A Plan No One Escapes</td>\n",
       "      <td>6.3</td>\n",
       "      <td>4466</td>\n",
       "      <td>[{\"cast_id\": 1, \"character\": \"James Bond\", \"cr...</td>\n",
       "      <td>[{\"credit_id\": \"54805967c3a36829b5002c41\", \"de...</td>\n",
       "      <td>6.299536</td>\n",
       "      <td>0.462663</td>\n",
       "      <td>0.120768</td>\n",
       "      <td>0.291715</td>\n",
       "    </tr>\n",
       "    <tr>\n",
       "      <th>3</th>\n",
       "      <td>250000000</td>\n",
       "      <td>[{\"id\": 28, \"name\": \"Action\"}, {\"id\": 80, \"nam...</td>\n",
       "      <td>49026</td>\n",
       "      <td>[{\"id\": 849, \"name\": \"dc comics\"}, {\"id\": 853,...</td>\n",
       "      <td>en</td>\n",
       "      <td>The Dark Knight Rises</td>\n",
       "      <td>Following the death of District Attorney Harve...</td>\n",
       "      <td>112.312950</td>\n",
       "      <td>[{\"name\": \"Legendary Pictures\", \"id\": 923}, {\"...</td>\n",
       "      <td>2012-07-16</td>\n",
       "      <td>...</td>\n",
       "      <td>[{\"iso_639_1\": \"en\", \"name\": \"English\"}]</td>\n",
       "      <td>The Legend Ends</td>\n",
       "      <td>7.6</td>\n",
       "      <td>9106</td>\n",
       "      <td>[{\"cast_id\": 2, \"character\": \"Bruce Wayne / Ba...</td>\n",
       "      <td>[{\"credit_id\": \"52fe4781c3a36847f81398c3\", \"de...</td>\n",
       "      <td>7.598346</td>\n",
       "      <td>0.780246</td>\n",
       "      <td>0.126417</td>\n",
       "      <td>0.453332</td>\n",
       "    </tr>\n",
       "  </tbody>\n",
       "</table>\n",
       "<p>4 rows × 22 columns</p>\n",
       "</div>"
      ],
      "text/plain": [
       "      budget                                             genres      id  \\\n",
       "0  237000000  [{\"id\": 28, \"name\": \"Action\"}, {\"id\": 12, \"nam...   19995   \n",
       "1  300000000  [{\"id\": 12, \"name\": \"Adventure\"}, {\"id\": 14, \"...     285   \n",
       "2  245000000  [{\"id\": 28, \"name\": \"Action\"}, {\"id\": 12, \"nam...  206647   \n",
       "3  250000000  [{\"id\": 28, \"name\": \"Action\"}, {\"id\": 80, \"nam...   49026   \n",
       "\n",
       "                                            keywords original_language  \\\n",
       "0  [{\"id\": 1463, \"name\": \"culture clash\"}, {\"id\":...                en   \n",
       "1  [{\"id\": 270, \"name\": \"ocean\"}, {\"id\": 726, \"na...                en   \n",
       "2  [{\"id\": 470, \"name\": \"spy\"}, {\"id\": 818, \"name...                en   \n",
       "3  [{\"id\": 849, \"name\": \"dc comics\"}, {\"id\": 853,...                en   \n",
       "\n",
       "                             original_title  \\\n",
       "0                                    Avatar   \n",
       "1  Pirates of the Caribbean: At World's End   \n",
       "2                                   Spectre   \n",
       "3                     The Dark Knight Rises   \n",
       "\n",
       "                                            overview  popularity  \\\n",
       "0  In the 22nd century, a paraplegic Marine is di...  150.437577   \n",
       "1  Captain Barbossa, long believed to be dead, ha...  139.082615   \n",
       "2  A cryptic message from Bond’s past sends him o...  107.376788   \n",
       "3  Following the death of District Attorney Harve...  112.312950   \n",
       "\n",
       "                                production_companies release_date  ...  \\\n",
       "0  [{\"name\": \"Ingenious Film Partners\", \"id\": 289...   2009-12-10  ...   \n",
       "1  [{\"name\": \"Walt Disney Pictures\", \"id\": 2}, {\"...   2007-05-19  ...   \n",
       "2  [{\"name\": \"Columbia Pictures\", \"id\": 5}, {\"nam...   2015-10-26  ...   \n",
       "3  [{\"name\": \"Legendary Pictures\", \"id\": 923}, {\"...   2012-07-16  ...   \n",
       "\n",
       "                                    spoken_languages  \\\n",
       "0  [{\"iso_639_1\": \"en\", \"name\": \"English\"}, {\"iso...   \n",
       "1           [{\"iso_639_1\": \"en\", \"name\": \"English\"}]   \n",
       "2  [{\"iso_639_1\": \"fr\", \"name\": \"Fran\\u00e7ais\"},...   \n",
       "3           [{\"iso_639_1\": \"en\", \"name\": \"English\"}]   \n",
       "\n",
       "                                          tagline vote_average vote_count  \\\n",
       "0                     Enter the World of Pandora.          7.2      11800   \n",
       "1  At the end of the world, the adventure begins.          6.9       4500   \n",
       "2                           A Plan No One Escapes          6.3       4466   \n",
       "3                                 The Legend Ends          7.6       9106   \n",
       "\n",
       "                                                cast  \\\n",
       "0  [{\"cast_id\": 242, \"character\": \"Jake Sully\", \"...   \n",
       "1  [{\"cast_id\": 4, \"character\": \"Captain Jack Spa...   \n",
       "2  [{\"cast_id\": 1, \"character\": \"James Bond\", \"cr...   \n",
       "3  [{\"cast_id\": 2, \"character\": \"Bruce Wayne / Ba...   \n",
       "\n",
       "                                                crew weighted_average  \\\n",
       "0  [{\"credit_id\": \"52fe48009251416c750aca23\", \"de...         7.199062   \n",
       "1  [{\"credit_id\": \"52fe4232c3a36847f800b579\", \"de...         6.898209   \n",
       "2  [{\"credit_id\": \"54805967c3a36829b5002c41\", \"de...         6.299536   \n",
       "3  [{\"credit_id\": \"52fe4781c3a36847f81398c3\", \"de...         7.598346   \n",
       "\n",
       "  weighted_average_scaled  popularity_scaled  score_mix  \n",
       "0                0.682614           0.170052   0.426333  \n",
       "1                0.609049           0.157056   0.383053  \n",
       "2                0.462663           0.120768   0.291715  \n",
       "3                0.780246           0.126417   0.453332  \n",
       "\n",
       "[4 rows x 22 columns]"
      ]
     },
     "execution_count": 47,
     "metadata": {},
     "output_type": "execute_result"
    }
   ],
   "source": [
    "filtered_movies.head(4)"
   ]
  },
  {
   "cell_type": "code",
   "execution_count": null,
   "id": "bf0e1ff5",
   "metadata": {},
   "outputs": [],
   "source": [
    "rank_df = filtered_movies.sort_values('score_mix', ascending=False).head(10)\n"
   ]
  },
  {
   "cell_type": "code",
   "execution_count": 50,
   "id": "e7f95008",
   "metadata": {},
   "outputs": [],
   "source": [
    "import plotly.express as px\n"
   ]
  },
  {
   "cell_type": "code",
   "execution_count": 51,
   "id": "705c3518",
   "metadata": {},
   "outputs": [
    {
     "data": {
      "application/vnd.plotly.v1+json": {
       "config": {
        "plotlyServerURL": "https://plot.ly"
       },
       "data": [
        {
         "alignmentgroup": "True",
         "hovertemplate": "original_title=%{x}<br>score_mix=%{y}<br>weighted_average_scaled=%{marker.color}<extra></extra>",
         "legendgroup": "",
         "marker": {
          "color": [
           0.902457993034097,
           0.4870639079991945,
           0.8535524064965432,
           0.7314559513388719,
           0.6825558268094449,
           0.9505469476281032,
           1,
           0.9269321178385033,
           0.9753088895029567,
           0.9512401114155562
          ],
          "coloraxis": "coloraxis",
          "pattern": {
           "shape": ""
          }
         },
         "name": "",
         "offsetgroup": "",
         "orientation": "v",
         "showlegend": false,
         "textposition": "auto",
         "type": "bar",
         "x": [
          "Interstellar",
          "Minions",
          "Guardians of the Galaxy",
          "Deadpool",
          "Mad Max: Fury Road",
          "Whiplash",
          "The Shawshank Redemption",
          "The Dark Knight",
          "The Godfather",
          "Fight Club"
         ],
         "xaxis": "x",
         "y": [
          0.864626203397996,
          0.7435319539995973,
          0.7010277914889749,
          0.6591340170772939,
          0.5887360460831143,
          0.5843868358876727,
          0.5771918150788432,
          0.5696002615167803,
          0.5688017339209053,
          0.5585400444367781
         ],
         "yaxis": "y"
        }
       ],
       "layout": {
        "barmode": "relative",
        "coloraxis": {
         "colorbar": {
          "title": {
           "text": "weighted_average_scaled"
          }
         },
         "colorscale": [
          [
           0,
           "#0d0887"
          ],
          [
           0.1111111111111111,
           "#46039f"
          ],
          [
           0.2222222222222222,
           "#7201a8"
          ],
          [
           0.3333333333333333,
           "#9c179e"
          ],
          [
           0.4444444444444444,
           "#bd3786"
          ],
          [
           0.5555555555555556,
           "#d8576b"
          ],
          [
           0.6666666666666666,
           "#ed7953"
          ],
          [
           0.7777777777777778,
           "#fb9f3a"
          ],
          [
           0.8888888888888888,
           "#fdca26"
          ],
          [
           1,
           "#f0f921"
          ]
         ]
        },
        "legend": {
         "tracegroupgap": 0
        },
        "template": {
         "data": {
          "bar": [
           {
            "error_x": {
             "color": "#2a3f5f"
            },
            "error_y": {
             "color": "#2a3f5f"
            },
            "marker": {
             "line": {
              "color": "#E5ECF6",
              "width": 0.5
             },
             "pattern": {
              "fillmode": "overlay",
              "size": 10,
              "solidity": 0.2
             }
            },
            "type": "bar"
           }
          ],
          "barpolar": [
           {
            "marker": {
             "line": {
              "color": "#E5ECF6",
              "width": 0.5
             },
             "pattern": {
              "fillmode": "overlay",
              "size": 10,
              "solidity": 0.2
             }
            },
            "type": "barpolar"
           }
          ],
          "carpet": [
           {
            "aaxis": {
             "endlinecolor": "#2a3f5f",
             "gridcolor": "white",
             "linecolor": "white",
             "minorgridcolor": "white",
             "startlinecolor": "#2a3f5f"
            },
            "baxis": {
             "endlinecolor": "#2a3f5f",
             "gridcolor": "white",
             "linecolor": "white",
             "minorgridcolor": "white",
             "startlinecolor": "#2a3f5f"
            },
            "type": "carpet"
           }
          ],
          "choropleth": [
           {
            "colorbar": {
             "outlinewidth": 0,
             "ticks": ""
            },
            "type": "choropleth"
           }
          ],
          "contour": [
           {
            "colorbar": {
             "outlinewidth": 0,
             "ticks": ""
            },
            "colorscale": [
             [
              0,
              "#0d0887"
             ],
             [
              0.1111111111111111,
              "#46039f"
             ],
             [
              0.2222222222222222,
              "#7201a8"
             ],
             [
              0.3333333333333333,
              "#9c179e"
             ],
             [
              0.4444444444444444,
              "#bd3786"
             ],
             [
              0.5555555555555556,
              "#d8576b"
             ],
             [
              0.6666666666666666,
              "#ed7953"
             ],
             [
              0.7777777777777778,
              "#fb9f3a"
             ],
             [
              0.8888888888888888,
              "#fdca26"
             ],
             [
              1,
              "#f0f921"
             ]
            ],
            "type": "contour"
           }
          ],
          "contourcarpet": [
           {
            "colorbar": {
             "outlinewidth": 0,
             "ticks": ""
            },
            "type": "contourcarpet"
           }
          ],
          "heatmap": [
           {
            "colorbar": {
             "outlinewidth": 0,
             "ticks": ""
            },
            "colorscale": [
             [
              0,
              "#0d0887"
             ],
             [
              0.1111111111111111,
              "#46039f"
             ],
             [
              0.2222222222222222,
              "#7201a8"
             ],
             [
              0.3333333333333333,
              "#9c179e"
             ],
             [
              0.4444444444444444,
              "#bd3786"
             ],
             [
              0.5555555555555556,
              "#d8576b"
             ],
             [
              0.6666666666666666,
              "#ed7953"
             ],
             [
              0.7777777777777778,
              "#fb9f3a"
             ],
             [
              0.8888888888888888,
              "#fdca26"
             ],
             [
              1,
              "#f0f921"
             ]
            ],
            "type": "heatmap"
           }
          ],
          "heatmapgl": [
           {
            "colorbar": {
             "outlinewidth": 0,
             "ticks": ""
            },
            "colorscale": [
             [
              0,
              "#0d0887"
             ],
             [
              0.1111111111111111,
              "#46039f"
             ],
             [
              0.2222222222222222,
              "#7201a8"
             ],
             [
              0.3333333333333333,
              "#9c179e"
             ],
             [
              0.4444444444444444,
              "#bd3786"
             ],
             [
              0.5555555555555556,
              "#d8576b"
             ],
             [
              0.6666666666666666,
              "#ed7953"
             ],
             [
              0.7777777777777778,
              "#fb9f3a"
             ],
             [
              0.8888888888888888,
              "#fdca26"
             ],
             [
              1,
              "#f0f921"
             ]
            ],
            "type": "heatmapgl"
           }
          ],
          "histogram": [
           {
            "marker": {
             "pattern": {
              "fillmode": "overlay",
              "size": 10,
              "solidity": 0.2
             }
            },
            "type": "histogram"
           }
          ],
          "histogram2d": [
           {
            "colorbar": {
             "outlinewidth": 0,
             "ticks": ""
            },
            "colorscale": [
             [
              0,
              "#0d0887"
             ],
             [
              0.1111111111111111,
              "#46039f"
             ],
             [
              0.2222222222222222,
              "#7201a8"
             ],
             [
              0.3333333333333333,
              "#9c179e"
             ],
             [
              0.4444444444444444,
              "#bd3786"
             ],
             [
              0.5555555555555556,
              "#d8576b"
             ],
             [
              0.6666666666666666,
              "#ed7953"
             ],
             [
              0.7777777777777778,
              "#fb9f3a"
             ],
             [
              0.8888888888888888,
              "#fdca26"
             ],
             [
              1,
              "#f0f921"
             ]
            ],
            "type": "histogram2d"
           }
          ],
          "histogram2dcontour": [
           {
            "colorbar": {
             "outlinewidth": 0,
             "ticks": ""
            },
            "colorscale": [
             [
              0,
              "#0d0887"
             ],
             [
              0.1111111111111111,
              "#46039f"
             ],
             [
              0.2222222222222222,
              "#7201a8"
             ],
             [
              0.3333333333333333,
              "#9c179e"
             ],
             [
              0.4444444444444444,
              "#bd3786"
             ],
             [
              0.5555555555555556,
              "#d8576b"
             ],
             [
              0.6666666666666666,
              "#ed7953"
             ],
             [
              0.7777777777777778,
              "#fb9f3a"
             ],
             [
              0.8888888888888888,
              "#fdca26"
             ],
             [
              1,
              "#f0f921"
             ]
            ],
            "type": "histogram2dcontour"
           }
          ],
          "mesh3d": [
           {
            "colorbar": {
             "outlinewidth": 0,
             "ticks": ""
            },
            "type": "mesh3d"
           }
          ],
          "parcoords": [
           {
            "line": {
             "colorbar": {
              "outlinewidth": 0,
              "ticks": ""
             }
            },
            "type": "parcoords"
           }
          ],
          "pie": [
           {
            "automargin": true,
            "type": "pie"
           }
          ],
          "scatter": [
           {
            "fillpattern": {
             "fillmode": "overlay",
             "size": 10,
             "solidity": 0.2
            },
            "type": "scatter"
           }
          ],
          "scatter3d": [
           {
            "line": {
             "colorbar": {
              "outlinewidth": 0,
              "ticks": ""
             }
            },
            "marker": {
             "colorbar": {
              "outlinewidth": 0,
              "ticks": ""
             }
            },
            "type": "scatter3d"
           }
          ],
          "scattercarpet": [
           {
            "marker": {
             "colorbar": {
              "outlinewidth": 0,
              "ticks": ""
             }
            },
            "type": "scattercarpet"
           }
          ],
          "scattergeo": [
           {
            "marker": {
             "colorbar": {
              "outlinewidth": 0,
              "ticks": ""
             }
            },
            "type": "scattergeo"
           }
          ],
          "scattergl": [
           {
            "marker": {
             "colorbar": {
              "outlinewidth": 0,
              "ticks": ""
             }
            },
            "type": "scattergl"
           }
          ],
          "scattermapbox": [
           {
            "marker": {
             "colorbar": {
              "outlinewidth": 0,
              "ticks": ""
             }
            },
            "type": "scattermapbox"
           }
          ],
          "scatterpolar": [
           {
            "marker": {
             "colorbar": {
              "outlinewidth": 0,
              "ticks": ""
             }
            },
            "type": "scatterpolar"
           }
          ],
          "scatterpolargl": [
           {
            "marker": {
             "colorbar": {
              "outlinewidth": 0,
              "ticks": ""
             }
            },
            "type": "scatterpolargl"
           }
          ],
          "scatterternary": [
           {
            "marker": {
             "colorbar": {
              "outlinewidth": 0,
              "ticks": ""
             }
            },
            "type": "scatterternary"
           }
          ],
          "surface": [
           {
            "colorbar": {
             "outlinewidth": 0,
             "ticks": ""
            },
            "colorscale": [
             [
              0,
              "#0d0887"
             ],
             [
              0.1111111111111111,
              "#46039f"
             ],
             [
              0.2222222222222222,
              "#7201a8"
             ],
             [
              0.3333333333333333,
              "#9c179e"
             ],
             [
              0.4444444444444444,
              "#bd3786"
             ],
             [
              0.5555555555555556,
              "#d8576b"
             ],
             [
              0.6666666666666666,
              "#ed7953"
             ],
             [
              0.7777777777777778,
              "#fb9f3a"
             ],
             [
              0.8888888888888888,
              "#fdca26"
             ],
             [
              1,
              "#f0f921"
             ]
            ],
            "type": "surface"
           }
          ],
          "table": [
           {
            "cells": {
             "fill": {
              "color": "#EBF0F8"
             },
             "line": {
              "color": "white"
             }
            },
            "header": {
             "fill": {
              "color": "#C8D4E3"
             },
             "line": {
              "color": "white"
             }
            },
            "type": "table"
           }
          ]
         },
         "layout": {
          "annotationdefaults": {
           "arrowcolor": "#2a3f5f",
           "arrowhead": 0,
           "arrowwidth": 1
          },
          "autotypenumbers": "strict",
          "coloraxis": {
           "colorbar": {
            "outlinewidth": 0,
            "ticks": ""
           }
          },
          "colorscale": {
           "diverging": [
            [
             0,
             "#8e0152"
            ],
            [
             0.1,
             "#c51b7d"
            ],
            [
             0.2,
             "#de77ae"
            ],
            [
             0.3,
             "#f1b6da"
            ],
            [
             0.4,
             "#fde0ef"
            ],
            [
             0.5,
             "#f7f7f7"
            ],
            [
             0.6,
             "#e6f5d0"
            ],
            [
             0.7,
             "#b8e186"
            ],
            [
             0.8,
             "#7fbc41"
            ],
            [
             0.9,
             "#4d9221"
            ],
            [
             1,
             "#276419"
            ]
           ],
           "sequential": [
            [
             0,
             "#0d0887"
            ],
            [
             0.1111111111111111,
             "#46039f"
            ],
            [
             0.2222222222222222,
             "#7201a8"
            ],
            [
             0.3333333333333333,
             "#9c179e"
            ],
            [
             0.4444444444444444,
             "#bd3786"
            ],
            [
             0.5555555555555556,
             "#d8576b"
            ],
            [
             0.6666666666666666,
             "#ed7953"
            ],
            [
             0.7777777777777778,
             "#fb9f3a"
            ],
            [
             0.8888888888888888,
             "#fdca26"
            ],
            [
             1,
             "#f0f921"
            ]
           ],
           "sequentialminus": [
            [
             0,
             "#0d0887"
            ],
            [
             0.1111111111111111,
             "#46039f"
            ],
            [
             0.2222222222222222,
             "#7201a8"
            ],
            [
             0.3333333333333333,
             "#9c179e"
            ],
            [
             0.4444444444444444,
             "#bd3786"
            ],
            [
             0.5555555555555556,
             "#d8576b"
            ],
            [
             0.6666666666666666,
             "#ed7953"
            ],
            [
             0.7777777777777778,
             "#fb9f3a"
            ],
            [
             0.8888888888888888,
             "#fdca26"
            ],
            [
             1,
             "#f0f921"
            ]
           ]
          },
          "colorway": [
           "#636efa",
           "#EF553B",
           "#00cc96",
           "#ab63fa",
           "#FFA15A",
           "#19d3f3",
           "#FF6692",
           "#B6E880",
           "#FF97FF",
           "#FECB52"
          ],
          "font": {
           "color": "#2a3f5f"
          },
          "geo": {
           "bgcolor": "white",
           "lakecolor": "white",
           "landcolor": "#E5ECF6",
           "showlakes": true,
           "showland": true,
           "subunitcolor": "white"
          },
          "hoverlabel": {
           "align": "left"
          },
          "hovermode": "closest",
          "mapbox": {
           "style": "light"
          },
          "paper_bgcolor": "white",
          "plot_bgcolor": "#E5ECF6",
          "polar": {
           "angularaxis": {
            "gridcolor": "white",
            "linecolor": "white",
            "ticks": ""
           },
           "bgcolor": "#E5ECF6",
           "radialaxis": {
            "gridcolor": "white",
            "linecolor": "white",
            "ticks": ""
           }
          },
          "scene": {
           "xaxis": {
            "backgroundcolor": "#E5ECF6",
            "gridcolor": "white",
            "gridwidth": 2,
            "linecolor": "white",
            "showbackground": true,
            "ticks": "",
            "zerolinecolor": "white"
           },
           "yaxis": {
            "backgroundcolor": "#E5ECF6",
            "gridcolor": "white",
            "gridwidth": 2,
            "linecolor": "white",
            "showbackground": true,
            "ticks": "",
            "zerolinecolor": "white"
           },
           "zaxis": {
            "backgroundcolor": "#E5ECF6",
            "gridcolor": "white",
            "gridwidth": 2,
            "linecolor": "white",
            "showbackground": true,
            "ticks": "",
            "zerolinecolor": "white"
           }
          },
          "shapedefaults": {
           "line": {
            "color": "#2a3f5f"
           }
          },
          "ternary": {
           "aaxis": {
            "gridcolor": "white",
            "linecolor": "white",
            "ticks": ""
           },
           "baxis": {
            "gridcolor": "white",
            "linecolor": "white",
            "ticks": ""
           },
           "bgcolor": "#E5ECF6",
           "caxis": {
            "gridcolor": "white",
            "linecolor": "white",
            "ticks": ""
           }
          },
          "title": {
           "x": 0.05
          },
          "xaxis": {
           "automargin": true,
           "gridcolor": "white",
           "linecolor": "white",
           "ticks": "",
           "title": {
            "standoff": 15
           },
           "zerolinecolor": "white",
           "zerolinewidth": 2
          },
          "yaxis": {
           "automargin": true,
           "gridcolor": "white",
           "linecolor": "white",
           "ticks": "",
           "title": {
            "standoff": 15
           },
           "zerolinecolor": "white",
           "zerolinewidth": 2
          }
         }
        },
        "title": {
         "text": "Best Movies by weighted average"
        },
        "xaxis": {
         "anchor": "y",
         "domain": [
          0,
          1
         ],
         "title": {
          "text": "original_title"
         }
        },
        "yaxis": {
         "anchor": "x",
         "domain": [
          0,
          1
         ],
         "title": {
          "text": "score_mix"
         }
        }
       }
      }
     },
     "metadata": {},
     "output_type": "display_data"
    }
   ],
   "source": [
    "px.bar(rank_df, x = 'original_title', y = 'score_mix', color = 'weighted_average_scaled', title = 'Best Movies by weighted average')"
   ]
  },
  {
   "cell_type": "code",
   "execution_count": 52,
   "id": "e7bb7c80",
   "metadata": {},
   "outputs": [],
   "source": [
    "data = filtered_movies.copy()"
   ]
  },
  {
   "cell_type": "code",
   "execution_count": 53,
   "id": "3f297e91",
   "metadata": {},
   "outputs": [
    {
     "data": {
      "text/plain": [
       "Index(['budget', 'genres', 'id', 'keywords', 'original_language',\n",
       "       'original_title', 'overview', 'popularity', 'production_companies',\n",
       "       'release_date', 'revenue', 'runtime', 'spoken_languages', 'tagline',\n",
       "       'vote_average', 'vote_count', 'cast', 'crew', 'weighted_average',\n",
       "       'weighted_average_scaled', 'popularity_scaled', 'score_mix'],\n",
       "      dtype='object')"
      ]
     },
     "execution_count": 53,
     "metadata": {},
     "output_type": "execute_result"
    }
   ],
   "source": [
    "data.columns"
   ]
  },
  {
   "cell_type": "code",
   "execution_count": 54,
   "id": "598591a7",
   "metadata": {},
   "outputs": [
    {
     "data": {
      "text/plain": [
       "'In the 22nd century, a paraplegic Marine is dispatched to the moon Pandora on a unique mission, but becomes torn between following orders and protecting an alien civilization.'"
      ]
     },
     "execution_count": 54,
     "metadata": {},
     "output_type": "execute_result"
    }
   ],
   "source": [
    "data['overview'][0]"
   ]
  },
  {
   "cell_type": "code",
   "execution_count": 56,
   "id": "ec98d8d8",
   "metadata": {},
   "outputs": [
    {
     "data": {
      "text/plain": [
       "0"
      ]
     },
     "execution_count": 56,
     "metadata": {},
     "output_type": "execute_result"
    }
   ],
   "source": [
    "data['overview'].isnull().sum()"
   ]
  },
  {
   "cell_type": "code",
   "execution_count": 57,
   "id": "4edab820",
   "metadata": {},
   "outputs": [],
   "source": [
    "## TF-IDF\n",
    "from sklearn.feature_extraction.text import TfidfVectorizer"
   ]
  },
  {
   "cell_type": "code",
   "execution_count": 59,
   "id": "352eb5a1",
   "metadata": {},
   "outputs": [],
   "source": [
    "tfv=TfidfVectorizer(min_df=3, max_features=None, ngram_range=(1,3), stop_words='english')"
   ]
  },
  {
   "cell_type": "code",
   "execution_count": 60,
   "id": "3d79d180",
   "metadata": {},
   "outputs": [],
   "source": [
    "tfv_matrix = tfv.fit_transform(data['overview'])"
   ]
  },
  {
   "cell_type": "code",
   "execution_count": 61,
   "id": "5b8233c9",
   "metadata": {},
   "outputs": [
    {
     "data": {
      "text/plain": [
       "<481x1287 sparse matrix of type '<class 'numpy.float64'>'\n",
       "\twith 8196 stored elements in Compressed Sparse Row format>"
      ]
     },
     "execution_count": 61,
     "metadata": {},
     "output_type": "execute_result"
    }
   ],
   "source": [
    "tfv_matrix"
   ]
  },
  {
   "cell_type": "code",
   "execution_count": 62,
   "id": "0259810f",
   "metadata": {},
   "outputs": [
    {
     "data": {
      "text/plain": [
       "array([0., 0., 0., ..., 0., 0., 0.])"
      ]
     },
     "execution_count": 62,
     "metadata": {},
     "output_type": "execute_result"
    }
   ],
   "source": [
    "tfv_matrix.toarray()[0]"
   ]
  },
  {
   "cell_type": "code",
   "execution_count": 63,
   "id": "fc8f2165",
   "metadata": {},
   "outputs": [
    {
     "data": {
      "text/html": [
       "<div>\n",
       "<style scoped>\n",
       "    .dataframe tbody tr th:only-of-type {\n",
       "        vertical-align: middle;\n",
       "    }\n",
       "\n",
       "    .dataframe tbody tr th {\n",
       "        vertical-align: top;\n",
       "    }\n",
       "\n",
       "    .dataframe thead th {\n",
       "        text-align: right;\n",
       "    }\n",
       "</style>\n",
       "<table border=\"1\" class=\"dataframe\">\n",
       "  <thead>\n",
       "    <tr style=\"text-align: right;\">\n",
       "      <th></th>\n",
       "      <th>0</th>\n",
       "      <th>1</th>\n",
       "      <th>2</th>\n",
       "      <th>3</th>\n",
       "      <th>4</th>\n",
       "      <th>5</th>\n",
       "      <th>6</th>\n",
       "      <th>7</th>\n",
       "      <th>8</th>\n",
       "      <th>9</th>\n",
       "      <th>...</th>\n",
       "      <th>1277</th>\n",
       "      <th>1278</th>\n",
       "      <th>1279</th>\n",
       "      <th>1280</th>\n",
       "      <th>1281</th>\n",
       "      <th>1282</th>\n",
       "      <th>1283</th>\n",
       "      <th>1284</th>\n",
       "      <th>1285</th>\n",
       "      <th>1286</th>\n",
       "    </tr>\n",
       "  </thead>\n",
       "  <tbody>\n",
       "    <tr>\n",
       "      <th>0</th>\n",
       "      <td>0.000000</td>\n",
       "      <td>0.0</td>\n",
       "      <td>0.0</td>\n",
       "      <td>0.0</td>\n",
       "      <td>0.0</td>\n",
       "      <td>0.0</td>\n",
       "      <td>0.0</td>\n",
       "      <td>0.0</td>\n",
       "      <td>0.0</td>\n",
       "      <td>0.0</td>\n",
       "      <td>...</td>\n",
       "      <td>0.00000</td>\n",
       "      <td>0.000000</td>\n",
       "      <td>0.000000</td>\n",
       "      <td>0.0</td>\n",
       "      <td>0.0</td>\n",
       "      <td>0.0</td>\n",
       "      <td>0.0</td>\n",
       "      <td>0.0</td>\n",
       "      <td>0.0</td>\n",
       "      <td>0.0</td>\n",
       "    </tr>\n",
       "    <tr>\n",
       "      <th>1</th>\n",
       "      <td>0.000000</td>\n",
       "      <td>0.0</td>\n",
       "      <td>0.0</td>\n",
       "      <td>0.0</td>\n",
       "      <td>0.0</td>\n",
       "      <td>0.0</td>\n",
       "      <td>0.0</td>\n",
       "      <td>0.0</td>\n",
       "      <td>0.0</td>\n",
       "      <td>0.0</td>\n",
       "      <td>...</td>\n",
       "      <td>0.00000</td>\n",
       "      <td>0.000000</td>\n",
       "      <td>0.000000</td>\n",
       "      <td>0.0</td>\n",
       "      <td>0.0</td>\n",
       "      <td>0.0</td>\n",
       "      <td>0.0</td>\n",
       "      <td>0.0</td>\n",
       "      <td>0.0</td>\n",
       "      <td>0.0</td>\n",
       "    </tr>\n",
       "    <tr>\n",
       "      <th>2</th>\n",
       "      <td>0.000000</td>\n",
       "      <td>0.0</td>\n",
       "      <td>0.0</td>\n",
       "      <td>0.0</td>\n",
       "      <td>0.0</td>\n",
       "      <td>0.0</td>\n",
       "      <td>0.0</td>\n",
       "      <td>0.0</td>\n",
       "      <td>0.0</td>\n",
       "      <td>0.0</td>\n",
       "      <td>...</td>\n",
       "      <td>0.00000</td>\n",
       "      <td>0.000000</td>\n",
       "      <td>0.000000</td>\n",
       "      <td>0.0</td>\n",
       "      <td>0.0</td>\n",
       "      <td>0.0</td>\n",
       "      <td>0.0</td>\n",
       "      <td>0.0</td>\n",
       "      <td>0.0</td>\n",
       "      <td>0.0</td>\n",
       "    </tr>\n",
       "    <tr>\n",
       "      <th>3</th>\n",
       "      <td>0.000000</td>\n",
       "      <td>0.0</td>\n",
       "      <td>0.0</td>\n",
       "      <td>0.0</td>\n",
       "      <td>0.0</td>\n",
       "      <td>0.0</td>\n",
       "      <td>0.0</td>\n",
       "      <td>0.0</td>\n",
       "      <td>0.0</td>\n",
       "      <td>0.0</td>\n",
       "      <td>...</td>\n",
       "      <td>0.00000</td>\n",
       "      <td>0.000000</td>\n",
       "      <td>0.000000</td>\n",
       "      <td>0.0</td>\n",
       "      <td>0.0</td>\n",
       "      <td>0.0</td>\n",
       "      <td>0.0</td>\n",
       "      <td>0.0</td>\n",
       "      <td>0.0</td>\n",
       "      <td>0.0</td>\n",
       "    </tr>\n",
       "    <tr>\n",
       "      <th>4</th>\n",
       "      <td>0.000000</td>\n",
       "      <td>0.0</td>\n",
       "      <td>0.0</td>\n",
       "      <td>0.0</td>\n",
       "      <td>0.0</td>\n",
       "      <td>0.0</td>\n",
       "      <td>0.0</td>\n",
       "      <td>0.0</td>\n",
       "      <td>0.0</td>\n",
       "      <td>0.0</td>\n",
       "      <td>...</td>\n",
       "      <td>0.00000</td>\n",
       "      <td>0.000000</td>\n",
       "      <td>0.000000</td>\n",
       "      <td>0.0</td>\n",
       "      <td>0.0</td>\n",
       "      <td>0.0</td>\n",
       "      <td>0.0</td>\n",
       "      <td>0.0</td>\n",
       "      <td>0.0</td>\n",
       "      <td>0.0</td>\n",
       "    </tr>\n",
       "    <tr>\n",
       "      <th>...</th>\n",
       "      <td>...</td>\n",
       "      <td>...</td>\n",
       "      <td>...</td>\n",
       "      <td>...</td>\n",
       "      <td>...</td>\n",
       "      <td>...</td>\n",
       "      <td>...</td>\n",
       "      <td>...</td>\n",
       "      <td>...</td>\n",
       "      <td>...</td>\n",
       "      <td>...</td>\n",
       "      <td>...</td>\n",
       "      <td>...</td>\n",
       "      <td>...</td>\n",
       "      <td>...</td>\n",
       "      <td>...</td>\n",
       "      <td>...</td>\n",
       "      <td>...</td>\n",
       "      <td>...</td>\n",
       "      <td>...</td>\n",
       "      <td>...</td>\n",
       "    </tr>\n",
       "    <tr>\n",
       "      <th>476</th>\n",
       "      <td>0.000000</td>\n",
       "      <td>0.0</td>\n",
       "      <td>0.0</td>\n",
       "      <td>0.0</td>\n",
       "      <td>0.0</td>\n",
       "      <td>0.0</td>\n",
       "      <td>0.0</td>\n",
       "      <td>0.0</td>\n",
       "      <td>0.0</td>\n",
       "      <td>0.0</td>\n",
       "      <td>...</td>\n",
       "      <td>0.00000</td>\n",
       "      <td>0.000000</td>\n",
       "      <td>0.000000</td>\n",
       "      <td>0.0</td>\n",
       "      <td>0.0</td>\n",
       "      <td>0.0</td>\n",
       "      <td>0.0</td>\n",
       "      <td>0.0</td>\n",
       "      <td>0.0</td>\n",
       "      <td>0.0</td>\n",
       "    </tr>\n",
       "    <tr>\n",
       "      <th>477</th>\n",
       "      <td>0.000000</td>\n",
       "      <td>0.0</td>\n",
       "      <td>0.0</td>\n",
       "      <td>0.0</td>\n",
       "      <td>0.0</td>\n",
       "      <td>0.0</td>\n",
       "      <td>0.0</td>\n",
       "      <td>0.0</td>\n",
       "      <td>0.0</td>\n",
       "      <td>0.0</td>\n",
       "      <td>...</td>\n",
       "      <td>0.00000</td>\n",
       "      <td>0.000000</td>\n",
       "      <td>0.000000</td>\n",
       "      <td>0.0</td>\n",
       "      <td>0.0</td>\n",
       "      <td>0.0</td>\n",
       "      <td>0.0</td>\n",
       "      <td>0.0</td>\n",
       "      <td>0.0</td>\n",
       "      <td>0.0</td>\n",
       "    </tr>\n",
       "    <tr>\n",
       "      <th>478</th>\n",
       "      <td>0.267267</td>\n",
       "      <td>0.0</td>\n",
       "      <td>0.0</td>\n",
       "      <td>0.0</td>\n",
       "      <td>0.0</td>\n",
       "      <td>0.0</td>\n",
       "      <td>0.0</td>\n",
       "      <td>0.0</td>\n",
       "      <td>0.0</td>\n",
       "      <td>0.0</td>\n",
       "      <td>...</td>\n",
       "      <td>0.00000</td>\n",
       "      <td>0.000000</td>\n",
       "      <td>0.000000</td>\n",
       "      <td>0.0</td>\n",
       "      <td>0.0</td>\n",
       "      <td>0.0</td>\n",
       "      <td>0.0</td>\n",
       "      <td>0.0</td>\n",
       "      <td>0.0</td>\n",
       "      <td>0.0</td>\n",
       "    </tr>\n",
       "    <tr>\n",
       "      <th>479</th>\n",
       "      <td>0.000000</td>\n",
       "      <td>0.0</td>\n",
       "      <td>0.0</td>\n",
       "      <td>0.0</td>\n",
       "      <td>0.0</td>\n",
       "      <td>0.0</td>\n",
       "      <td>0.0</td>\n",
       "      <td>0.0</td>\n",
       "      <td>0.0</td>\n",
       "      <td>0.0</td>\n",
       "      <td>...</td>\n",
       "      <td>0.25119</td>\n",
       "      <td>0.326234</td>\n",
       "      <td>0.000000</td>\n",
       "      <td>0.0</td>\n",
       "      <td>0.0</td>\n",
       "      <td>0.0</td>\n",
       "      <td>0.0</td>\n",
       "      <td>0.0</td>\n",
       "      <td>0.0</td>\n",
       "      <td>0.0</td>\n",
       "    </tr>\n",
       "    <tr>\n",
       "      <th>480</th>\n",
       "      <td>0.000000</td>\n",
       "      <td>0.0</td>\n",
       "      <td>0.0</td>\n",
       "      <td>0.0</td>\n",
       "      <td>0.0</td>\n",
       "      <td>0.0</td>\n",
       "      <td>0.0</td>\n",
       "      <td>0.0</td>\n",
       "      <td>0.0</td>\n",
       "      <td>0.0</td>\n",
       "      <td>...</td>\n",
       "      <td>0.00000</td>\n",
       "      <td>0.000000</td>\n",
       "      <td>0.194964</td>\n",
       "      <td>0.0</td>\n",
       "      <td>0.0</td>\n",
       "      <td>0.0</td>\n",
       "      <td>0.0</td>\n",
       "      <td>0.0</td>\n",
       "      <td>0.0</td>\n",
       "      <td>0.0</td>\n",
       "    </tr>\n",
       "  </tbody>\n",
       "</table>\n",
       "<p>481 rows × 1287 columns</p>\n",
       "</div>"
      ],
      "text/plain": [
       "         0     1     2     3     4     5     6     7     8     9     ...  \\\n",
       "0    0.000000   0.0   0.0   0.0   0.0   0.0   0.0   0.0   0.0   0.0  ...   \n",
       "1    0.000000   0.0   0.0   0.0   0.0   0.0   0.0   0.0   0.0   0.0  ...   \n",
       "2    0.000000   0.0   0.0   0.0   0.0   0.0   0.0   0.0   0.0   0.0  ...   \n",
       "3    0.000000   0.0   0.0   0.0   0.0   0.0   0.0   0.0   0.0   0.0  ...   \n",
       "4    0.000000   0.0   0.0   0.0   0.0   0.0   0.0   0.0   0.0   0.0  ...   \n",
       "..        ...   ...   ...   ...   ...   ...   ...   ...   ...   ...  ...   \n",
       "476  0.000000   0.0   0.0   0.0   0.0   0.0   0.0   0.0   0.0   0.0  ...   \n",
       "477  0.000000   0.0   0.0   0.0   0.0   0.0   0.0   0.0   0.0   0.0  ...   \n",
       "478  0.267267   0.0   0.0   0.0   0.0   0.0   0.0   0.0   0.0   0.0  ...   \n",
       "479  0.000000   0.0   0.0   0.0   0.0   0.0   0.0   0.0   0.0   0.0  ...   \n",
       "480  0.000000   0.0   0.0   0.0   0.0   0.0   0.0   0.0   0.0   0.0  ...   \n",
       "\n",
       "        1277      1278      1279  1280  1281  1282  1283  1284  1285  1286  \n",
       "0    0.00000  0.000000  0.000000   0.0   0.0   0.0   0.0   0.0   0.0   0.0  \n",
       "1    0.00000  0.000000  0.000000   0.0   0.0   0.0   0.0   0.0   0.0   0.0  \n",
       "2    0.00000  0.000000  0.000000   0.0   0.0   0.0   0.0   0.0   0.0   0.0  \n",
       "3    0.00000  0.000000  0.000000   0.0   0.0   0.0   0.0   0.0   0.0   0.0  \n",
       "4    0.00000  0.000000  0.000000   0.0   0.0   0.0   0.0   0.0   0.0   0.0  \n",
       "..       ...       ...       ...   ...   ...   ...   ...   ...   ...   ...  \n",
       "476  0.00000  0.000000  0.000000   0.0   0.0   0.0   0.0   0.0   0.0   0.0  \n",
       "477  0.00000  0.000000  0.000000   0.0   0.0   0.0   0.0   0.0   0.0   0.0  \n",
       "478  0.00000  0.000000  0.000000   0.0   0.0   0.0   0.0   0.0   0.0   0.0  \n",
       "479  0.25119  0.326234  0.000000   0.0   0.0   0.0   0.0   0.0   0.0   0.0  \n",
       "480  0.00000  0.000000  0.194964   0.0   0.0   0.0   0.0   0.0   0.0   0.0  \n",
       "\n",
       "[481 rows x 1287 columns]"
      ]
     },
     "execution_count": 63,
     "metadata": {},
     "output_type": "execute_result"
    }
   ],
   "source": [
    "pd.DataFrame(tfv_matrix.toarray())"
   ]
  },
  {
   "cell_type": "code",
   "execution_count": 65,
   "id": "98860774",
   "metadata": {},
   "outputs": [],
   "source": [
    "## Sigmoid Kernel returns similarity score value\n",
    "from sklearn.metrics.pairwise import sigmoid_kernel"
   ]
  },
  {
   "cell_type": "code",
   "execution_count": 66,
   "id": "8f6daeba",
   "metadata": {},
   "outputs": [],
   "source": [
    "sigmoids = sigmoid_kernel(tfv_matrix, tfv_matrix)"
   ]
  },
  {
   "cell_type": "code",
   "execution_count": 67,
   "id": "983dc7b2",
   "metadata": {},
   "outputs": [
    {
     "data": {
      "text/html": [
       "<div>\n",
       "<style scoped>\n",
       "    .dataframe tbody tr th:only-of-type {\n",
       "        vertical-align: middle;\n",
       "    }\n",
       "\n",
       "    .dataframe tbody tr th {\n",
       "        vertical-align: top;\n",
       "    }\n",
       "\n",
       "    .dataframe thead th {\n",
       "        text-align: right;\n",
       "    }\n",
       "</style>\n",
       "<table border=\"1\" class=\"dataframe\">\n",
       "  <thead>\n",
       "    <tr style=\"text-align: right;\">\n",
       "      <th></th>\n",
       "      <th>0</th>\n",
       "      <th>1</th>\n",
       "      <th>2</th>\n",
       "      <th>3</th>\n",
       "      <th>4</th>\n",
       "      <th>5</th>\n",
       "      <th>6</th>\n",
       "      <th>7</th>\n",
       "      <th>8</th>\n",
       "      <th>9</th>\n",
       "      <th>...</th>\n",
       "      <th>1277</th>\n",
       "      <th>1278</th>\n",
       "      <th>1279</th>\n",
       "      <th>1280</th>\n",
       "      <th>1281</th>\n",
       "      <th>1282</th>\n",
       "      <th>1283</th>\n",
       "      <th>1284</th>\n",
       "      <th>1285</th>\n",
       "      <th>1286</th>\n",
       "    </tr>\n",
       "  </thead>\n",
       "  <tbody>\n",
       "    <tr>\n",
       "      <th>0</th>\n",
       "      <td>0.000000</td>\n",
       "      <td>0.0</td>\n",
       "      <td>0.0</td>\n",
       "      <td>0.0</td>\n",
       "      <td>0.0</td>\n",
       "      <td>0.0</td>\n",
       "      <td>0.0</td>\n",
       "      <td>0.0</td>\n",
       "      <td>0.0</td>\n",
       "      <td>0.0</td>\n",
       "      <td>...</td>\n",
       "      <td>0.00000</td>\n",
       "      <td>0.000000</td>\n",
       "      <td>0.000000</td>\n",
       "      <td>0.0</td>\n",
       "      <td>0.0</td>\n",
       "      <td>0.0</td>\n",
       "      <td>0.0</td>\n",
       "      <td>0.0</td>\n",
       "      <td>0.0</td>\n",
       "      <td>0.0</td>\n",
       "    </tr>\n",
       "    <tr>\n",
       "      <th>1</th>\n",
       "      <td>0.000000</td>\n",
       "      <td>0.0</td>\n",
       "      <td>0.0</td>\n",
       "      <td>0.0</td>\n",
       "      <td>0.0</td>\n",
       "      <td>0.0</td>\n",
       "      <td>0.0</td>\n",
       "      <td>0.0</td>\n",
       "      <td>0.0</td>\n",
       "      <td>0.0</td>\n",
       "      <td>...</td>\n",
       "      <td>0.00000</td>\n",
       "      <td>0.000000</td>\n",
       "      <td>0.000000</td>\n",
       "      <td>0.0</td>\n",
       "      <td>0.0</td>\n",
       "      <td>0.0</td>\n",
       "      <td>0.0</td>\n",
       "      <td>0.0</td>\n",
       "      <td>0.0</td>\n",
       "      <td>0.0</td>\n",
       "    </tr>\n",
       "    <tr>\n",
       "      <th>2</th>\n",
       "      <td>0.000000</td>\n",
       "      <td>0.0</td>\n",
       "      <td>0.0</td>\n",
       "      <td>0.0</td>\n",
       "      <td>0.0</td>\n",
       "      <td>0.0</td>\n",
       "      <td>0.0</td>\n",
       "      <td>0.0</td>\n",
       "      <td>0.0</td>\n",
       "      <td>0.0</td>\n",
       "      <td>...</td>\n",
       "      <td>0.00000</td>\n",
       "      <td>0.000000</td>\n",
       "      <td>0.000000</td>\n",
       "      <td>0.0</td>\n",
       "      <td>0.0</td>\n",
       "      <td>0.0</td>\n",
       "      <td>0.0</td>\n",
       "      <td>0.0</td>\n",
       "      <td>0.0</td>\n",
       "      <td>0.0</td>\n",
       "    </tr>\n",
       "    <tr>\n",
       "      <th>3</th>\n",
       "      <td>0.000000</td>\n",
       "      <td>0.0</td>\n",
       "      <td>0.0</td>\n",
       "      <td>0.0</td>\n",
       "      <td>0.0</td>\n",
       "      <td>0.0</td>\n",
       "      <td>0.0</td>\n",
       "      <td>0.0</td>\n",
       "      <td>0.0</td>\n",
       "      <td>0.0</td>\n",
       "      <td>...</td>\n",
       "      <td>0.00000</td>\n",
       "      <td>0.000000</td>\n",
       "      <td>0.000000</td>\n",
       "      <td>0.0</td>\n",
       "      <td>0.0</td>\n",
       "      <td>0.0</td>\n",
       "      <td>0.0</td>\n",
       "      <td>0.0</td>\n",
       "      <td>0.0</td>\n",
       "      <td>0.0</td>\n",
       "    </tr>\n",
       "    <tr>\n",
       "      <th>4</th>\n",
       "      <td>0.000000</td>\n",
       "      <td>0.0</td>\n",
       "      <td>0.0</td>\n",
       "      <td>0.0</td>\n",
       "      <td>0.0</td>\n",
       "      <td>0.0</td>\n",
       "      <td>0.0</td>\n",
       "      <td>0.0</td>\n",
       "      <td>0.0</td>\n",
       "      <td>0.0</td>\n",
       "      <td>...</td>\n",
       "      <td>0.00000</td>\n",
       "      <td>0.000000</td>\n",
       "      <td>0.000000</td>\n",
       "      <td>0.0</td>\n",
       "      <td>0.0</td>\n",
       "      <td>0.0</td>\n",
       "      <td>0.0</td>\n",
       "      <td>0.0</td>\n",
       "      <td>0.0</td>\n",
       "      <td>0.0</td>\n",
       "    </tr>\n",
       "    <tr>\n",
       "      <th>...</th>\n",
       "      <td>...</td>\n",
       "      <td>...</td>\n",
       "      <td>...</td>\n",
       "      <td>...</td>\n",
       "      <td>...</td>\n",
       "      <td>...</td>\n",
       "      <td>...</td>\n",
       "      <td>...</td>\n",
       "      <td>...</td>\n",
       "      <td>...</td>\n",
       "      <td>...</td>\n",
       "      <td>...</td>\n",
       "      <td>...</td>\n",
       "      <td>...</td>\n",
       "      <td>...</td>\n",
       "      <td>...</td>\n",
       "      <td>...</td>\n",
       "      <td>...</td>\n",
       "      <td>...</td>\n",
       "      <td>...</td>\n",
       "      <td>...</td>\n",
       "    </tr>\n",
       "    <tr>\n",
       "      <th>476</th>\n",
       "      <td>0.000000</td>\n",
       "      <td>0.0</td>\n",
       "      <td>0.0</td>\n",
       "      <td>0.0</td>\n",
       "      <td>0.0</td>\n",
       "      <td>0.0</td>\n",
       "      <td>0.0</td>\n",
       "      <td>0.0</td>\n",
       "      <td>0.0</td>\n",
       "      <td>0.0</td>\n",
       "      <td>...</td>\n",
       "      <td>0.00000</td>\n",
       "      <td>0.000000</td>\n",
       "      <td>0.000000</td>\n",
       "      <td>0.0</td>\n",
       "      <td>0.0</td>\n",
       "      <td>0.0</td>\n",
       "      <td>0.0</td>\n",
       "      <td>0.0</td>\n",
       "      <td>0.0</td>\n",
       "      <td>0.0</td>\n",
       "    </tr>\n",
       "    <tr>\n",
       "      <th>477</th>\n",
       "      <td>0.000000</td>\n",
       "      <td>0.0</td>\n",
       "      <td>0.0</td>\n",
       "      <td>0.0</td>\n",
       "      <td>0.0</td>\n",
       "      <td>0.0</td>\n",
       "      <td>0.0</td>\n",
       "      <td>0.0</td>\n",
       "      <td>0.0</td>\n",
       "      <td>0.0</td>\n",
       "      <td>...</td>\n",
       "      <td>0.00000</td>\n",
       "      <td>0.000000</td>\n",
       "      <td>0.000000</td>\n",
       "      <td>0.0</td>\n",
       "      <td>0.0</td>\n",
       "      <td>0.0</td>\n",
       "      <td>0.0</td>\n",
       "      <td>0.0</td>\n",
       "      <td>0.0</td>\n",
       "      <td>0.0</td>\n",
       "    </tr>\n",
       "    <tr>\n",
       "      <th>478</th>\n",
       "      <td>0.267267</td>\n",
       "      <td>0.0</td>\n",
       "      <td>0.0</td>\n",
       "      <td>0.0</td>\n",
       "      <td>0.0</td>\n",
       "      <td>0.0</td>\n",
       "      <td>0.0</td>\n",
       "      <td>0.0</td>\n",
       "      <td>0.0</td>\n",
       "      <td>0.0</td>\n",
       "      <td>...</td>\n",
       "      <td>0.00000</td>\n",
       "      <td>0.000000</td>\n",
       "      <td>0.000000</td>\n",
       "      <td>0.0</td>\n",
       "      <td>0.0</td>\n",
       "      <td>0.0</td>\n",
       "      <td>0.0</td>\n",
       "      <td>0.0</td>\n",
       "      <td>0.0</td>\n",
       "      <td>0.0</td>\n",
       "    </tr>\n",
       "    <tr>\n",
       "      <th>479</th>\n",
       "      <td>0.000000</td>\n",
       "      <td>0.0</td>\n",
       "      <td>0.0</td>\n",
       "      <td>0.0</td>\n",
       "      <td>0.0</td>\n",
       "      <td>0.0</td>\n",
       "      <td>0.0</td>\n",
       "      <td>0.0</td>\n",
       "      <td>0.0</td>\n",
       "      <td>0.0</td>\n",
       "      <td>...</td>\n",
       "      <td>0.25119</td>\n",
       "      <td>0.326234</td>\n",
       "      <td>0.000000</td>\n",
       "      <td>0.0</td>\n",
       "      <td>0.0</td>\n",
       "      <td>0.0</td>\n",
       "      <td>0.0</td>\n",
       "      <td>0.0</td>\n",
       "      <td>0.0</td>\n",
       "      <td>0.0</td>\n",
       "    </tr>\n",
       "    <tr>\n",
       "      <th>480</th>\n",
       "      <td>0.000000</td>\n",
       "      <td>0.0</td>\n",
       "      <td>0.0</td>\n",
       "      <td>0.0</td>\n",
       "      <td>0.0</td>\n",
       "      <td>0.0</td>\n",
       "      <td>0.0</td>\n",
       "      <td>0.0</td>\n",
       "      <td>0.0</td>\n",
       "      <td>0.0</td>\n",
       "      <td>...</td>\n",
       "      <td>0.00000</td>\n",
       "      <td>0.000000</td>\n",
       "      <td>0.194964</td>\n",
       "      <td>0.0</td>\n",
       "      <td>0.0</td>\n",
       "      <td>0.0</td>\n",
       "      <td>0.0</td>\n",
       "      <td>0.0</td>\n",
       "      <td>0.0</td>\n",
       "      <td>0.0</td>\n",
       "    </tr>\n",
       "  </tbody>\n",
       "</table>\n",
       "<p>481 rows × 1287 columns</p>\n",
       "</div>"
      ],
      "text/plain": [
       "         0     1     2     3     4     5     6     7     8     9     ...  \\\n",
       "0    0.000000   0.0   0.0   0.0   0.0   0.0   0.0   0.0   0.0   0.0  ...   \n",
       "1    0.000000   0.0   0.0   0.0   0.0   0.0   0.0   0.0   0.0   0.0  ...   \n",
       "2    0.000000   0.0   0.0   0.0   0.0   0.0   0.0   0.0   0.0   0.0  ...   \n",
       "3    0.000000   0.0   0.0   0.0   0.0   0.0   0.0   0.0   0.0   0.0  ...   \n",
       "4    0.000000   0.0   0.0   0.0   0.0   0.0   0.0   0.0   0.0   0.0  ...   \n",
       "..        ...   ...   ...   ...   ...   ...   ...   ...   ...   ...  ...   \n",
       "476  0.000000   0.0   0.0   0.0   0.0   0.0   0.0   0.0   0.0   0.0  ...   \n",
       "477  0.000000   0.0   0.0   0.0   0.0   0.0   0.0   0.0   0.0   0.0  ...   \n",
       "478  0.267267   0.0   0.0   0.0   0.0   0.0   0.0   0.0   0.0   0.0  ...   \n",
       "479  0.000000   0.0   0.0   0.0   0.0   0.0   0.0   0.0   0.0   0.0  ...   \n",
       "480  0.000000   0.0   0.0   0.0   0.0   0.0   0.0   0.0   0.0   0.0  ...   \n",
       "\n",
       "        1277      1278      1279  1280  1281  1282  1283  1284  1285  1286  \n",
       "0    0.00000  0.000000  0.000000   0.0   0.0   0.0   0.0   0.0   0.0   0.0  \n",
       "1    0.00000  0.000000  0.000000   0.0   0.0   0.0   0.0   0.0   0.0   0.0  \n",
       "2    0.00000  0.000000  0.000000   0.0   0.0   0.0   0.0   0.0   0.0   0.0  \n",
       "3    0.00000  0.000000  0.000000   0.0   0.0   0.0   0.0   0.0   0.0   0.0  \n",
       "4    0.00000  0.000000  0.000000   0.0   0.0   0.0   0.0   0.0   0.0   0.0  \n",
       "..       ...       ...       ...   ...   ...   ...   ...   ...   ...   ...  \n",
       "476  0.00000  0.000000  0.000000   0.0   0.0   0.0   0.0   0.0   0.0   0.0  \n",
       "477  0.00000  0.000000  0.000000   0.0   0.0   0.0   0.0   0.0   0.0   0.0  \n",
       "478  0.00000  0.000000  0.000000   0.0   0.0   0.0   0.0   0.0   0.0   0.0  \n",
       "479  0.25119  0.326234  0.000000   0.0   0.0   0.0   0.0   0.0   0.0   0.0  \n",
       "480  0.00000  0.000000  0.194964   0.0   0.0   0.0   0.0   0.0   0.0   0.0  \n",
       "\n",
       "[481 rows x 1287 columns]"
      ]
     },
     "execution_count": 67,
     "metadata": {},
     "output_type": "execute_result"
    }
   ],
   "source": [
    "pd.DataFrame(tfv_matrix.toarray())"
   ]
  },
  {
   "cell_type": "code",
   "execution_count": 68,
   "id": "fc130baf",
   "metadata": {},
   "outputs": [
    {
     "data": {
      "text/plain": [
       "array([[0.76192028, 0.76159416, 0.76159416, ..., 0.76159416, 0.76159416,\n",
       "        0.76159416],\n",
       "       [0.76159416, 0.76192028, 0.76159416, ..., 0.76159416, 0.76159416,\n",
       "        0.76159416],\n",
       "       [0.76159416, 0.76159416, 0.76192028, ..., 0.76159416, 0.76159416,\n",
       "        0.76159416],\n",
       "       ...,\n",
       "       [0.76159416, 0.76159416, 0.76159416, ..., 0.76192028, 0.7616054 ,\n",
       "        0.76161335],\n",
       "       [0.76159416, 0.76159416, 0.76159416, ..., 0.7616054 , 0.76192028,\n",
       "        0.76159416],\n",
       "       [0.76159416, 0.76159416, 0.76159416, ..., 0.76161335, 0.76159416,\n",
       "        0.76192028]])"
      ]
     },
     "execution_count": 68,
     "metadata": {},
     "output_type": "execute_result"
    }
   ],
   "source": [
    "sigmoids"
   ]
  },
  {
   "cell_type": "code",
   "execution_count": 69,
   "id": "9a392507",
   "metadata": {},
   "outputs": [
    {
     "data": {
      "text/html": [
       "<div>\n",
       "<style scoped>\n",
       "    .dataframe tbody tr th:only-of-type {\n",
       "        vertical-align: middle;\n",
       "    }\n",
       "\n",
       "    .dataframe tbody tr th {\n",
       "        vertical-align: top;\n",
       "    }\n",
       "\n",
       "    .dataframe thead th {\n",
       "        text-align: right;\n",
       "    }\n",
       "</style>\n",
       "<table border=\"1\" class=\"dataframe\">\n",
       "  <thead>\n",
       "    <tr style=\"text-align: right;\">\n",
       "      <th></th>\n",
       "      <th>0</th>\n",
       "      <th>1</th>\n",
       "      <th>2</th>\n",
       "      <th>3</th>\n",
       "      <th>4</th>\n",
       "      <th>5</th>\n",
       "      <th>6</th>\n",
       "      <th>7</th>\n",
       "      <th>8</th>\n",
       "      <th>9</th>\n",
       "      <th>...</th>\n",
       "      <th>471</th>\n",
       "      <th>472</th>\n",
       "      <th>473</th>\n",
       "      <th>474</th>\n",
       "      <th>475</th>\n",
       "      <th>476</th>\n",
       "      <th>477</th>\n",
       "      <th>478</th>\n",
       "      <th>479</th>\n",
       "      <th>480</th>\n",
       "    </tr>\n",
       "  </thead>\n",
       "  <tbody>\n",
       "    <tr>\n",
       "      <th>0</th>\n",
       "      <td>0.761920</td>\n",
       "      <td>0.761594</td>\n",
       "      <td>0.761594</td>\n",
       "      <td>0.761612</td>\n",
       "      <td>0.761594</td>\n",
       "      <td>0.761609</td>\n",
       "      <td>0.761594</td>\n",
       "      <td>0.761619</td>\n",
       "      <td>0.761594</td>\n",
       "      <td>0.761594</td>\n",
       "      <td>...</td>\n",
       "      <td>0.761594</td>\n",
       "      <td>0.761594</td>\n",
       "      <td>0.761594</td>\n",
       "      <td>0.761594</td>\n",
       "      <td>0.761594</td>\n",
       "      <td>0.761594</td>\n",
       "      <td>0.761594</td>\n",
       "      <td>0.761594</td>\n",
       "      <td>0.761594</td>\n",
       "      <td>0.761594</td>\n",
       "    </tr>\n",
       "    <tr>\n",
       "      <th>1</th>\n",
       "      <td>0.761594</td>\n",
       "      <td>0.761920</td>\n",
       "      <td>0.761594</td>\n",
       "      <td>0.761594</td>\n",
       "      <td>0.761623</td>\n",
       "      <td>0.761594</td>\n",
       "      <td>0.761594</td>\n",
       "      <td>0.761609</td>\n",
       "      <td>0.761594</td>\n",
       "      <td>0.761594</td>\n",
       "      <td>...</td>\n",
       "      <td>0.761594</td>\n",
       "      <td>0.761594</td>\n",
       "      <td>0.761594</td>\n",
       "      <td>0.761594</td>\n",
       "      <td>0.761594</td>\n",
       "      <td>0.761604</td>\n",
       "      <td>0.761594</td>\n",
       "      <td>0.761594</td>\n",
       "      <td>0.761594</td>\n",
       "      <td>0.761594</td>\n",
       "    </tr>\n",
       "    <tr>\n",
       "      <th>2</th>\n",
       "      <td>0.761594</td>\n",
       "      <td>0.761594</td>\n",
       "      <td>0.761920</td>\n",
       "      <td>0.761594</td>\n",
       "      <td>0.761594</td>\n",
       "      <td>0.761594</td>\n",
       "      <td>0.761594</td>\n",
       "      <td>0.761608</td>\n",
       "      <td>0.761606</td>\n",
       "      <td>0.761594</td>\n",
       "      <td>...</td>\n",
       "      <td>0.761594</td>\n",
       "      <td>0.761594</td>\n",
       "      <td>0.761594</td>\n",
       "      <td>0.761594</td>\n",
       "      <td>0.761594</td>\n",
       "      <td>0.761594</td>\n",
       "      <td>0.761594</td>\n",
       "      <td>0.761594</td>\n",
       "      <td>0.761594</td>\n",
       "      <td>0.761594</td>\n",
       "    </tr>\n",
       "    <tr>\n",
       "      <th>3</th>\n",
       "      <td>0.761612</td>\n",
       "      <td>0.761594</td>\n",
       "      <td>0.761594</td>\n",
       "      <td>0.761920</td>\n",
       "      <td>0.761601</td>\n",
       "      <td>0.761597</td>\n",
       "      <td>0.761604</td>\n",
       "      <td>0.761606</td>\n",
       "      <td>0.761604</td>\n",
       "      <td>0.761680</td>\n",
       "      <td>...</td>\n",
       "      <td>0.761594</td>\n",
       "      <td>0.761594</td>\n",
       "      <td>0.761614</td>\n",
       "      <td>0.761603</td>\n",
       "      <td>0.761594</td>\n",
       "      <td>0.761594</td>\n",
       "      <td>0.761601</td>\n",
       "      <td>0.761594</td>\n",
       "      <td>0.761620</td>\n",
       "      <td>0.761594</td>\n",
       "    </tr>\n",
       "    <tr>\n",
       "      <th>4</th>\n",
       "      <td>0.761594</td>\n",
       "      <td>0.761623</td>\n",
       "      <td>0.761594</td>\n",
       "      <td>0.761601</td>\n",
       "      <td>0.761920</td>\n",
       "      <td>0.761594</td>\n",
       "      <td>0.761601</td>\n",
       "      <td>0.761618</td>\n",
       "      <td>0.761594</td>\n",
       "      <td>0.761606</td>\n",
       "      <td>...</td>\n",
       "      <td>0.761631</td>\n",
       "      <td>0.761594</td>\n",
       "      <td>0.761594</td>\n",
       "      <td>0.761594</td>\n",
       "      <td>0.761594</td>\n",
       "      <td>0.761610</td>\n",
       "      <td>0.761594</td>\n",
       "      <td>0.761603</td>\n",
       "      <td>0.761605</td>\n",
       "      <td>0.761594</td>\n",
       "    </tr>\n",
       "    <tr>\n",
       "      <th>...</th>\n",
       "      <td>...</td>\n",
       "      <td>...</td>\n",
       "      <td>...</td>\n",
       "      <td>...</td>\n",
       "      <td>...</td>\n",
       "      <td>...</td>\n",
       "      <td>...</td>\n",
       "      <td>...</td>\n",
       "      <td>...</td>\n",
       "      <td>...</td>\n",
       "      <td>...</td>\n",
       "      <td>...</td>\n",
       "      <td>...</td>\n",
       "      <td>...</td>\n",
       "      <td>...</td>\n",
       "      <td>...</td>\n",
       "      <td>...</td>\n",
       "      <td>...</td>\n",
       "      <td>...</td>\n",
       "      <td>...</td>\n",
       "      <td>...</td>\n",
       "    </tr>\n",
       "    <tr>\n",
       "      <th>476</th>\n",
       "      <td>0.761594</td>\n",
       "      <td>0.761604</td>\n",
       "      <td>0.761594</td>\n",
       "      <td>0.761594</td>\n",
       "      <td>0.761610</td>\n",
       "      <td>0.761594</td>\n",
       "      <td>0.761594</td>\n",
       "      <td>0.761594</td>\n",
       "      <td>0.761594</td>\n",
       "      <td>0.761594</td>\n",
       "      <td>...</td>\n",
       "      <td>0.761594</td>\n",
       "      <td>0.761594</td>\n",
       "      <td>0.761594</td>\n",
       "      <td>0.761594</td>\n",
       "      <td>0.761594</td>\n",
       "      <td>0.761920</td>\n",
       "      <td>0.761594</td>\n",
       "      <td>0.761594</td>\n",
       "      <td>0.761594</td>\n",
       "      <td>0.761594</td>\n",
       "    </tr>\n",
       "    <tr>\n",
       "      <th>477</th>\n",
       "      <td>0.761594</td>\n",
       "      <td>0.761594</td>\n",
       "      <td>0.761594</td>\n",
       "      <td>0.761601</td>\n",
       "      <td>0.761594</td>\n",
       "      <td>0.761594</td>\n",
       "      <td>0.761594</td>\n",
       "      <td>0.761594</td>\n",
       "      <td>0.761594</td>\n",
       "      <td>0.761594</td>\n",
       "      <td>...</td>\n",
       "      <td>0.761594</td>\n",
       "      <td>0.761594</td>\n",
       "      <td>0.761594</td>\n",
       "      <td>0.761594</td>\n",
       "      <td>0.761615</td>\n",
       "      <td>0.761594</td>\n",
       "      <td>0.761920</td>\n",
       "      <td>0.761594</td>\n",
       "      <td>0.761611</td>\n",
       "      <td>0.761594</td>\n",
       "    </tr>\n",
       "    <tr>\n",
       "      <th>478</th>\n",
       "      <td>0.761594</td>\n",
       "      <td>0.761594</td>\n",
       "      <td>0.761594</td>\n",
       "      <td>0.761594</td>\n",
       "      <td>0.761603</td>\n",
       "      <td>0.761607</td>\n",
       "      <td>0.761594</td>\n",
       "      <td>0.761594</td>\n",
       "      <td>0.761594</td>\n",
       "      <td>0.761602</td>\n",
       "      <td>...</td>\n",
       "      <td>0.761643</td>\n",
       "      <td>0.761594</td>\n",
       "      <td>0.761594</td>\n",
       "      <td>0.761594</td>\n",
       "      <td>0.761594</td>\n",
       "      <td>0.761594</td>\n",
       "      <td>0.761594</td>\n",
       "      <td>0.761920</td>\n",
       "      <td>0.761605</td>\n",
       "      <td>0.761613</td>\n",
       "    </tr>\n",
       "    <tr>\n",
       "      <th>479</th>\n",
       "      <td>0.761594</td>\n",
       "      <td>0.761594</td>\n",
       "      <td>0.761594</td>\n",
       "      <td>0.761620</td>\n",
       "      <td>0.761605</td>\n",
       "      <td>0.761600</td>\n",
       "      <td>0.761610</td>\n",
       "      <td>0.761610</td>\n",
       "      <td>0.761594</td>\n",
       "      <td>0.761621</td>\n",
       "      <td>...</td>\n",
       "      <td>0.761594</td>\n",
       "      <td>0.761594</td>\n",
       "      <td>0.761606</td>\n",
       "      <td>0.761594</td>\n",
       "      <td>0.761594</td>\n",
       "      <td>0.761594</td>\n",
       "      <td>0.761611</td>\n",
       "      <td>0.761605</td>\n",
       "      <td>0.761920</td>\n",
       "      <td>0.761594</td>\n",
       "    </tr>\n",
       "    <tr>\n",
       "      <th>480</th>\n",
       "      <td>0.761594</td>\n",
       "      <td>0.761594</td>\n",
       "      <td>0.761594</td>\n",
       "      <td>0.761594</td>\n",
       "      <td>0.761594</td>\n",
       "      <td>0.761594</td>\n",
       "      <td>0.761594</td>\n",
       "      <td>0.761605</td>\n",
       "      <td>0.761631</td>\n",
       "      <td>0.761594</td>\n",
       "      <td>...</td>\n",
       "      <td>0.761662</td>\n",
       "      <td>0.761594</td>\n",
       "      <td>0.761613</td>\n",
       "      <td>0.761594</td>\n",
       "      <td>0.761594</td>\n",
       "      <td>0.761594</td>\n",
       "      <td>0.761594</td>\n",
       "      <td>0.761613</td>\n",
       "      <td>0.761594</td>\n",
       "      <td>0.761920</td>\n",
       "    </tr>\n",
       "  </tbody>\n",
       "</table>\n",
       "<p>481 rows × 481 columns</p>\n",
       "</div>"
      ],
      "text/plain": [
       "          0         1         2         3         4         5         6    \\\n",
       "0    0.761920  0.761594  0.761594  0.761612  0.761594  0.761609  0.761594   \n",
       "1    0.761594  0.761920  0.761594  0.761594  0.761623  0.761594  0.761594   \n",
       "2    0.761594  0.761594  0.761920  0.761594  0.761594  0.761594  0.761594   \n",
       "3    0.761612  0.761594  0.761594  0.761920  0.761601  0.761597  0.761604   \n",
       "4    0.761594  0.761623  0.761594  0.761601  0.761920  0.761594  0.761601   \n",
       "..        ...       ...       ...       ...       ...       ...       ...   \n",
       "476  0.761594  0.761604  0.761594  0.761594  0.761610  0.761594  0.761594   \n",
       "477  0.761594  0.761594  0.761594  0.761601  0.761594  0.761594  0.761594   \n",
       "478  0.761594  0.761594  0.761594  0.761594  0.761603  0.761607  0.761594   \n",
       "479  0.761594  0.761594  0.761594  0.761620  0.761605  0.761600  0.761610   \n",
       "480  0.761594  0.761594  0.761594  0.761594  0.761594  0.761594  0.761594   \n",
       "\n",
       "          7         8         9    ...       471       472       473  \\\n",
       "0    0.761619  0.761594  0.761594  ...  0.761594  0.761594  0.761594   \n",
       "1    0.761609  0.761594  0.761594  ...  0.761594  0.761594  0.761594   \n",
       "2    0.761608  0.761606  0.761594  ...  0.761594  0.761594  0.761594   \n",
       "3    0.761606  0.761604  0.761680  ...  0.761594  0.761594  0.761614   \n",
       "4    0.761618  0.761594  0.761606  ...  0.761631  0.761594  0.761594   \n",
       "..        ...       ...       ...  ...       ...       ...       ...   \n",
       "476  0.761594  0.761594  0.761594  ...  0.761594  0.761594  0.761594   \n",
       "477  0.761594  0.761594  0.761594  ...  0.761594  0.761594  0.761594   \n",
       "478  0.761594  0.761594  0.761602  ...  0.761643  0.761594  0.761594   \n",
       "479  0.761610  0.761594  0.761621  ...  0.761594  0.761594  0.761606   \n",
       "480  0.761605  0.761631  0.761594  ...  0.761662  0.761594  0.761613   \n",
       "\n",
       "          474       475       476       477       478       479       480  \n",
       "0    0.761594  0.761594  0.761594  0.761594  0.761594  0.761594  0.761594  \n",
       "1    0.761594  0.761594  0.761604  0.761594  0.761594  0.761594  0.761594  \n",
       "2    0.761594  0.761594  0.761594  0.761594  0.761594  0.761594  0.761594  \n",
       "3    0.761603  0.761594  0.761594  0.761601  0.761594  0.761620  0.761594  \n",
       "4    0.761594  0.761594  0.761610  0.761594  0.761603  0.761605  0.761594  \n",
       "..        ...       ...       ...       ...       ...       ...       ...  \n",
       "476  0.761594  0.761594  0.761920  0.761594  0.761594  0.761594  0.761594  \n",
       "477  0.761594  0.761615  0.761594  0.761920  0.761594  0.761611  0.761594  \n",
       "478  0.761594  0.761594  0.761594  0.761594  0.761920  0.761605  0.761613  \n",
       "479  0.761594  0.761594  0.761594  0.761611  0.761605  0.761920  0.761594  \n",
       "480  0.761594  0.761594  0.761594  0.761594  0.761613  0.761594  0.761920  \n",
       "\n",
       "[481 rows x 481 columns]"
      ]
     },
     "execution_count": 69,
     "metadata": {},
     "output_type": "execute_result"
    }
   ],
   "source": [
    "pd.DataFrame(sigmoids)"
   ]
  },
  {
   "cell_type": "code",
   "execution_count": 70,
   "id": "e9d6a727",
   "metadata": {},
   "outputs": [],
   "source": [
    "indices = pd.Series(data = data.index, index=data['original_title'])"
   ]
  },
  {
   "cell_type": "code",
   "execution_count": 71,
   "id": "329fc0f2",
   "metadata": {},
   "outputs": [
    {
     "data": {
      "text/plain": [
       "4"
      ]
     },
     "execution_count": 71,
     "metadata": {},
     "output_type": "execute_result"
    }
   ],
   "source": [
    "indices['John Carter']"
   ]
  },
  {
   "cell_type": "code",
   "execution_count": 72,
   "id": "726b45ca",
   "metadata": {},
   "outputs": [
    {
     "data": {
      "text/plain": [
       "array([0.76159416, 0.76162291, 0.76159416, 0.76160082, 0.76192028,\n",
       "       0.76159416, 0.76160138, 0.76161785, 0.76159416, 0.76160598,\n",
       "       0.76159416, 0.76161264, 0.76159416, 0.76159981, 0.76163616,\n",
       "       0.76160531, 0.76160351, 0.761608  , 0.76159919, 0.76159416,\n",
       "       0.76160391, 0.76159416, 0.76162762, 0.76163176, 0.76162277,\n",
       "       0.76160564, 0.76159416, 0.76160124, 0.76161531, 0.76159416,\n",
       "       0.76159416, 0.76160432, 0.76161939, 0.76159416, 0.76159416,\n",
       "       0.76160862, 0.76159966, 0.7616077 , 0.76159416, 0.76160484,\n",
       "       0.76159416, 0.76161082, 0.76163971, 0.76163238, 0.76161556,\n",
       "       0.76160042, 0.76162982, 0.76161036, 0.7616078 , 0.76160093,\n",
       "       0.76159416, 0.76160538, 0.76159416, 0.76160638, 0.76159416,\n",
       "       0.76159416, 0.76159416, 0.76160926, 0.76160147, 0.76159416,\n",
       "       0.76159416, 0.76159416, 0.76159416, 0.76159416, 0.76162617,\n",
       "       0.76160836, 0.76159416, 0.76161445, 0.76159416, 0.76161497,\n",
       "       0.76161359, 0.76163629, 0.76159867, 0.76159416, 0.76159416,\n",
       "       0.76159416, 0.76165182, 0.76161328, 0.76160361, 0.76159416,\n",
       "       0.76159416, 0.76159416, 0.76161006, 0.76159416, 0.76159416,\n",
       "       0.76159975, 0.76159928, 0.76159416, 0.76162482, 0.76162161,\n",
       "       0.76159416, 0.761612  , 0.76159416, 0.76162714, 0.76159986,\n",
       "       0.76161012, 0.76159848, 0.76159416, 0.76159416, 0.76159416,\n",
       "       0.76160477, 0.76159416, 0.76159962, 0.76159416, 0.76162688,\n",
       "       0.76160447, 0.76160752, 0.76160116, 0.76159416, 0.76160016,\n",
       "       0.76159416, 0.76160317, 0.76159416, 0.76159416, 0.76159416,\n",
       "       0.76160455, 0.76159416, 0.76160857, 0.76159416, 0.76159416,\n",
       "       0.7616102 , 0.76159416, 0.76161367, 0.76160763, 0.76159416,\n",
       "       0.761638  , 0.76159416, 0.76162667, 0.76159416, 0.76159416,\n",
       "       0.76159416, 0.76159416, 0.7615992 , 0.76159416, 0.76159416,\n",
       "       0.76159416, 0.76159416, 0.76161488, 0.76159416, 0.76160432,\n",
       "       0.76160845, 0.76159416, 0.76159416, 0.76159416, 0.76163484,\n",
       "       0.76159416, 0.76159416, 0.76159416, 0.76159416, 0.76159416,\n",
       "       0.76159416, 0.7615993 , 0.76159416, 0.76159416, 0.76159416,\n",
       "       0.76159416, 0.76159416, 0.76161633, 0.7616067 , 0.76162942,\n",
       "       0.76159416, 0.76161241, 0.76160267, 0.76159416, 0.76159416,\n",
       "       0.76160354, 0.76159416, 0.76159416, 0.76159416, 0.76159416,\n",
       "       0.76159416, 0.76159416, 0.76160509, 0.76159416, 0.76161217,\n",
       "       0.76162151, 0.7616139 , 0.76159416, 0.76160697, 0.7616192 ,\n",
       "       0.76161247, 0.7616112 , 0.76159416, 0.76161232, 0.76160515,\n",
       "       0.76159858, 0.76161585, 0.76159416, 0.76159416, 0.76160219,\n",
       "       0.76160293, 0.76160086, 0.76159416, 0.76159416, 0.76159416,\n",
       "       0.76164099, 0.76160015, 0.76159416, 0.76159416, 0.76159416,\n",
       "       0.76159416, 0.76159416, 0.76160063, 0.76161034, 0.76159416,\n",
       "       0.76161027, 0.76160566, 0.76160997, 0.76159416, 0.76159416,\n",
       "       0.76159416, 0.76159416, 0.76159416, 0.76161011, 0.76161733,\n",
       "       0.76160269, 0.76160987, 0.76161357, 0.76159932, 0.76159416,\n",
       "       0.76159416, 0.76159416, 0.76159416, 0.76159416, 0.76160195,\n",
       "       0.76159416, 0.76161377, 0.76159416, 0.76159416, 0.76159416,\n",
       "       0.76159416, 0.76159416, 0.76161762, 0.76159416, 0.76161466,\n",
       "       0.76159416, 0.76161963, 0.76159416, 0.76160512, 0.76160949,\n",
       "       0.76159416, 0.76159416, 0.76159416, 0.76159416, 0.76160837,\n",
       "       0.76160851, 0.76159416, 0.76160009, 0.76159416, 0.76159416,\n",
       "       0.76159416, 0.7616128 , 0.76159416, 0.76159416, 0.76160675,\n",
       "       0.76160373, 0.76160242, 0.76159416, 0.76159416, 0.76159416,\n",
       "       0.76159416, 0.76160505, 0.76161721, 0.76159416, 0.76159416,\n",
       "       0.76159416, 0.76159416, 0.76160151, 0.76159416, 0.76159416,\n",
       "       0.76162149, 0.76159416, 0.76159416, 0.76159416, 0.76159416,\n",
       "       0.76159416, 0.76159416, 0.76159416, 0.76160014, 0.76163131,\n",
       "       0.76159416, 0.76164379, 0.76159918, 0.76159416, 0.76160293,\n",
       "       0.76159416, 0.76159416, 0.76160649, 0.76159416, 0.76159416,\n",
       "       0.76160159, 0.76159416, 0.76162117, 0.76160088, 0.76159416,\n",
       "       0.76159416, 0.76159416, 0.76159416, 0.76159416, 0.76161152,\n",
       "       0.76159416, 0.76160693, 0.76159416, 0.76159416, 0.76159859,\n",
       "       0.76160193, 0.76161474, 0.76159416, 0.76159416, 0.76160436,\n",
       "       0.76159416, 0.76159416, 0.76161591, 0.76159416, 0.76161442,\n",
       "       0.76159416, 0.76159416, 0.76159416, 0.76159416, 0.76161373,\n",
       "       0.76160181, 0.76159416, 0.76159416, 0.76159416, 0.76159416,\n",
       "       0.76159416, 0.76159416, 0.76159416, 0.76159416, 0.76159991,\n",
       "       0.76160679, 0.76159416, 0.76159416, 0.7616148 , 0.7616332 ,\n",
       "       0.76160176, 0.76160306, 0.76159416, 0.76160126, 0.76159416,\n",
       "       0.76159416, 0.76160364, 0.76159416, 0.76159416, 0.76159416,\n",
       "       0.76162031, 0.76160585, 0.7616092 , 0.76159978, 0.76159416,\n",
       "       0.76159416, 0.76160649, 0.7616231 , 0.76159416, 0.76159416,\n",
       "       0.76159416, 0.76159416, 0.76159416, 0.76159416, 0.76161921,\n",
       "       0.76160206, 0.76159416, 0.76159416, 0.76160228, 0.76159416,\n",
       "       0.76159416, 0.76159416, 0.76159416, 0.76159416, 0.76159416,\n",
       "       0.76162967, 0.76159416, 0.76160431, 0.76159416, 0.76159416,\n",
       "       0.76159416, 0.76159416, 0.76159416, 0.76160636, 0.76159416,\n",
       "       0.76161082, 0.76159416, 0.76159416, 0.76159416, 0.76159416,\n",
       "       0.76159416, 0.76159416, 0.76159416, 0.76160207, 0.76160392,\n",
       "       0.76159416, 0.76160942, 0.76159416, 0.76159416, 0.76159416,\n",
       "       0.76159416, 0.76159416, 0.76160198, 0.76159416, 0.76159762,\n",
       "       0.76159416, 0.76159416, 0.7616013 , 0.76159416, 0.76159416,\n",
       "       0.76161511, 0.76160094, 0.76159416, 0.76160451, 0.76159416,\n",
       "       0.76159416, 0.76159416, 0.76159416, 0.76159416, 0.76159416,\n",
       "       0.76159416, 0.7616247 , 0.76159885, 0.76159416, 0.76159416,\n",
       "       0.76160418, 0.7616065 , 0.76159416, 0.76159416, 0.76161689,\n",
       "       0.76160869, 0.76160182, 0.76159416, 0.76160268, 0.76159416,\n",
       "       0.76159416, 0.76159416, 0.76159416, 0.76159416, 0.76159416,\n",
       "       0.76160389, 0.76159934, 0.76159416, 0.76159416, 0.76159416,\n",
       "       0.76159416, 0.76159416, 0.76159416, 0.76159416, 0.76159876,\n",
       "       0.76159416, 0.76160436, 0.76164318, 0.76159416, 0.76159416,\n",
       "       0.76159416, 0.76161962, 0.76161022, 0.76159416, 0.76160138,\n",
       "       0.76159416, 0.76159416, 0.76159416, 0.76159416, 0.76159416,\n",
       "       0.76159416, 0.76159416, 0.76160682, 0.76159416, 0.76160658,\n",
       "       0.76159416, 0.76161486, 0.76159416, 0.76159416, 0.76159416,\n",
       "       0.76159416, 0.76163081, 0.76159416, 0.76159416, 0.76159416,\n",
       "       0.76159416, 0.76161005, 0.76159416, 0.76160336, 0.76160472,\n",
       "       0.76159416])"
      ]
     },
     "execution_count": 72,
     "metadata": {},
     "output_type": "execute_result"
    }
   ],
   "source": [
    "sigmoids[4]"
   ]
  },
  {
   "cell_type": "code",
   "execution_count": 74,
   "id": "132d9e4b",
   "metadata": {},
   "outputs": [
    {
     "data": {
      "text/plain": [
       "[(0, 0.7615941559557649),\n",
       " (1, 0.7616229088408012),\n",
       " (2, 0.7615941559557649),\n",
       " (3, 0.7616008163245983),\n",
       " (4, 0.7619202832910207),\n",
       " (5, 0.7615941559557649),\n",
       " (6, 0.7616013799166628),\n",
       " (7, 0.7616178496862341),\n",
       " (8, 0.7615941559557649),\n",
       " (9, 0.7616059786095721),\n",
       " (10, 0.7615941559557649),\n",
       " (11, 0.7616126396464535),\n",
       " (12, 0.7615941559557649),\n",
       " (13, 0.7615998113282151),\n",
       " (14, 0.761636163508133),\n",
       " (15, 0.7616053083212344),\n",
       " (16, 0.7616035081796559),\n",
       " (17, 0.7616079960800364),\n",
       " (18, 0.7615991929634056),\n",
       " (19, 0.7615941559557649),\n",
       " (20, 0.7616039114915022),\n",
       " (21, 0.7615941559557649),\n",
       " (22, 0.7616276232807233),\n",
       " (23, 0.7616317595194468),\n",
       " (24, 0.7616227668347585),\n",
       " (25, 0.7616056434394468),\n",
       " (26, 0.7615941559557649),\n",
       " (27, 0.761601236318118),\n",
       " (28, 0.7616153090036627),\n",
       " (29, 0.7615941559557649),\n",
       " (30, 0.7615941559557649),\n",
       " (31, 0.761604321111517),\n",
       " (32, 0.7616193890339251),\n",
       " (33, 0.7615941559557649),\n",
       " (34, 0.7615941559557649),\n",
       " (35, 0.7616086167863519),\n",
       " (36, 0.7615996598397013),\n",
       " (37, 0.7616077040613669),\n",
       " (38, 0.7615941559557649),\n",
       " (39, 0.7616048447549703),\n",
       " (40, 0.7615941559557649),\n",
       " (41, 0.7616108172563515),\n",
       " (42, 0.7616397147718131),\n",
       " (43, 0.7616323784739277),\n",
       " (44, 0.761615560932481),\n",
       " (45, 0.7616004226533517),\n",
       " (46, 0.7616298170848382),\n",
       " (47, 0.7616103639656235),\n",
       " (48, 0.7616077977519125),\n",
       " (49, 0.7616009258402667),\n",
       " (50, 0.7615941559557649),\n",
       " (51, 0.7616053841632648),\n",
       " (52, 0.7615941559557649),\n",
       " (53, 0.7616063847747921),\n",
       " (54, 0.7615941559557649),\n",
       " (55, 0.7615941559557649),\n",
       " (56, 0.7615941559557649),\n",
       " (57, 0.7616092592742401),\n",
       " (58, 0.7616014693265748),\n",
       " (59, 0.7615941559557649),\n",
       " (60, 0.7615941559557649),\n",
       " (61, 0.7615941559557649),\n",
       " (62, 0.7615941559557649),\n",
       " (63, 0.7615941559557649),\n",
       " (64, 0.7616261706065526),\n",
       " (65, 0.7616083577525543),\n",
       " (66, 0.7615941559557649),\n",
       " (67, 0.7616144456609167),\n",
       " (68, 0.7615941559557649),\n",
       " (69, 0.7616149670845241),\n",
       " (70, 0.7616135868363026),\n",
       " (71, 0.761636288225287),\n",
       " (72, 0.7615986744165834),\n",
       " (73, 0.7615941559557649),\n",
       " (74, 0.7615941559557649),\n",
       " (75, 0.7615941559557649),\n",
       " (76, 0.7616518249178784),\n",
       " (77, 0.7616132806448218),\n",
       " (78, 0.761603614354355),\n",
       " (79, 0.7615941559557649),\n",
       " (80, 0.7615941559557649),\n",
       " (81, 0.7615941559557649),\n",
       " (82, 0.7616100589085387),\n",
       " (83, 0.7615941559557649),\n",
       " (84, 0.7615941559557649),\n",
       " (85, 0.761599752034116),\n",
       " (86, 0.7615992807527325),\n",
       " (87, 0.7615941559557649),\n",
       " (88, 0.7616248165262404),\n",
       " (89, 0.76162161200854),\n",
       " (90, 0.7615941559557649),\n",
       " (91, 0.7616119990062361),\n",
       " (92, 0.7615941559557649),\n",
       " (93, 0.7616271364931605),\n",
       " (94, 0.7615998558674175),\n",
       " (95, 0.761610119002462),\n",
       " (96, 0.7615984809742671),\n",
       " (97, 0.7615941559557649),\n",
       " (98, 0.7615941559557649),\n",
       " (99, 0.7615941559557649),\n",
       " (100, 0.7616047664794462),\n",
       " (101, 0.7615941559557649),\n",
       " (102, 0.7615996246327289),\n",
       " (103, 0.7615941559557649),\n",
       " (104, 0.7616268762556744),\n",
       " (105, 0.7616044659916579),\n",
       " (106, 0.76160751561672),\n",
       " (107, 0.7616011581167971),\n",
       " (108, 0.7615941559557649),\n",
       " (109, 0.761600159933752),\n",
       " (110, 0.7615941559557649),\n",
       " (111, 0.7616031673015164),\n",
       " (112, 0.7615941559557649),\n",
       " (113, 0.7615941559557649),\n",
       " (114, 0.7615941559557649),\n",
       " (115, 0.7616045489300338),\n",
       " (116, 0.7615941559557649),\n",
       " (117, 0.7616085727062464),\n",
       " (118, 0.7615941559557649),\n",
       " (119, 0.7615941559557649),\n",
       " (120, 0.7616102047904595),\n",
       " (121, 0.7615941559557649),\n",
       " (122, 0.7616136729712565),\n",
       " (123, 0.761607628359619),\n",
       " (124, 0.7615941559557649),\n",
       " (125, 0.7616380036454662),\n",
       " (126, 0.7615941559557649),\n",
       " (127, 0.7616266652329342),\n",
       " (128, 0.7615941559557649),\n",
       " (129, 0.7615941559557649),\n",
       " (130, 0.7615941559557649),\n",
       " (131, 0.7615941559557649),\n",
       " (132, 0.7615992038123598),\n",
       " (133, 0.7615941559557649),\n",
       " (134, 0.7615941559557649),\n",
       " (135, 0.7615941559557649),\n",
       " (136, 0.7615941559557649),\n",
       " (137, 0.7616148752417015),\n",
       " (138, 0.7615941559557649),\n",
       " (139, 0.7616043216158991),\n",
       " (140, 0.7616084541731006),\n",
       " (141, 0.7615941559557649),\n",
       " (142, 0.7615941559557649),\n",
       " (143, 0.7615941559557649),\n",
       " (144, 0.7616348376324142),\n",
       " (145, 0.7615941559557649),\n",
       " (146, 0.7615941559557649),\n",
       " (147, 0.7615941559557649),\n",
       " (148, 0.7615941559557649),\n",
       " (149, 0.7615941559557649),\n",
       " (150, 0.7615941559557649),\n",
       " (151, 0.7615993023430767),\n",
       " (152, 0.7615941559557649),\n",
       " (153, 0.7615941559557649),\n",
       " (154, 0.7615941559557649),\n",
       " (155, 0.7615941559557649),\n",
       " (156, 0.7615941559557649),\n",
       " (157, 0.7616163283505498),\n",
       " (158, 0.7616066995841901),\n",
       " (159, 0.7616294210407324),\n",
       " (160, 0.7615941559557649),\n",
       " (161, 0.7616124116949036),\n",
       " (162, 0.761602666771055),\n",
       " (163, 0.7615941559557649),\n",
       " (164, 0.7615941559557649),\n",
       " (165, 0.7616035354170811),\n",
       " (166, 0.7615941559557649),\n",
       " (167, 0.7615941559557649),\n",
       " (168, 0.7615941559557649),\n",
       " (169, 0.7615941559557649),\n",
       " (170, 0.7615941559557649),\n",
       " (171, 0.7615941559557649),\n",
       " (172, 0.7616050879153995),\n",
       " (173, 0.7615941559557649),\n",
       " (174, 0.7616121733914741),\n",
       " (175, 0.7616215089043672),\n",
       " (176, 0.7616138980358665),\n",
       " (177, 0.7615941559557649),\n",
       " (178, 0.7616069659464255),\n",
       " (179, 0.761619195893856),\n",
       " (180, 0.7616124717609319),\n",
       " (181, 0.761611196680833),\n",
       " (182, 0.7615941559557649),\n",
       " (183, 0.7616123189069213),\n",
       " (184, 0.761605149188252),\n",
       " (185, 0.761598575495183),\n",
       " (186, 0.7616158473380699),\n",
       " (187, 0.7615941559557649),\n",
       " (188, 0.7615941559557649),\n",
       " (189, 0.761602188978938),\n",
       " (190, 0.7616029315230917),\n",
       " (191, 0.7616008622582275),\n",
       " (192, 0.7615941559557649),\n",
       " (193, 0.7615941559557649),\n",
       " (194, 0.7615941559557649),\n",
       " (195, 0.7616409940347173),\n",
       " (196, 0.7616001508802045),\n",
       " (197, 0.7615941559557649),\n",
       " (198, 0.7615941559557649),\n",
       " (199, 0.7615941559557649),\n",
       " (200, 0.7615941559557649),\n",
       " (201, 0.7615941559557649),\n",
       " (202, 0.7616006275156512),\n",
       " (203, 0.7616103449310647),\n",
       " (204, 0.7615941559557649),\n",
       " (205, 0.7616102728265167),\n",
       " (206, 0.7616056586029962),\n",
       " (207, 0.7616099650164891),\n",
       " (208, 0.7615941559557649),\n",
       " (209, 0.7615941559557649),\n",
       " (210, 0.7615941559557649),\n",
       " (211, 0.7615941559557649),\n",
       " (212, 0.7615941559557649),\n",
       " (213, 0.7616101062052297),\n",
       " (214, 0.7616173252016235),\n",
       " (215, 0.7616026897645731),\n",
       " (216, 0.7616098716895258),\n",
       " (217, 0.7616135680722294),\n",
       " (218, 0.7615993172013967),\n",
       " (219, 0.7615941559557649),\n",
       " (220, 0.7615941559557649),\n",
       " (221, 0.7615941559557649),\n",
       " (222, 0.7615941559557649),\n",
       " (223, 0.7615941559557649),\n",
       " (224, 0.7616019520061995),\n",
       " (225, 0.7615941559557649),\n",
       " (226, 0.7616137712717055),\n",
       " (227, 0.7615941559557649),\n",
       " (228, 0.7615941559557649),\n",
       " (229, 0.7615941559557649),\n",
       " (230, 0.7615941559557649),\n",
       " (231, 0.7615941559557649),\n",
       " (232, 0.7616176164216932),\n",
       " (233, 0.7615941559557649),\n",
       " (234, 0.7616146611862085),\n",
       " (235, 0.7615941559557649),\n",
       " (236, 0.7616196296291813),\n",
       " (237, 0.7615941559557649),\n",
       " (238, 0.7616051208577195),\n",
       " (239, 0.7616094883876061),\n",
       " (240, 0.7615941559557649),\n",
       " (241, 0.7615941559557649),\n",
       " (242, 0.7615941559557649),\n",
       " (243, 0.7615941559557649),\n",
       " (244, 0.7616083716631729),\n",
       " (245, 0.761608513322905),\n",
       " (246, 0.7615941559557649),\n",
       " (247, 0.7616000858399491),\n",
       " (248, 0.7615941559557649),\n",
       " (249, 0.7615941559557649),\n",
       " (250, 0.7615941559557649),\n",
       " (251, 0.7616127956063679),\n",
       " (252, 0.7615941559557649),\n",
       " (253, 0.7615941559557649),\n",
       " (254, 0.7616067486946124),\n",
       " (255, 0.7616037287930332),\n",
       " (256, 0.7616024177520389),\n",
       " (257, 0.7615941559557649),\n",
       " (258, 0.7615941559557649),\n",
       " (259, 0.7615941559557649),\n",
       " (260, 0.7615941559557649),\n",
       " (261, 0.7616050524530639),\n",
       " (262, 0.7616172110513851),\n",
       " (263, 0.7615941559557649),\n",
       " (264, 0.7615941559557649),\n",
       " (265, 0.7615941559557649),\n",
       " (266, 0.7615941559557649),\n",
       " (267, 0.7616015109218464),\n",
       " (268, 0.7615941559557649),\n",
       " (269, 0.7615941559557649),\n",
       " (270, 0.7616214902362615),\n",
       " (271, 0.7615941559557649),\n",
       " (272, 0.7615941559557649),\n",
       " (273, 0.7615941559557649),\n",
       " (274, 0.7615941559557649),\n",
       " (275, 0.7615941559557649),\n",
       " (276, 0.7615941559557649),\n",
       " (277, 0.7615941559557649),\n",
       " (278, 0.7616001387968988),\n",
       " (279, 0.7616313135764458),\n",
       " (280, 0.7615941559557649),\n",
       " (281, 0.7616437894351968),\n",
       " (282, 0.7615991753841315),\n",
       " (283, 0.7615941559557649),\n",
       " (284, 0.7616029321191494),\n",
       " (285, 0.7615941559557649),\n",
       " (286, 0.7615941559557649),\n",
       " (287, 0.7616064937365353),\n",
       " (288, 0.7615941559557649),\n",
       " (289, 0.7615941559557649),\n",
       " (290, 0.761601593248049),\n",
       " (291, 0.7615941559557649),\n",
       " (292, 0.7616211707221299),\n",
       " (293, 0.7616008800006321),\n",
       " (294, 0.7615941559557649),\n",
       " (295, 0.7615941559557649),\n",
       " (296, 0.7615941559557649),\n",
       " (297, 0.7615941559557649),\n",
       " (298, 0.7615941559557649),\n",
       " (299, 0.7616115178815033),\n",
       " (300, 0.7615941559557649),\n",
       " (301, 0.7616069273869314),\n",
       " (302, 0.7615941559557649),\n",
       " (303, 0.7615941559557649),\n",
       " (304, 0.7615985857863846),\n",
       " (305, 0.7616019294597183),\n",
       " (306, 0.761614739718399),\n",
       " (307, 0.7615941559557649),\n",
       " (308, 0.7615941559557649),\n",
       " (309, 0.7616043648366487),\n",
       " (310, 0.7615941559557649),\n",
       " (311, 0.7615941559557649),\n",
       " (312, 0.7616159129181973),\n",
       " (313, 0.7615941559557649),\n",
       " (314, 0.7616144167275621),\n",
       " (315, 0.7615941559557649),\n",
       " (316, 0.7615941559557649),\n",
       " (317, 0.7615941559557649),\n",
       " (318, 0.7615941559557649),\n",
       " (319, 0.7616137275024613),\n",
       " (320, 0.7616018130349735),\n",
       " (321, 0.7615941559557649),\n",
       " (322, 0.7615941559557649),\n",
       " (323, 0.7615941559557649),\n",
       " (324, 0.7615941559557649),\n",
       " (325, 0.7615941559557649),\n",
       " (326, 0.7615941559557649),\n",
       " (327, 0.7615941559557649),\n",
       " (328, 0.7615941559557649),\n",
       " (329, 0.7615999128815043),\n",
       " (330, 0.7616067935857642),\n",
       " (331, 0.7615941559557649),\n",
       " (332, 0.7615941559557649),\n",
       " (333, 0.7616147973037658),\n",
       " (334, 0.7616331981971567),\n",
       " (335, 0.761601759138222),\n",
       " (336, 0.7616030580448201),\n",
       " (337, 0.7615941559557649),\n",
       " (338, 0.7616012552802297),\n",
       " (339, 0.7615941559557649),\n",
       " (340, 0.7615941559557649),\n",
       " (341, 0.7616036430535841),\n",
       " (342, 0.7615941559557649),\n",
       " (343, 0.7615941559557649),\n",
       " (344, 0.7615941559557649),\n",
       " (345, 0.761620306391053),\n",
       " (346, 0.7616058466271824),\n",
       " (347, 0.7616091969091605),\n",
       " (348, 0.7615997849819959),\n",
       " (349, 0.7615941559557649),\n",
       " (350, 0.7615941559557649),\n",
       " (351, 0.7616064884886062),\n",
       " (352, 0.7616230953011919),\n",
       " (353, 0.7615941559557649),\n",
       " (354, 0.7615941559557649),\n",
       " (355, 0.7615941559557649),\n",
       " (356, 0.7615941559557649),\n",
       " (357, 0.7615941559557649),\n",
       " (358, 0.7615941559557649),\n",
       " (359, 0.761619205195358),\n",
       " (360, 0.761602064506019),\n",
       " (361, 0.7615941559557649),\n",
       " (362, 0.7615941559557649),\n",
       " (363, 0.7616022787960617),\n",
       " (364, 0.7615941559557649),\n",
       " (365, 0.7615941559557649),\n",
       " (366, 0.7615941559557649),\n",
       " (367, 0.7615941559557649),\n",
       " (368, 0.7615941559557649),\n",
       " (369, 0.7615941559557649),\n",
       " (370, 0.7616296749923823),\n",
       " (371, 0.7615941559557649),\n",
       " (372, 0.7616043110953213),\n",
       " (373, 0.7615941559557649),\n",
       " (374, 0.7615941559557649),\n",
       " (375, 0.7615941559557649),\n",
       " (376, 0.7615941559557649),\n",
       " (377, 0.7615941559557649),\n",
       " (378, 0.7616063647964494),\n",
       " (379, 0.7615941559557649),\n",
       " (380, 0.7616108162334428),\n",
       " (381, 0.7615941559557649),\n",
       " (382, 0.7615941559557649),\n",
       " (383, 0.7615941559557649),\n",
       " (384, 0.7615941559557649),\n",
       " (385, 0.7615941559557649),\n",
       " (386, 0.7615941559557649),\n",
       " (387, 0.7615941559557649),\n",
       " (388, 0.7616020732529158),\n",
       " (389, 0.7616039160196318),\n",
       " (390, 0.7615941559557649),\n",
       " (391, 0.7616094175239717),\n",
       " (392, 0.7615941559557649),\n",
       " (393, 0.7615941559557649),\n",
       " (394, 0.7615941559557649),\n",
       " (395, 0.7615941559557649),\n",
       " (396, 0.7615941559557649),\n",
       " (397, 0.7616019770455315),\n",
       " (398, 0.7615941559557649),\n",
       " (399, 0.7615976240425671),\n",
       " (400, 0.7615941559557649),\n",
       " (401, 0.7615941559557649),\n",
       " (402, 0.7616013047490071),\n",
       " (403, 0.7615941559557649),\n",
       " (404, 0.7615941559557649),\n",
       " (405, 0.7616151066801081),\n",
       " (406, 0.7616009386999134),\n",
       " (407, 0.7615941559557649),\n",
       " (408, 0.7616045115873928),\n",
       " (409, 0.7615941559557649),\n",
       " (410, 0.7615941559557649),\n",
       " (411, 0.7615941559557649),\n",
       " (412, 0.7615941559557649),\n",
       " (413, 0.7615941559557649),\n",
       " (414, 0.7615941559557649),\n",
       " (415, 0.7615941559557649),\n",
       " (416, 0.7616247046489037),\n",
       " (417, 0.7615988489864852),\n",
       " (418, 0.7615941559557649),\n",
       " (419, 0.7615941559557649),\n",
       " (420, 0.761604178034431),\n",
       " (421, 0.7616064958339448),\n",
       " (422, 0.7615941559557649),\n",
       " (423, 0.7615941559557649),\n",
       " (424, 0.7616168851230704),\n",
       " (425, 0.7616086865746556),\n",
       " (426, 0.7616018212789798),\n",
       " (427, 0.7615941559557649),\n",
       " (428, 0.7616026761015495),\n",
       " (429, 0.7615941559557649),\n",
       " (430, 0.7615941559557649),\n",
       " (431, 0.7615941559557649),\n",
       " (432, 0.7615941559557649),\n",
       " (433, 0.7615941559557649),\n",
       " (434, 0.7615941559557649),\n",
       " (435, 0.761603891361437),\n",
       " (436, 0.7615993407609483),\n",
       " (437, 0.7615941559557649),\n",
       " (438, 0.7615941559557649),\n",
       " (439, 0.7615941559557649),\n",
       " (440, 0.7615941559557649),\n",
       " (441, 0.7615941559557649),\n",
       " (442, 0.7615941559557649),\n",
       " (443, 0.7615941559557649),\n",
       " (444, 0.7615987577497212),\n",
       " (445, 0.7615941559557649),\n",
       " (446, 0.7616043587414575),\n",
       " (447, 0.7616431801535386),\n",
       " (448, 0.7615941559557649),\n",
       " (449, 0.7615941559557649),\n",
       " (450, 0.7615941559557649),\n",
       " (451, 0.7616196155155547),\n",
       " (452, 0.7616102182102911),\n",
       " (453, 0.7615941559557649),\n",
       " (454, 0.7616013837521435),\n",
       " (455, 0.7615941559557649),\n",
       " (456, 0.7615941559557649),\n",
       " (457, 0.7615941559557649),\n",
       " (458, 0.7615941559557649),\n",
       " (459, 0.7615941559557649),\n",
       " (460, 0.7615941559557649),\n",
       " (461, 0.7615941559557649),\n",
       " (462, 0.7616068190828676),\n",
       " (463, 0.7615941559557649),\n",
       " (464, 0.7616065793231335),\n",
       " (465, 0.7615941559557649),\n",
       " (466, 0.7616148639539675),\n",
       " (467, 0.7615941559557649),\n",
       " (468, 0.7615941559557649),\n",
       " (469, 0.7615941559557649),\n",
       " (470, 0.7615941559557649),\n",
       " (471, 0.7616308120759053),\n",
       " (472, 0.7615941559557649),\n",
       " (473, 0.7615941559557649),\n",
       " (474, 0.7615941559557649),\n",
       " (475, 0.7615941559557649),\n",
       " (476, 0.7616100464563974),\n",
       " (477, 0.7615941559557649),\n",
       " (478, 0.761603364803487),\n",
       " (479, 0.7616047173030757),\n",
       " (480, 0.7615941559557649)]"
      ]
     },
     "execution_count": 74,
     "metadata": {},
     "output_type": "execute_result"
    }
   ],
   "source": [
    "list(enumerate(sigmoids[indices['John Carter']]))"
   ]
  },
  {
   "cell_type": "code",
   "execution_count": 75,
   "id": "d6de45a9",
   "metadata": {},
   "outputs": [],
   "source": [
    "sigma = sorted(list(enumerate(sigmoids[indices['John Carter']])) , key= lambda x: x[1], reverse=True)"
   ]
  },
  {
   "cell_type": "code",
   "execution_count": 76,
   "id": "80354487",
   "metadata": {},
   "outputs": [
    {
     "data": {
      "text/plain": [
       "[(4, 0.7619202832910207),\n",
       " (76, 0.7616518249178784),\n",
       " (281, 0.7616437894351968),\n",
       " (447, 0.7616431801535386),\n",
       " (195, 0.7616409940347173),\n",
       " (42, 0.7616397147718131),\n",
       " (125, 0.7616380036454662),\n",
       " (71, 0.761636288225287),\n",
       " (14, 0.761636163508133),\n",
       " (144, 0.7616348376324142)]"
      ]
     },
     "execution_count": 76,
     "metadata": {},
     "output_type": "execute_result"
    }
   ],
   "source": [
    "sigma[0:10]"
   ]
  },
  {
   "cell_type": "code",
   "execution_count": 77,
   "id": "e8281085",
   "metadata": {},
   "outputs": [],
   "source": [
    "ind = [i[0] for i in sigma[0:10]]"
   ]
  },
  {
   "cell_type": "code",
   "execution_count": 78,
   "id": "bc849934",
   "metadata": {},
   "outputs": [
    {
     "data": {
      "text/plain": [
       "[4, 76, 281, 447, 195, 42, 125, 71, 14, 144]"
      ]
     },
     "execution_count": 78,
     "metadata": {},
     "output_type": "execute_result"
    }
   ],
   "source": [
    "ind"
   ]
  },
  {
   "cell_type": "code",
   "execution_count": 79,
   "id": "49c2f888",
   "metadata": {},
   "outputs": [],
   "source": [
    "dataframe = data.reset_index()"
   ]
  },
  {
   "cell_type": "code",
   "execution_count": 80,
   "id": "df366a41",
   "metadata": {},
   "outputs": [
    {
     "data": {
      "text/plain": [
       "4                                John Carter\n",
       "76              Independence Day: Resurgence\n",
       "281                      The Bourne Identity\n",
       "447                    2001: A Space Odyssey\n",
       "195                        The Fifth Element\n",
       "42                X-Men: Days of Future Past\n",
       "125       Captain America: The First Avenger\n",
       "71       Captain America: The Winter Soldier\n",
       "14                              The Avengers\n",
       "144    The Hunger Games: Mockingjay - Part 1\n",
       "Name: original_title, dtype: object"
      ]
     },
     "execution_count": 80,
     "metadata": {},
     "output_type": "execute_result"
    }
   ],
   "source": [
    "dataframe['original_title'][ind]"
   ]
  },
  {
   "cell_type": "code",
   "execution_count": null,
   "id": "ada58ae0",
   "metadata": {},
   "outputs": [],
   "source": []
  },
  {
   "cell_type": "code",
   "execution_count": null,
   "id": "deba3b90",
   "metadata": {},
   "outputs": [],
   "source": []
  }
 ],
 "metadata": {
  "kernelspec": {
   "display_name": "Python 3",
   "language": "python",
   "name": "python3"
  },
  "language_info": {
   "codemirror_mode": {
    "name": "ipython",
    "version": 3
   },
   "file_extension": ".py",
   "mimetype": "text/x-python",
   "name": "python",
   "nbconvert_exporter": "python",
   "pygments_lexer": "ipython3",
   "version": "3.12.7"
  }
 },
 "nbformat": 4,
 "nbformat_minor": 5
}
