{
 "cells": [
  {
   "cell_type": "code",
   "execution_count": 2,
   "metadata": {},
   "outputs": [],
   "source": [
    "import pandas as pd\n",
    "import numpy as np\n",
    "import matplotlib.pyplot as plt\n",
    "import seaborn as sns"
   ]
  },
  {
   "cell_type": "code",
   "execution_count": 3,
   "metadata": {},
   "outputs": [
    {
     "data": {
      "text/plain": [
       "Index(['Date', 'Symbol', 'Series', 'Prev Close', 'Open', 'High', 'Low', 'Last',\n",
       "       'Close', 'VWAP', 'Volume', 'Turnover', 'Trades', 'Deliverable Volume',\n",
       "       '%Deliverble'],\n",
       "      dtype='object')"
      ]
     },
     "execution_count": 3,
     "metadata": {},
     "output_type": "execute_result"
    }
   ],
   "source": [
    "df = pd.read_csv(r\"Datasets\\BAJAJFINSV.csv\")\n",
    "df.columns"
   ]
  },
  {
   "cell_type": "code",
   "execution_count": 4,
   "metadata": {},
   "outputs": [
    {
     "data": {
      "text/html": [
       "<div>\n",
       "<style scoped>\n",
       "    .dataframe tbody tr th:only-of-type {\n",
       "        vertical-align: middle;\n",
       "    }\n",
       "\n",
       "    .dataframe tbody tr th {\n",
       "        vertical-align: top;\n",
       "    }\n",
       "\n",
       "    .dataframe thead th {\n",
       "        text-align: right;\n",
       "    }\n",
       "</style>\n",
       "<table border=\"1\" class=\"dataframe\">\n",
       "  <thead>\n",
       "    <tr style=\"text-align: right;\">\n",
       "      <th></th>\n",
       "      <th>Prev Close</th>\n",
       "      <th>Open</th>\n",
       "      <th>High</th>\n",
       "      <th>Low</th>\n",
       "      <th>Last</th>\n",
       "      <th>Close</th>\n",
       "      <th>VWAP</th>\n",
       "      <th>Volume</th>\n",
       "      <th>Turnover</th>\n",
       "      <th>Trades</th>\n",
       "      <th>Deliverable Volume</th>\n",
       "      <th>%Deliverble</th>\n",
       "    </tr>\n",
       "  </thead>\n",
       "  <tbody>\n",
       "    <tr>\n",
       "      <th>count</th>\n",
       "      <td>3201.000000</td>\n",
       "      <td>3201.000000</td>\n",
       "      <td>3201.000000</td>\n",
       "      <td>3201.000000</td>\n",
       "      <td>3201.000000</td>\n",
       "      <td>3201.000000</td>\n",
       "      <td>3201.000000</td>\n",
       "      <td>3.201000e+03</td>\n",
       "      <td>3.201000e+03</td>\n",
       "      <td>2456.000000</td>\n",
       "      <td>3.201000e+03</td>\n",
       "      <td>3201.000000</td>\n",
       "    </tr>\n",
       "    <tr>\n",
       "      <th>mean</th>\n",
       "      <td>2755.864386</td>\n",
       "      <td>2760.382381</td>\n",
       "      <td>2803.614449</td>\n",
       "      <td>2716.731443</td>\n",
       "      <td>2758.781537</td>\n",
       "      <td>2758.657451</td>\n",
       "      <td>2761.156954</td>\n",
       "      <td>2.315312e+05</td>\n",
       "      <td>9.533424e+13</td>\n",
       "      <td>20892.811075</td>\n",
       "      <td>7.409510e+04</td>\n",
       "      <td>0.471614</td>\n",
       "    </tr>\n",
       "    <tr>\n",
       "      <th>std</th>\n",
       "      <td>2869.811765</td>\n",
       "      <td>2874.814173</td>\n",
       "      <td>2912.885262</td>\n",
       "      <td>2834.037357</td>\n",
       "      <td>2873.792614</td>\n",
       "      <td>2873.522615</td>\n",
       "      <td>2874.033545</td>\n",
       "      <td>4.402681e+05</td>\n",
       "      <td>2.176448e+14</td>\n",
       "      <td>32396.302068</td>\n",
       "      <td>1.464012e+05</td>\n",
       "      <td>0.218910</td>\n",
       "    </tr>\n",
       "    <tr>\n",
       "      <th>min</th>\n",
       "      <td>90.750000</td>\n",
       "      <td>88.150000</td>\n",
       "      <td>93.100000</td>\n",
       "      <td>88.150000</td>\n",
       "      <td>91.000000</td>\n",
       "      <td>90.750000</td>\n",
       "      <td>89.260000</td>\n",
       "      <td>4.570000e+02</td>\n",
       "      <td>1.376712e+10</td>\n",
       "      <td>149.000000</td>\n",
       "      <td>4.560000e+02</td>\n",
       "      <td>0.056200</td>\n",
       "    </tr>\n",
       "    <tr>\n",
       "      <th>25%</th>\n",
       "      <td>527.900000</td>\n",
       "      <td>528.600000</td>\n",
       "      <td>542.600000</td>\n",
       "      <td>520.000000</td>\n",
       "      <td>527.950000</td>\n",
       "      <td>527.900000</td>\n",
       "      <td>531.270000</td>\n",
       "      <td>3.981100e+04</td>\n",
       "      <td>2.751053e+12</td>\n",
       "      <td>2951.750000</td>\n",
       "      <td>2.086300e+04</td>\n",
       "      <td>0.287400</td>\n",
       "    </tr>\n",
       "    <tr>\n",
       "      <th>50%</th>\n",
       "      <td>1098.700000</td>\n",
       "      <td>1095.000000</td>\n",
       "      <td>1118.000000</td>\n",
       "      <td>1080.250000</td>\n",
       "      <td>1100.000000</td>\n",
       "      <td>1098.700000</td>\n",
       "      <td>1103.560000</td>\n",
       "      <td>9.995300e+04</td>\n",
       "      <td>1.090486e+13</td>\n",
       "      <td>9450.000000</td>\n",
       "      <td>4.159700e+04</td>\n",
       "      <td>0.469700</td>\n",
       "    </tr>\n",
       "    <tr>\n",
       "      <th>75%</th>\n",
       "      <td>5121.900000</td>\n",
       "      <td>5120.000000</td>\n",
       "      <td>5199.800000</td>\n",
       "      <td>5042.800000</td>\n",
       "      <td>5115.000000</td>\n",
       "      <td>5125.100000</td>\n",
       "      <td>5127.510000</td>\n",
       "      <td>2.315400e+05</td>\n",
       "      <td>8.755946e+13</td>\n",
       "      <td>24439.750000</td>\n",
       "      <td>8.308900e+04</td>\n",
       "      <td>0.636000</td>\n",
       "    </tr>\n",
       "    <tr>\n",
       "      <th>max</th>\n",
       "      <td>11176.550000</td>\n",
       "      <td>11000.000000</td>\n",
       "      <td>11300.000000</td>\n",
       "      <td>10868.700000</td>\n",
       "      <td>11175.450000</td>\n",
       "      <td>11176.550000</td>\n",
       "      <td>11081.780000</td>\n",
       "      <td>6.271671e+06</td>\n",
       "      <td>3.394379e+15</td>\n",
       "      <td>312959.000000</td>\n",
       "      <td>3.804696e+06</td>\n",
       "      <td>1.000000</td>\n",
       "    </tr>\n",
       "  </tbody>\n",
       "</table>\n",
       "</div>"
      ],
      "text/plain": [
       "         Prev Close          Open          High           Low          Last  \\\n",
       "count   3201.000000   3201.000000   3201.000000   3201.000000   3201.000000   \n",
       "mean    2755.864386   2760.382381   2803.614449   2716.731443   2758.781537   \n",
       "std     2869.811765   2874.814173   2912.885262   2834.037357   2873.792614   \n",
       "min       90.750000     88.150000     93.100000     88.150000     91.000000   \n",
       "25%      527.900000    528.600000    542.600000    520.000000    527.950000   \n",
       "50%     1098.700000   1095.000000   1118.000000   1080.250000   1100.000000   \n",
       "75%     5121.900000   5120.000000   5199.800000   5042.800000   5115.000000   \n",
       "max    11176.550000  11000.000000  11300.000000  10868.700000  11175.450000   \n",
       "\n",
       "              Close          VWAP        Volume      Turnover         Trades  \\\n",
       "count   3201.000000   3201.000000  3.201000e+03  3.201000e+03    2456.000000   \n",
       "mean    2758.657451   2761.156954  2.315312e+05  9.533424e+13   20892.811075   \n",
       "std     2873.522615   2874.033545  4.402681e+05  2.176448e+14   32396.302068   \n",
       "min       90.750000     89.260000  4.570000e+02  1.376712e+10     149.000000   \n",
       "25%      527.900000    531.270000  3.981100e+04  2.751053e+12    2951.750000   \n",
       "50%     1098.700000   1103.560000  9.995300e+04  1.090486e+13    9450.000000   \n",
       "75%     5125.100000   5127.510000  2.315400e+05  8.755946e+13   24439.750000   \n",
       "max    11176.550000  11081.780000  6.271671e+06  3.394379e+15  312959.000000   \n",
       "\n",
       "       Deliverable Volume  %Deliverble  \n",
       "count        3.201000e+03  3201.000000  \n",
       "mean         7.409510e+04     0.471614  \n",
       "std          1.464012e+05     0.218910  \n",
       "min          4.560000e+02     0.056200  \n",
       "25%          2.086300e+04     0.287400  \n",
       "50%          4.159700e+04     0.469700  \n",
       "75%          8.308900e+04     0.636000  \n",
       "max          3.804696e+06     1.000000  "
      ]
     },
     "execution_count": 4,
     "metadata": {},
     "output_type": "execute_result"
    }
   ],
   "source": [
    "\n",
    "date = df.set_index('Date')\n",
    "date.describe()"
   ]
  },
  {
   "cell_type": "code",
   "execution_count": 5,
   "metadata": {},
   "outputs": [
    {
     "data": {
      "text/plain": [
       "Symbol                  0\n",
       "Series                  0\n",
       "Prev Close              0\n",
       "Open                    0\n",
       "High                    0\n",
       "Low                     0\n",
       "Last                    0\n",
       "Close                   0\n",
       "VWAP                    0\n",
       "Volume                  0\n",
       "Turnover                0\n",
       "Trades                745\n",
       "Deliverable Volume      0\n",
       "%Deliverble             0\n",
       "dtype: int64"
      ]
     },
     "execution_count": 5,
     "metadata": {},
     "output_type": "execute_result"
    }
   ],
   "source": [
    "date.isna().sum()"
   ]
  },
  {
   "cell_type": "code",
   "execution_count": 6,
   "metadata": {},
   "outputs": [],
   "source": [
    "dataframe = date.drop(columns=['Trades'], axis=1)"
   ]
  },
  {
   "cell_type": "code",
   "execution_count": 7,
   "metadata": {},
   "outputs": [
    {
     "data": {
      "text/plain": [
       "Symbol                0\n",
       "Series                0\n",
       "Prev Close            0\n",
       "Open                  0\n",
       "High                  0\n",
       "Low                   0\n",
       "Last                  0\n",
       "Close                 0\n",
       "VWAP                  0\n",
       "Volume                0\n",
       "Turnover              0\n",
       "Deliverable Volume    0\n",
       "%Deliverble           0\n",
       "dtype: int64"
      ]
     },
     "execution_count": 7,
     "metadata": {},
     "output_type": "execute_result"
    }
   ],
   "source": [
    "dataframe.isnull().sum()"
   ]
  },
  {
   "cell_type": "markdown",
   "metadata": {},
   "source": [
    "#### Plotting the target variable VWAP over time"
   ]
  },
  {
   "cell_type": "code",
   "execution_count": 8,
   "metadata": {},
   "outputs": [
    {
     "data": {
      "text/plain": [
       "<Axes: >"
      ]
     },
     "execution_count": 8,
     "metadata": {},
     "output_type": "execute_result"
    },
    {
     "data": {
      "image/png": "[encoded data removed]",
      "text/plain": [
       "<Figure size 800x600 with 1 Axes>"
      ]
     },
     "metadata": {},
     "output_type": "display_data"
    }
   ],
   "source": [
    "df['VWAP'].plot(figsize= (8,6))"
   ]
  },
  {
   "cell_type": "code",
   "execution_count": 9,
   "metadata": {},
   "outputs": [
    {
     "data": {
      "text/plain": [
       "<Axes: xlabel='VWAP', ylabel='Count'>"
      ]
     },
     "execution_count": 9,
     "metadata": {},
     "output_type": "execute_result"
    },
    {
     "data": {
      "image/png": "[encoded data removed]",
      "text/plain": [
       "<Figure size 640x480 with 1 Axes>"
      ]
     },
     "metadata": {},
     "output_type": "display_data"
    }
   ],
   "source": [
    "sns.histplot(data = dataframe, x='VWAP')"
   ]
  },
  {
   "cell_type": "code",
   "execution_count": 10,
   "metadata": {},
   "outputs": [
    {
     "data": {
      "text/plain": [
       "<Axes: xlabel='VWAP', ylabel='Density'>"
      ]
     },
     "execution_count": 10,
     "metadata": {},
     "output_type": "execute_result"
    },
    {
     "data": {
      "image/png": "[encoded data removed]",
      "text/plain": [
       "<Figure size 640x480 with 1 Axes>"
      ]
     },
     "metadata": {},
     "output_type": "display_data"
    }
   ],
   "source": [
    "sns.kdeplot(data=dataframe, x= \"VWAP\", fill=True)"
   ]
  },
  {
   "cell_type": "markdown",
   "metadata": {},
   "source": [
    "### so u can observe here some kind of Seasonality"
   ]
  },
  {
   "cell_type": "raw",
   "metadata": {},
   "source": [
    "Feature Engineering\n",
    "Almost every time series problem will have some external features or some internal feature engineering to help the model.\n",
    "\n",
    "Let's add some basic features like lag values of available numeric features that are widely used for time series problems. Since we need to predict the price of the stock for a day, we cannot use the feature values of the same day since they will be unavailable at actual inference time. We need to use statistics like mean, standard deviation of their lagged values.\n",
    "\n",
    "We will use three sets of lagged values, one previous day, one looking back 7 days and another looking back 30 days as a proxy for last week and last month metrics."
   ]
  },
  {
   "cell_type": "code",
   "execution_count": 11,
   "metadata": {},
   "outputs": [
    {
     "data": {
      "text/plain": [
       "Index(['Symbol', 'Series', 'Prev Close', 'Open', 'High', 'Low', 'Last',\n",
       "       'Close', 'VWAP', 'Volume', 'Turnover', 'Deliverable Volume',\n",
       "       '%Deliverble'],\n",
       "      dtype='object')"
      ]
     },
     "execution_count": 11,
     "metadata": {},
     "output_type": "execute_result"
    }
   ],
   "source": [
    "dataframe.columns"
   ]
  },
  {
   "cell_type": "code",
   "execution_count": 12,
   "metadata": {},
   "outputs": [],
   "source": [
    "from scipy import stats"
   ]
  },
  {
   "cell_type": "code",
   "execution_count": 13,
   "metadata": {},
   "outputs": [
    {
     "data": {
      "text/plain": [
       "((array([-3.51908695, -3.27647555, -3.14237236, ...,  3.14237236,\n",
       "          3.27647555,  3.51908695]),\n",
       "  array([   89.26,    93.99,    94.79, ..., 10486.75, 10980.4 , 11081.78])),\n",
       " (2583.5304104028073, 2761.156954076851, 0.8981685068494001))"
      ]
     },
     "execution_count": 13,
     "metadata": {},
     "output_type": "execute_result"
    },
    {
     "data": {
      "image/png": "[encoded data removed]",
      "text/plain": [
       "<Figure size 640x480 with 1 Axes>"
      ]
     },
     "metadata": {},
     "output_type": "display_data"
    }
   ],
   "source": [
    "stats.probplot(x= dataframe['VWAP'], plot=plt)"
   ]
  },
  {
   "cell_type": "code",
   "execution_count": 14,
   "metadata": {},
   "outputs": [],
   "source": [
    "cols = ['Open', 'High', 'Low', 'Close']"
   ]
  },
  {
   "cell_type": "code",
   "execution_count": 15,
   "metadata": {},
   "outputs": [
    {
     "data": {
      "text/plain": [
       "array([<Axes: xlabel='Date'>, <Axes: xlabel='Date'>,\n",
       "       <Axes: xlabel='Date'>, <Axes: xlabel='Date'>], dtype=object)"
      ]
     },
     "execution_count": 15,
     "metadata": {},
     "output_type": "execute_result"
    },
    {
     "data": {
      "image/png": "[encoded data removed]",
      "text/plain": [
       "<Figure size 900x1100 with 4 Axes>"
      ]
     },
     "metadata": {},
     "output_type": "display_data"
    }
   ],
   "source": [
    "dataframe[cols].plot(figsize= (9,11),subplots=True)"
   ]
  },
  {
   "cell_type": "code",
   "execution_count": 16,
   "metadata": {},
   "outputs": [],
   "source": [
    "import plotly.graph_objects as go"
   ]
  },
  {
   "cell_type": "code",
   "execution_count": 17,
   "metadata": {},
   "outputs": [
    {
     "data": {
      "application/vnd.plotly.v1+json": {
       "config": {
        "plotlyServerURL": "https://plot.ly"
       },
       "data": [
        {
         "close": [
          509.1,
          554.65,
          640.95,
          632.4,
          644,
          686.95,
          672.05,
          598.95,
          631.85,
          630.9,
          629.9,
          669.25,
          653.5,
          605.9,
          580.8,
          614.05,
          611.05,
          591.95,
          611.85,
          554.95,
          565.4,
          549.15,
          577.1,
          590.25,
          562,
          537.85,
          517.75,
          522.55,
          478.5,
          499.7,
          521.8,
          510.95,
          518.05,
          506.8,
          478.95,
          461.9,
          448.5,
          424.95,
          421.75,
          410.7,
          410.7,
          420,
          437.85,
          451.4,
          446.25,
          436.05,
          429.85,
          437.55,
          442.65,
          443
         ],
         "high": [
          619,
          610.95,
          665.6,
          703,
          668,
          699,
          689.8,
          674,
          639.8,
          642.9,
          648,
          675,
          682,
          638.45,
          624.5,
          618,
          626,
          617.2,
          625,
          618.25,
          575.9,
          572,
          632.5,
          600,
          585,
          570,
          536.9,
          530,
          513.85,
          500,
          544,
          518,
          550,
          519.85,
          520,
          498,
          463,
          451.95,
          439,
          428,
          421.6,
          424.95,
          449.95,
          480.5,
          455,
          452,
          435,
          442.5,
          447,
          449.9
         ],
         "low": [
          501,
          491.1,
          564,
          608,
          588.3,
          622,
          632.55,
          566.6,
          572.3,
          608.05,
          580,
          618,
          641.1,
          601,
          572.75,
          587.25,
          605.1,
          585.1,
          578.05,
          532,
          550,
          537,
          540,
          578,
          550,
          520,
          502.65,
          495,
          446,
          447,
          494.65,
          475.8,
          512,
          500,
          466.65,
          455,
          436.05,
          417.5,
          415.1,
          388.05,
          408.1,
          402.35,
          428.05,
          439,
          436,
          432.05,
          426,
          408.4,
          429,
          423
         ],
         "open": [
          600,
          505,
          564,
          656.65,
          642.4,
          650,
          672,
          674,
          603,
          639.25,
          620,
          618,
          672,
          629,
          607,
          595,
          610,
          615,
          580,
          603,
          551,
          565.5,
          542,
          578,
          585,
          565,
          535,
          511,
          495.2,
          471.35,
          494.65,
          475.8,
          550,
          515,
          519.9,
          498,
          447,
          440,
          439,
          405.35,
          411,
          402.35,
          433,
          439,
          436,
          437,
          435,
          408.4,
          429,
          430
         ],
         "type": "candlestick",
         "x": [
          "2008-05-26",
          "2008-05-27",
          "2008-05-28",
          "2008-05-29",
          "2008-05-30",
          "2008-06-02",
          "2008-06-03",
          "2008-06-04",
          "2008-06-05",
          "2008-06-06",
          "2008-06-09",
          "2008-06-10",
          "2008-06-11",
          "2008-06-12",
          "2008-06-13",
          "2008-06-16",
          "2008-06-17",
          "2008-06-18",
          "2008-06-19",
          "2008-06-20",
          "2008-06-23",
          "2008-06-24",
          "2008-06-25",
          "2008-06-26",
          "2008-06-27",
          "2008-06-30",
          "2008-07-01",
          "2008-07-02",
          "2008-07-03",
          "2008-07-04",
          "2008-07-07",
          "2008-07-08",
          "2008-07-09",
          "2008-07-10",
          "2008-07-11",
          "2008-07-14",
          "2008-07-15",
          "2008-07-16",
          "2008-07-17",
          "2008-07-18",
          "2008-07-21",
          "2008-07-22",
          "2008-07-23",
          "2008-07-24",
          "2008-07-25",
          "2008-07-28",
          "2008-07-29",
          "2008-07-30",
          "2008-07-31",
          "2008-08-01"
         ]
        }
       ],
       "layout": {
        "template": {
         "data": {
          "bar": [
           {
            "error_x": {
             "color": "#2a3f5f"
            },
            "error_y": {
             "color": "#2a3f5f"
            },
            "marker": {
             "line": {
              "color": "#E5ECF6",
              "width": 0.5
             },
             "pattern": {
              "fillmode": "overlay",
              "size": 10,
              "solidity": 0.2
             }
            },
            "type": "bar"
           }
          ],
          "barpolar": [
           {
            "marker": {
             "line": {
              "color": "#E5ECF6",
              "width": 0.5
             },
             "pattern": {
              "fillmode": "overlay",
              "size": 10,
              "solidity": 0.2
             }
            },
            "type": "barpolar"
           }
          ],
          "carpet": [
           {
            "aaxis": {
             "endlinecolor": "#2a3f5f",
             "gridcolor": "white",
             "linecolor": "white",
             "minorgridcolor": "white",
             "startlinecolor": "#2a3f5f"
            },
            "baxis": {
             "endlinecolor": "#2a3f5f",
             "gridcolor": "white",
             "linecolor": "white",
             "minorgridcolor": "white",
             "startlinecolor": "#2a3f5f"
            },
            "type": "carpet"
           }
          ],
          "choropleth": [
           {
            "colorbar": {
             "outlinewidth": 0,
             "ticks": ""
            },
            "type": "choropleth"
           }
          ],
          "contour": [
           {
            "colorbar": {
             "outlinewidth": 0,
             "ticks": ""
            },
            "colorscale": [
             [
              0,
              "#0d0887"
             ],
             [
              0.1111111111111111,
              "#46039f"
             ],
             [
              0.2222222222222222,
              "#7201a8"
             ],
             [
              0.3333333333333333,
              "#9c179e"
             ],
             [
              0.4444444444444444,
              "#bd3786"
             ],
             [
              0.5555555555555556,
              "#d8576b"
             ],
             [
              0.6666666666666666,
              "#ed7953"
             ],
             [
              0.7777777777777778,
              "#fb9f3a"
             ],
             [
              0.8888888888888888,
              "#fdca26"
             ],
             [
              1,
              "#f0f921"
             ]
            ],
            "type": "contour"
           }
          ],
          "contourcarpet": [
           {
            "colorbar": {
             "outlinewidth": 0,
             "ticks": ""
            },
            "type": "contourcarpet"
           }
          ],
          "heatmap": [
           {
            "colorbar": {
             "outlinewidth": 0,
             "ticks": ""
            },
            "colorscale": [
             [
              0,
              "#0d0887"
             ],
             [
              0.1111111111111111,
              "#46039f"
             ],
             [
              0.2222222222222222,
              "#7201a8"
             ],
             [
              0.3333333333333333,
              "#9c179e"
             ],
             [
              0.4444444444444444,
              "#bd3786"
             ],
             [
              0.5555555555555556,
              "#d8576b"
             ],
             [
              0.6666666666666666,
              "#ed7953"
             ],
             [
              0.7777777777777778,
              "#fb9f3a"
             ],
             [
              0.8888888888888888,
              "#fdca26"
             ],
             [
              1,
              "#f0f921"
             ]
            ],
            "type": "heatmap"
           }
          ],
          "heatmapgl": [
           {
            "colorbar": {
             "outlinewidth": 0,
             "ticks": ""
            },
            "colorscale": [
             [
              0,
              "#0d0887"
             ],
             [
              0.1111111111111111,
              "#46039f"
             ],
             [
              0.2222222222222222,
              "#7201a8"
             ],
             [
              0.3333333333333333,
              "#9c179e"
             ],
             [
              0.4444444444444444,
              "#bd3786"
             ],
             [
              0.5555555555555556,
              "#d8576b"
             ],
             [
              0.6666666666666666,
              "#ed7953"
             ],
             [
              0.7777777777777778,
              "#fb9f3a"
             ],
             [
              0.8888888888888888,
              "#fdca26"
             ],
             [
              1,
              "#f0f921"
             ]
            ],
            "type": "heatmapgl"
           }
          ],
          "histogram": [
           {
            "marker": {
             "pattern": {
              "fillmode": "overlay",
              "size": 10,
              "solidity": 0.2
             }
            },
            "type": "histogram"
           }
          ],
          "histogram2d": [
           {
            "colorbar": {
             "outlinewidth": 0,
             "ticks": ""
            },
            "colorscale": [
             [
              0,
              "#0d0887"
             ],
             [
              0.1111111111111111,
              "#46039f"
             ],
             [
              0.2222222222222222,
              "#7201a8"
             ],
             [
              0.3333333333333333,
              "#9c179e"
             ],
             [
              0.4444444444444444,
              "#bd3786"
             ],
             [
              0.5555555555555556,
              "#d8576b"
             ],
             [
              0.6666666666666666,
              "#ed7953"
             ],
             [
              0.7777777777777778,
              "#fb9f3a"
             ],
             [
              0.8888888888888888,
              "#fdca26"
             ],
             [
              1,
              "#f0f921"
             ]
            ],
            "type": "histogram2d"
           }
          ],
          "histogram2dcontour": [
           {
            "colorbar": {
             "outlinewidth": 0,
             "ticks": ""
            },
            "colorscale": [
             [
              0,
              "#0d0887"
             ],
             [
              0.1111111111111111,
              "#46039f"
             ],
             [
              0.2222222222222222,
              "#7201a8"
             ],
             [
              0.3333333333333333,
              "#9c179e"
             ],
             [
              0.4444444444444444,
              "#bd3786"
             ],
             [
              0.5555555555555556,
              "#d8576b"
             ],
             [
              0.6666666666666666,
              "#ed7953"
             ],
             [
              0.7777777777777778,
              "#fb9f3a"
             ],
             [
              0.8888888888888888,
              "#fdca26"
             ],
             [
              1,
              "#f0f921"
             ]
            ],
            "type": "histogram2dcontour"
           }
          ],
          "mesh3d": [
           {
            "colorbar": {
             "outlinewidth": 0,
             "ticks": ""
            },
            "type": "mesh3d"
           }
          ],
          "parcoords": [
           {
            "line": {
             "colorbar": {
              "outlinewidth": 0,
              "ticks": ""
             }
            },
            "type": "parcoords"
           }
          ],
          "pie": [
           {
            "automargin": true,
            "type": "pie"
           }
          ],
          "scatter": [
           {
            "fillpattern": {
             "fillmode": "overlay",
             "size": 10,
             "solidity": 0.2
            },
            "type": "scatter"
           }
          ],
          "scatter3d": [
           {
            "line": {
             "colorbar": {
              "outlinewidth": 0,
              "ticks": ""
             }
            },
            "marker": {
             "colorbar": {
              "outlinewidth": 0,
              "ticks": ""
             }
            },
            "type": "scatter3d"
           }
          ],
          "scattercarpet": [
           {
            "marker": {
             "colorbar": {
              "outlinewidth": 0,
              "ticks": ""
             }
            },
            "type": "scattercarpet"
           }
          ],
          "scattergeo": [
           {
            "marker": {
             "colorbar": {
              "outlinewidth": 0,
              "ticks": ""
             }
            },
            "type": "scattergeo"
           }
          ],
          "scattergl": [
           {
            "marker": {
             "colorbar": {
              "outlinewidth": 0,
              "ticks": ""
             }
            },
            "type": "scattergl"
           }
          ],
          "scattermapbox": [
           {
            "marker": {
             "colorbar": {
              "outlinewidth": 0,
              "ticks": ""
             }
            },
            "type": "scattermapbox"
           }
          ],
          "scatterpolar": [
           {
            "marker": {
             "colorbar": {
              "outlinewidth": 0,
              "ticks": ""
             }
            },
            "type": "scatterpolar"
           }
          ],
          "scatterpolargl": [
           {
            "marker": {
             "colorbar": {
              "outlinewidth": 0,
              "ticks": ""
             }
            },
            "type": "scatterpolargl"
           }
          ],
          "scatterternary": [
           {
            "marker": {
             "colorbar": {
              "outlinewidth": 0,
              "ticks": ""
             }
            },
            "type": "scatterternary"
           }
          ],
          "surface": [
           {
            "colorbar": {
             "outlinewidth": 0,
             "ticks": ""
            },
            "colorscale": [
             [
              0,
              "#0d0887"
             ],
             [
              0.1111111111111111,
              "#46039f"
             ],
             [
              0.2222222222222222,
              "#7201a8"
             ],
             [
              0.3333333333333333,
              "#9c179e"
             ],
             [
              0.4444444444444444,
              "#bd3786"
             ],
             [
              0.5555555555555556,
              "#d8576b"
             ],
             [
              0.6666666666666666,
              "#ed7953"
             ],
             [
              0.7777777777777778,
              "#fb9f3a"
             ],
             [
              0.8888888888888888,
              "#fdca26"
             ],
             [
              1,
              "#f0f921"
             ]
            ],
            "type": "surface"
           }
          ],
          "table": [
           {
            "cells": {
             "fill": {
              "color": "#EBF0F8"
             },
             "line": {
              "color": "white"
             }
            },
            "header": {
             "fill": {
              "color": "#C8D4E3"
             },
             "line": {
              "color": "white"
             }
            },
            "type": "table"
           }
          ]
         },
         "layout": {
          "annotationdefaults": {
           "arrowcolor": "#2a3f5f",
           "arrowhead": 0,
           "arrowwidth": 1
          },
          "autotypenumbers": "strict",
          "coloraxis": {
           "colorbar": {
            "outlinewidth": 0,
            "ticks": ""
           }
          },
          "colorscale": {
           "diverging": [
            [
             0,
             "#8e0152"
            ],
            [
             0.1,
             "#c51b7d"
            ],
            [
             0.2,
             "#de77ae"
            ],
            [
             0.3,
             "#f1b6da"
            ],
            [
             0.4,
             "#fde0ef"
            ],
            [
             0.5,
             "#f7f7f7"
            ],
            [
             0.6,
             "#e6f5d0"
            ],
            [
             0.7,
             "#b8e186"
            ],
            [
             0.8,
             "#7fbc41"
            ],
            [
             0.9,
             "#4d9221"
            ],
            [
             1,
             "#276419"
            ]
           ],
           "sequential": [
            [
             0,
             "#0d0887"
            ],
            [
             0.1111111111111111,
             "#46039f"
            ],
            [
             0.2222222222222222,
             "#7201a8"
            ],
            [
             0.3333333333333333,
             "#9c179e"
            ],
            [
             0.4444444444444444,
             "#bd3786"
            ],
            [
             0.5555555555555556,
             "#d8576b"
            ],
            [
             0.6666666666666666,
             "#ed7953"
            ],
            [
             0.7777777777777778,
             "#fb9f3a"
            ],
            [
             0.8888888888888888,
             "#fdca26"
            ],
            [
             1,
             "#f0f921"
            ]
           ],
           "sequentialminus": [
            [
             0,
             "#0d0887"
            ],
            [
             0.1111111111111111,
             "#46039f"
            ],
            [
             0.2222222222222222,
             "#7201a8"
            ],
            [
             0.3333333333333333,
             "#9c179e"
            ],
            [
             0.4444444444444444,
             "#bd3786"
            ],
            [
             0.5555555555555556,
             "#d8576b"
            ],
            [
             0.6666666666666666,
             "#ed7953"
            ],
            [
             0.7777777777777778,
             "#fb9f3a"
            ],
            [
             0.8888888888888888,
             "#fdca26"
            ],
            [
             1,
             "#f0f921"
            ]
           ]
          },
          "colorway": [
           "#636efa",
           "#EF553B",
           "#00cc96",
           "#ab63fa",
           "#FFA15A",
           "#19d3f3",
           "#FF6692",
           "#B6E880",
           "#FF97FF",
           "#FECB52"
          ],
          "font": {
           "color": "#2a3f5f"
          },
          "geo": {
           "bgcolor": "white",
           "lakecolor": "white",
           "landcolor": "#E5ECF6",
           "showlakes": true,
           "showland": true,
           "subunitcolor": "white"
          },
          "hoverlabel": {
           "align": "left"
          },
          "hovermode": "closest",
          "mapbox": {
           "style": "light"
          },
          "paper_bgcolor": "white",
          "plot_bgcolor": "#E5ECF6",
          "polar": {
           "angularaxis": {
            "gridcolor": "white",
            "linecolor": "white",
            "ticks": ""
           },
           "bgcolor": "#E5ECF6",
           "radialaxis": {
            "gridcolor": "white",
            "linecolor": "white",
            "ticks": ""
           }
          },
          "scene": {
           "xaxis": {
            "backgroundcolor": "#E5ECF6",
            "gridcolor": "white",
            "gridwidth": 2,
            "linecolor": "white",
            "showbackground": true,
            "ticks": "",
            "zerolinecolor": "white"
           },
           "yaxis": {
            "backgroundcolor": "#E5ECF6",
            "gridcolor": "white",
            "gridwidth": 2,
            "linecolor": "white",
            "showbackground": true,
            "ticks": "",
            "zerolinecolor": "white"
           },
           "zaxis": {
            "backgroundcolor": "#E5ECF6",
            "gridcolor": "white",
            "gridwidth": 2,
            "linecolor": "white",
            "showbackground": true,
            "ticks": "",
            "zerolinecolor": "white"
           }
          },
          "shapedefaults": {
           "line": {
            "color": "#2a3f5f"
           }
          },
          "ternary": {
           "aaxis": {
            "gridcolor": "white",
            "linecolor": "white",
            "ticks": ""
           },
           "baxis": {
            "gridcolor": "white",
            "linecolor": "white",
            "ticks": ""
           },
           "bgcolor": "#E5ECF6",
           "caxis": {
            "gridcolor": "white",
            "linecolor": "white",
            "ticks": ""
           }
          },
          "title": {
           "x": 0.05
          },
          "xaxis": {
           "automargin": true,
           "gridcolor": "white",
           "linecolor": "white",
           "ticks": "",
           "title": {
            "standoff": 15
           },
           "zerolinecolor": "white",
           "zerolinewidth": 2
          },
          "yaxis": {
           "automargin": true,
           "gridcolor": "white",
           "linecolor": "white",
           "ticks": "",
           "title": {
            "standoff": 15
           },
           "zerolinecolor": "white",
           "zerolinewidth": 2
          }
         }
        }
       }
      }
     },
     "metadata": {},
     "output_type": "display_data"
    }
   ],
   "source": [
    "## Candlestick/OHLC plot\n",
    "go.Figure(data= [go.Candlestick(x=dataframe.index[0:50], open= dataframe['Open'][0:50], high= dataframe['High'][0:50],close= dataframe['Close'][0:50], low= dataframe['Low'][0:50] )])"
   ]
  },
  {
   "cell_type": "code",
   "execution_count": null,
   "metadata": {},
   "outputs": [
    {
     "ename": "NameError",
     "evalue": "name 'data' is not defined",
     "output_type": "error",
     "traceback": [
      "\u001b[1;31m---------------------------------------------------------------------------\u001b[0m",
      "\u001b[1;31mNameError\u001b[0m                                 Traceback (most recent call last)",
      "Cell \u001b[1;32mIn[18], line 1\u001b[0m\n\u001b[1;32m----> 1\u001b[0m data[[\u001b[38;5;124m'\u001b[39m\u001b[38;5;124mOpen\u001b[39m\u001b[38;5;124m'\u001b[39m, \u001b[38;5;124m'\u001b[39m\u001b[38;5;124mHigh\u001b[39m\u001b[38;5;124m'\u001b[39m, \u001b[38;5;124m'\u001b[39m\u001b[38;5;124mLow\u001b[39m\u001b[38;5;124m'\u001b[39m, \u001b[38;5;124m'\u001b[39m\u001b[38;5;124mClose\u001b[39m\u001b[38;5;124m'\u001b[39m]]\u001b[38;5;241m.\u001b[39mcorr()\n",
      "\u001b[1;31mNameError\u001b[0m: name 'data' is not defined"
     ]
    }
   ],
   "source": [
    "data[['Open', 'High', 'Low', 'Close']].corr()"
   ]
  },
  {
   "cell_type": "code",
   "execution_count": 19,
   "metadata": {},
   "outputs": [
    {
     "data": {
      "text/plain": [
       "Date\n",
       "2008-05-26    509.10\n",
       "2008-05-27    554.65\n",
       "2008-05-28    640.95\n",
       "2008-05-29    632.40\n",
       "2008-05-30    644.00\n",
       "2008-06-02    686.95\n",
       "2008-06-03    672.05\n",
       "2008-06-04    598.95\n",
       "2008-06-05    631.85\n",
       "2008-06-06    630.90\n",
       "Name: Close, dtype: float64"
      ]
     },
     "execution_count": 19,
     "metadata": {},
     "output_type": "execute_result"
    }
   ],
   "source": [
    "## Feature Engineering\n",
    "dataframe['Close'][0:10]"
   ]
  },
  {
   "cell_type": "code",
   "execution_count": 20,
   "metadata": {},
   "outputs": [],
   "source": [
    "lag_features = ['High', 'Low', 'Volume', 'Turnover']\n",
    "\n",
    "window1 = 3\n",
    "window2 = 7"
   ]
  },
  {
   "cell_type": "code",
   "execution_count": 21,
   "metadata": {},
   "outputs": [
    {
     "data": {
      "text/plain": [
       "Date\n",
       "2008-05-26             NaN\n",
       "2008-05-27             NaN\n",
       "2008-05-28      631.850000\n",
       "2008-05-29      659.850000\n",
       "2008-05-30      678.866667\n",
       "                  ...     \n",
       "2021-04-26    10059.766667\n",
       "2021-04-27    10133.466667\n",
       "2021-04-28    10291.316667\n",
       "2021-04-29    10682.983333\n",
       "2021-04-30    11046.983333\n",
       "Name: High, Length: 3201, dtype: float64"
      ]
     },
     "execution_count": 21,
     "metadata": {},
     "output_type": "execute_result"
    }
   ],
   "source": [
    "date[\"High\"].rolling(window = 3).mean()"
   ]
  },
  {
   "cell_type": "code",
   "execution_count": 22,
   "metadata": {},
   "outputs": [],
   "source": [
    "for col in lag_features:\n",
    "    dataframe[col+\"rolling_mean_3\"] = dataframe[col].rolling(window= window1).mean()\n",
    "    dataframe[col+\"rolling_mean_7\"] = dataframe[col].rolling(window= window2).mean()"
   ]
  },
  {
   "cell_type": "code",
   "execution_count": 23,
   "metadata": {},
   "outputs": [
    {
     "data": {
      "text/plain": [
       "Index(['Symbol', 'Series', 'Prev Close', 'Open', 'High', 'Low', 'Last',\n",
       "       'Close', 'VWAP', 'Volume', 'Turnover', 'Deliverable Volume',\n",
       "       '%Deliverble', 'Highrolling_mean_3', 'Highrolling_mean_7',\n",
       "       'Lowrolling_mean_3', 'Lowrolling_mean_7', 'Volumerolling_mean_3',\n",
       "       'Volumerolling_mean_7', 'Turnoverrolling_mean_3',\n",
       "       'Turnoverrolling_mean_7'],\n",
       "      dtype='object')"
      ]
     },
     "execution_count": 23,
     "metadata": {},
     "output_type": "execute_result"
    }
   ],
   "source": [
    "dataframe.columns"
   ]
  },
  {
   "cell_type": "code",
   "execution_count": 24,
   "metadata": {},
   "outputs": [],
   "source": [
    "for col in lag_features:\n",
    "    dataframe[col+\"rolling_std_3\"] = dataframe[col].rolling(window= window1).std()\n",
    "    dataframe[col+\"rolling_std_7\"] = dataframe[col].rolling(window= window2).std()"
   ]
  },
  {
   "cell_type": "code",
   "execution_count": 25,
   "metadata": {},
   "outputs": [
    {
     "data": {
      "text/plain": [
       "(3201, 29)"
      ]
     },
     "execution_count": 25,
     "metadata": {},
     "output_type": "execute_result"
    }
   ],
   "source": [
    "dataframe.shape"
   ]
  },
  {
   "cell_type": "code",
   "execution_count": 40,
   "metadata": {},
   "outputs": [],
   "source": [
    "ind_features=['Highrolling_mean_3', 'Highrolling_mean_7',\n",
    "       'Lowrolling_mean_3', 'Lowrolling_mean_7', 'Volumerolling_mean_3',\n",
    "       'Volumerolling_mean_7', 'Turnoverrolling_mean_3',\n",
    "       'Turnoverrolling_mean_7', 'Tradesrolling_mean_3',\n",
    "       'Tradesrolling_mean_7', 'Highrolling_std_3', 'Highrolling_std_7',\n",
    "       'Lowrolling_std_3', 'Lowrolling_std_7', 'Volumerolling_std_3',\n",
    "       'Volumerolling_std_7', 'Turnoverrolling_std_3', 'Turnoverrolling_std_7',\n",
    "       'Tradesrolling_std_3', 'Tradesrolling_std_7']"
   ]
  },
  {
   "cell_type": "code",
   "execution_count": 29,
   "metadata": {},
   "outputs": [
    {
     "name": "stdout",
     "output_type": "stream",
     "text": [
      "Collecting pmdarima\n",
      "  Downloading pmdarima-2.0.4-cp312-cp312-win_amd64.whl.metadata (8.0 kB)\n",
      "Requirement already satisfied: joblib>=0.11 in c:\\users\\pthor\\anaconda3\\lib\\site-packages (from pmdarima) (1.4.2)\n",
      "Collecting Cython!=0.29.18,!=0.29.31,>=0.29 (from pmdarima)\n",
      "  Downloading cython-3.1.2-cp312-cp312-win_amd64.whl.metadata (6.0 kB)\n",
      "Requirement already satisfied: numpy>=1.21.2 in c:\\users\\pthor\\anaconda3\\lib\\site-packages (from pmdarima) (1.26.4)\n",
      "Requirement already satisfied: pandas>=0.19 in c:\\users\\pthor\\anaconda3\\lib\\site-packages (from pmdarima) (2.2.2)\n",
      "Requirement already satisfied: scikit-learn>=0.22 in c:\\users\\pthor\\anaconda3\\lib\\site-packages (from pmdarima) (1.5.1)\n",
      "Requirement already satisfied: scipy>=1.3.2 in c:\\users\\pthor\\anaconda3\\lib\\site-packages (from pmdarima) (1.13.1)\n",
      "Requirement already satisfied: statsmodels>=0.13.2 in c:\\users\\pthor\\anaconda3\\lib\\site-packages (from pmdarima) (0.14.2)\n",
      "Requirement already satisfied: urllib3 in c:\\users\\pthor\\anaconda3\\lib\\site-packages (from pmdarima) (2.2.3)\n",
      "Requirement already satisfied: setuptools!=50.0.0,>=38.6.0 in c:\\users\\pthor\\anaconda3\\lib\\site-packages (from pmdarima) (75.1.0)\n",
      "Requirement already satisfied: packaging>=17.1 in c:\\users\\pthor\\anaconda3\\lib\\site-packages (from pmdarima) (24.1)\n",
      "Requirement already satisfied: python-dateutil>=2.8.2 in c:\\users\\pthor\\anaconda3\\lib\\site-packages (from pandas>=0.19->pmdarima) (2.9.0.post0)\n",
      "Requirement already satisfied: pytz>=2020.1 in c:\\users\\pthor\\anaconda3\\lib\\site-packages (from pandas>=0.19->pmdarima) (2024.1)\n",
      "Requirement already satisfied: tzdata>=2022.7 in c:\\users\\pthor\\anaconda3\\lib\\site-packages (from pandas>=0.19->pmdarima) (2023.3)\n",
      "Requirement already satisfied: threadpoolctl>=3.1.0 in c:\\users\\pthor\\anaconda3\\lib\\site-packages (from scikit-learn>=0.22->pmdarima) (3.5.0)\n",
      "Requirement already satisfied: patsy>=0.5.6 in c:\\users\\pthor\\anaconda3\\lib\\site-packages (from statsmodels>=0.13.2->pmdarima) (0.5.6)\n",
      "Requirement already satisfied: six in c:\\users\\pthor\\anaconda3\\lib\\site-packages (from patsy>=0.5.6->statsmodels>=0.13.2->pmdarima) (1.16.0)\n",
      "Downloading pmdarima-2.0.4-cp312-cp312-win_amd64.whl (625 kB)\n",
      "   ---------------------------------------- 0.0/625.1 kB ? eta -:--:--\n",
      "   ---------------------------------------- 625.1/625.1 kB 7.7 MB/s eta 0:00:00\n",
      "Downloading cython-3.1.2-cp312-cp312-win_amd64.whl (2.7 MB)\n",
      "   ---------------------------------------- 0.0/2.7 MB ? eta -:--:--\n",
      "   ---------------------------------------- 2.7/2.7 MB 22.1 MB/s eta 0:00:00\n",
      "Installing collected packages: Cython, pmdarima\n",
      "Successfully installed Cython-3.1.2 pmdarima-2.0.4\n"
     ]
    }
   ],
   "source": [
    "!pip install pmdarima"
   ]
  },
  {
   "cell_type": "code",
   "execution_count": 30,
   "metadata": {},
   "outputs": [],
   "source": [
    "import pmdarima"
   ]
  },
  {
   "cell_type": "code",
   "execution_count": 32,
   "metadata": {},
   "outputs": [
    {
     "data": {
      "text/plain": [
       "(3201, 29)"
      ]
     },
     "execution_count": 32,
     "metadata": {},
     "output_type": "execute_result"
    }
   ],
   "source": [
    "dataframe.shape"
   ]
  },
  {
   "cell_type": "code",
   "execution_count": 35,
   "metadata": {},
   "outputs": [],
   "source": [
    "training_data=date[0:2400]\n",
    "test_data=date[2400:]"
   ]
  },
  {
   "cell_type": "code",
   "execution_count": 36,
   "metadata": {},
   "outputs": [
    {
     "data": {
      "text/html": [
       "<div>\n",
       "<style scoped>\n",
       "    .dataframe tbody tr th:only-of-type {\n",
       "        vertical-align: middle;\n",
       "    }\n",
       "\n",
       "    .dataframe tbody tr th {\n",
       "        vertical-align: top;\n",
       "    }\n",
       "\n",
       "    .dataframe thead th {\n",
       "        text-align: right;\n",
       "    }\n",
       "</style>\n",
       "<table border=\"1\" class=\"dataframe\">\n",
       "  <thead>\n",
       "    <tr style=\"text-align: right;\">\n",
       "      <th></th>\n",
       "      <th>Symbol</th>\n",
       "      <th>Series</th>\n",
       "      <th>Prev Close</th>\n",
       "      <th>Open</th>\n",
       "      <th>High</th>\n",
       "      <th>Low</th>\n",
       "      <th>Last</th>\n",
       "      <th>Close</th>\n",
       "      <th>VWAP</th>\n",
       "      <th>Volume</th>\n",
       "      <th>Turnover</th>\n",
       "      <th>Trades</th>\n",
       "      <th>Deliverable Volume</th>\n",
       "      <th>%Deliverble</th>\n",
       "    </tr>\n",
       "    <tr>\n",
       "      <th>Date</th>\n",
       "      <th></th>\n",
       "      <th></th>\n",
       "      <th></th>\n",
       "      <th></th>\n",
       "      <th></th>\n",
       "      <th></th>\n",
       "      <th></th>\n",
       "      <th></th>\n",
       "      <th></th>\n",
       "      <th></th>\n",
       "      <th></th>\n",
       "      <th></th>\n",
       "      <th></th>\n",
       "      <th></th>\n",
       "    </tr>\n",
       "  </thead>\n",
       "  <tbody>\n",
       "    <tr>\n",
       "      <th>2008-05-26</th>\n",
       "      <td>BAJAJFINSV</td>\n",
       "      <td>EQ</td>\n",
       "      <td>2101.05</td>\n",
       "      <td>600.00</td>\n",
       "      <td>619.00</td>\n",
       "      <td>501.00</td>\n",
       "      <td>505.10</td>\n",
       "      <td>509.10</td>\n",
       "      <td>548.85</td>\n",
       "      <td>3145446</td>\n",
       "      <td>1.726368e+14</td>\n",
       "      <td>NaN</td>\n",
       "      <td>908264</td>\n",
       "      <td>0.2888</td>\n",
       "    </tr>\n",
       "    <tr>\n",
       "      <th>2008-05-27</th>\n",
       "      <td>BAJAJFINSV</td>\n",
       "      <td>EQ</td>\n",
       "      <td>509.10</td>\n",
       "      <td>505.00</td>\n",
       "      <td>610.95</td>\n",
       "      <td>491.10</td>\n",
       "      <td>564.00</td>\n",
       "      <td>554.65</td>\n",
       "      <td>572.15</td>\n",
       "      <td>4349144</td>\n",
       "      <td>2.488370e+14</td>\n",
       "      <td>NaN</td>\n",
       "      <td>677627</td>\n",
       "      <td>0.1558</td>\n",
       "    </tr>\n",
       "    <tr>\n",
       "      <th>2008-05-28</th>\n",
       "      <td>BAJAJFINSV</td>\n",
       "      <td>EQ</td>\n",
       "      <td>554.65</td>\n",
       "      <td>564.00</td>\n",
       "      <td>665.60</td>\n",
       "      <td>564.00</td>\n",
       "      <td>643.00</td>\n",
       "      <td>640.95</td>\n",
       "      <td>618.37</td>\n",
       "      <td>4588759</td>\n",
       "      <td>2.837530e+14</td>\n",
       "      <td>NaN</td>\n",
       "      <td>774895</td>\n",
       "      <td>0.1689</td>\n",
       "    </tr>\n",
       "    <tr>\n",
       "      <th>2008-05-29</th>\n",
       "      <td>BAJAJFINSV</td>\n",
       "      <td>EQ</td>\n",
       "      <td>640.95</td>\n",
       "      <td>656.65</td>\n",
       "      <td>703.00</td>\n",
       "      <td>608.00</td>\n",
       "      <td>634.50</td>\n",
       "      <td>632.40</td>\n",
       "      <td>659.60</td>\n",
       "      <td>4522302</td>\n",
       "      <td>2.982921e+14</td>\n",
       "      <td>NaN</td>\n",
       "      <td>1006161</td>\n",
       "      <td>0.2225</td>\n",
       "    </tr>\n",
       "    <tr>\n",
       "      <th>2008-05-30</th>\n",
       "      <td>BAJAJFINSV</td>\n",
       "      <td>EQ</td>\n",
       "      <td>632.40</td>\n",
       "      <td>642.40</td>\n",
       "      <td>668.00</td>\n",
       "      <td>588.30</td>\n",
       "      <td>647.00</td>\n",
       "      <td>644.00</td>\n",
       "      <td>636.41</td>\n",
       "      <td>3057669</td>\n",
       "      <td>1.945929e+14</td>\n",
       "      <td>NaN</td>\n",
       "      <td>462832</td>\n",
       "      <td>0.1514</td>\n",
       "    </tr>\n",
       "    <tr>\n",
       "      <th>...</th>\n",
       "      <td>...</td>\n",
       "      <td>...</td>\n",
       "      <td>...</td>\n",
       "      <td>...</td>\n",
       "      <td>...</td>\n",
       "      <td>...</td>\n",
       "      <td>...</td>\n",
       "      <td>...</td>\n",
       "      <td>...</td>\n",
       "      <td>...</td>\n",
       "      <td>...</td>\n",
       "      <td>...</td>\n",
       "      <td>...</td>\n",
       "      <td>...</td>\n",
       "    </tr>\n",
       "    <tr>\n",
       "      <th>2018-01-24</th>\n",
       "      <td>BAJAJFINSV</td>\n",
       "      <td>EQ</td>\n",
       "      <td>5014.60</td>\n",
       "      <td>5015.00</td>\n",
       "      <td>5072.80</td>\n",
       "      <td>4949.00</td>\n",
       "      <td>5040.00</td>\n",
       "      <td>5014.45</td>\n",
       "      <td>5009.95</td>\n",
       "      <td>88003</td>\n",
       "      <td>4.408903e+13</td>\n",
       "      <td>11711.0</td>\n",
       "      <td>35315</td>\n",
       "      <td>0.4013</td>\n",
       "    </tr>\n",
       "    <tr>\n",
       "      <th>2018-01-25</th>\n",
       "      <td>BAJAJFINSV</td>\n",
       "      <td>EQ</td>\n",
       "      <td>5014.45</td>\n",
       "      <td>5025.00</td>\n",
       "      <td>5070.00</td>\n",
       "      <td>4900.00</td>\n",
       "      <td>4903.10</td>\n",
       "      <td>4933.05</td>\n",
       "      <td>4994.40</td>\n",
       "      <td>149077</td>\n",
       "      <td>7.445505e+13</td>\n",
       "      <td>16221.0</td>\n",
       "      <td>68755</td>\n",
       "      <td>0.4612</td>\n",
       "    </tr>\n",
       "    <tr>\n",
       "      <th>2018-01-29</th>\n",
       "      <td>BAJAJFINSV</td>\n",
       "      <td>EQ</td>\n",
       "      <td>4933.05</td>\n",
       "      <td>4949.50</td>\n",
       "      <td>5010.00</td>\n",
       "      <td>4899.00</td>\n",
       "      <td>4902.50</td>\n",
       "      <td>4912.40</td>\n",
       "      <td>4945.65</td>\n",
       "      <td>100404</td>\n",
       "      <td>4.965626e+13</td>\n",
       "      <td>10109.0</td>\n",
       "      <td>50151</td>\n",
       "      <td>0.4995</td>\n",
       "    </tr>\n",
       "    <tr>\n",
       "      <th>2018-01-30</th>\n",
       "      <td>BAJAJFINSV</td>\n",
       "      <td>EQ</td>\n",
       "      <td>4912.40</td>\n",
       "      <td>4925.00</td>\n",
       "      <td>4939.00</td>\n",
       "      <td>4860.00</td>\n",
       "      <td>4865.75</td>\n",
       "      <td>4875.65</td>\n",
       "      <td>4897.23</td>\n",
       "      <td>104332</td>\n",
       "      <td>5.109381e+13</td>\n",
       "      <td>10857.0</td>\n",
       "      <td>51161</td>\n",
       "      <td>0.4904</td>\n",
       "    </tr>\n",
       "    <tr>\n",
       "      <th>2018-01-31</th>\n",
       "      <td>BAJAJFINSV</td>\n",
       "      <td>EQ</td>\n",
       "      <td>4875.65</td>\n",
       "      <td>4861.00</td>\n",
       "      <td>4863.45</td>\n",
       "      <td>4736.45</td>\n",
       "      <td>4791.00</td>\n",
       "      <td>4812.35</td>\n",
       "      <td>4798.22</td>\n",
       "      <td>220161</td>\n",
       "      <td>1.056380e+14</td>\n",
       "      <td>20982.0</td>\n",
       "      <td>113513</td>\n",
       "      <td>0.5156</td>\n",
       "    </tr>\n",
       "  </tbody>\n",
       "</table>\n",
       "<p>2400 rows × 14 columns</p>\n",
       "</div>"
      ],
      "text/plain": [
       "                Symbol Series  Prev Close     Open     High      Low     Last  \\\n",
       "Date                                                                            \n",
       "2008-05-26  BAJAJFINSV     EQ     2101.05   600.00   619.00   501.00   505.10   \n",
       "2008-05-27  BAJAJFINSV     EQ      509.10   505.00   610.95   491.10   564.00   \n",
       "2008-05-28  BAJAJFINSV     EQ      554.65   564.00   665.60   564.00   643.00   \n",
       "2008-05-29  BAJAJFINSV     EQ      640.95   656.65   703.00   608.00   634.50   \n",
       "2008-05-30  BAJAJFINSV     EQ      632.40   642.40   668.00   588.30   647.00   \n",
       "...                ...    ...         ...      ...      ...      ...      ...   \n",
       "2018-01-24  BAJAJFINSV     EQ     5014.60  5015.00  5072.80  4949.00  5040.00   \n",
       "2018-01-25  BAJAJFINSV     EQ     5014.45  5025.00  5070.00  4900.00  4903.10   \n",
       "2018-01-29  BAJAJFINSV     EQ     4933.05  4949.50  5010.00  4899.00  4902.50   \n",
       "2018-01-30  BAJAJFINSV     EQ     4912.40  4925.00  4939.00  4860.00  4865.75   \n",
       "2018-01-31  BAJAJFINSV     EQ     4875.65  4861.00  4863.45  4736.45  4791.00   \n",
       "\n",
       "              Close     VWAP   Volume      Turnover   Trades  \\\n",
       "Date                                                           \n",
       "2008-05-26   509.10   548.85  3145446  1.726368e+14      NaN   \n",
       "2008-05-27   554.65   572.15  4349144  2.488370e+14      NaN   \n",
       "2008-05-28   640.95   618.37  4588759  2.837530e+14      NaN   \n",
       "2008-05-29   632.40   659.60  4522302  2.982921e+14      NaN   \n",
       "2008-05-30   644.00   636.41  3057669  1.945929e+14      NaN   \n",
       "...             ...      ...      ...           ...      ...   \n",
       "2018-01-24  5014.45  5009.95    88003  4.408903e+13  11711.0   \n",
       "2018-01-25  4933.05  4994.40   149077  7.445505e+13  16221.0   \n",
       "2018-01-29  4912.40  4945.65   100404  4.965626e+13  10109.0   \n",
       "2018-01-30  4875.65  4897.23   104332  5.109381e+13  10857.0   \n",
       "2018-01-31  4812.35  4798.22   220161  1.056380e+14  20982.0   \n",
       "\n",
       "            Deliverable Volume  %Deliverble  \n",
       "Date                                         \n",
       "2008-05-26              908264       0.2888  \n",
       "2008-05-27              677627       0.1558  \n",
       "2008-05-28              774895       0.1689  \n",
       "2008-05-29             1006161       0.2225  \n",
       "2008-05-30              462832       0.1514  \n",
       "...                        ...          ...  \n",
       "2018-01-24               35315       0.4013  \n",
       "2018-01-25               68755       0.4612  \n",
       "2018-01-29               50151       0.4995  \n",
       "2018-01-30               51161       0.4904  \n",
       "2018-01-31              113513       0.5156  \n",
       "\n",
       "[2400 rows x 14 columns]"
      ]
     },
     "execution_count": 36,
     "metadata": {},
     "output_type": "execute_result"
    }
   ],
   "source": [
    "training_data"
   ]
  },
  {
   "cell_type": "code",
   "execution_count": 37,
   "metadata": {},
   "outputs": [],
   "source": [
    "from pmdarima import auto_arima"
   ]
  },
  {
   "cell_type": "code",
   "execution_count": 44,
   "metadata": {},
   "outputs": [
    {
     "data": {
      "text/plain": [
       "'2.0.4'"
      ]
     },
     "execution_count": 44,
     "metadata": {},
     "output_type": "execute_result"
    }
   ],
   "source": [
    "import pmdarima\n",
    "pmdarima.__version__\n",
    "\n",
    "## 1.7.1\n",
    "## U can encounter different pmdarima version !"
   ]
  },
  {
   "cell_type": "code",
   "execution_count": 38,
   "metadata": {},
   "outputs": [],
   "source": [
    "import warnings\n",
    "warnings.filterwarnings('ignore')"
   ]
  },
  {
   "cell_type": "code",
   "execution_count": null,
   "metadata": {},
   "outputs": [],
   "source": [
    "model = auto_arima(y=training_data['VWAP'], X=training_data[ind_features], trace=True)"
   ]
  },
  {
   "cell_type": "code",
   "execution_count": null,
   "metadata": {},
   "outputs": [],
   "source": [
    "model.fit(y=training_data['VWAP'], X=training_data[ind_features])\n",
    "\n",
    "##  model.fit(y=training_data['VWAP'] , exogenous= training_data[ind_features])"
   ]
  },
  {
   "cell_type": "code",
   "execution_count": 62,
   "metadata": {},
   "outputs": [],
   "source": [
    "# doing Forecast\n",
    "\n",
    "forecast = model.predict(n_periods=len(test_data), X=test_data[ind_features])\n",
    "\n",
    "## forecast = model.predict(n_periods=len(test_data), exogenous=test_data[ind_features])"
   ]
  },
  {
   "cell_type": "code",
   "execution_count": 63,
   "metadata": {},
   "outputs": [
    {
     "data": {
      "text/plain": [
       "array([6367.45081598, 6394.34074152, 6532.75490041, 6604.61367737,\n",
       "       6640.66794668, 6569.28843533, 6232.70243116, 6096.23902104,\n",
       "       5960.27424948, 6083.6219814 , 6063.93791919, 6090.34168979,\n",
       "       5970.69902507, 5857.70656456, 5754.51418301, 5555.67643312,\n",
       "       5394.77731372, 5317.70461953, 5531.06978053, 5668.02171329,\n",
       "       5812.67847594, 5775.66337492, 5758.8059842 , 5627.70167407,\n",
       "       5524.2626592 , 5377.41753602, 5256.54659685, 5250.86865361,\n",
       "       5283.7276813 , 5346.0112591 , 5388.10023427, 5396.78848294,\n",
       "       5382.19580947, 5353.83359499, 5448.19222442, 5528.49341852,\n",
       "       5586.85760085, 5607.06242578, 5636.1596772 , 5653.27277244,\n",
       "       5647.18926659, 5627.40966248, 5613.54297282, 5652.90367881,\n",
       "       5679.04564249, 5697.71042698, 5752.53529633, 5804.14613365,\n",
       "       5817.57061358, 5829.22974558, 5834.17327109, 5906.26233363,\n",
       "       5993.44965959, 6038.88405493, 6053.59269661, 6009.33899675,\n",
       "       5919.1643179 , 5785.49930674, 5678.80301518, 5687.76426524,\n",
       "       5795.04439779, 6004.01763977, 6129.21493123, 6155.22300572,\n",
       "       6141.78408744, 6237.21359632, 6336.21740794, 6412.49438091,\n",
       "       6395.82770447, 6369.00856526, 6378.72687011, 6418.5512795 ,\n",
       "       6491.80537502, 6487.58835824, 6476.45422566, 6417.18053916,\n",
       "       6404.73852787, 6397.03942787, 6400.18589365, 6408.30072139,\n",
       "       6401.35790361, 6385.70908563, 6338.47929995, 6378.00782013,\n",
       "       6437.76238919, 6450.38206834, 6415.10284713, 6330.46936036,\n",
       "       6322.28002394, 6397.57809127, 6439.54667461, 6423.45785435,\n",
       "       6303.93616944, 6189.61946418, 6154.17793278, 6190.55813401,\n",
       "       6208.45750201, 6115.00701272, 6066.38161537, 6048.59014738,\n",
       "       6148.33614287, 6212.75881908, 6215.9499722 , 6168.90724828,\n",
       "       6131.12329711, 6117.98337471, 6074.21749302, 5978.52066225,\n",
       "       5916.57243627, 5923.33228417, 6007.16136832, 6130.41065815,\n",
       "       6248.05462994, 6373.15324957, 6443.33038918, 6470.94488316,\n",
       "       6473.49397187, 6502.49286101, 6539.26993711, 6570.07902101,\n",
       "       6599.1109749 , 6674.04688177, 6764.94514515, 6850.40653721,\n",
       "       6901.83926055, 6927.43875007, 6953.11021107, 6960.42140944,\n",
       "       6956.86366769, 6981.05252365, 6959.65827312, 6980.88353404,\n",
       "       7008.29072773, 7024.48765431, 7023.2684141 , 7052.29438499,\n",
       "       7163.56850927, 7306.29453555, 7351.67491754, 7372.88718459,\n",
       "       7354.58010589, 7342.40104492, 7355.27892774, 7431.07270012,\n",
       "       7514.95799968, 7532.78327969, 7544.08382221, 7527.97744133,\n",
       "       7523.93892164, 7507.85222189, 7541.04585663, 7623.55303475,\n",
       "       7665.25630875, 7674.32255194, 7618.27539894, 7582.93209406,\n",
       "       7585.64280203, 7598.16057625, 7555.79453637, 7474.24006471,\n",
       "       7387.4540181 , 7362.92281163, 7356.39313747, 7369.05289057,\n",
       "       7494.59142065, 7786.3557999 , 8090.54676672, 8278.88516487,\n",
       "       8259.64048724, 8209.97562472, 8126.58604817, 8106.27815786,\n",
       "       8121.92748941, 8133.82452243, 8146.4625772 , 8170.02814206,\n",
       "       8251.74019816, 8296.44532303, 8279.65637765, 8260.10772285,\n",
       "       8223.60927592, 8251.57400804, 8265.08697268, 8243.74577904,\n",
       "       8228.20141643, 8209.43043087, 8179.41758569, 8182.44344069,\n",
       "       8284.57017457, 8366.96791049, 8391.71857991, 8401.83395808,\n",
       "       8363.46190838, 8387.73876999, 8446.25491557, 8508.81099083,\n",
       "       8513.63139033, 8496.42458702, 8467.14393332, 8469.85329399,\n",
       "       8240.47228119, 8132.72824244, 7847.88214609, 7654.8233348 ,\n",
       "       7634.88514661, 7623.5050374 , 7745.6814181 , 7778.93160387,\n",
       "       7815.57092507, 7785.63392677, 7650.02195544, 7446.39740065,\n",
       "       7146.6382698 , 6989.8091342 , 6993.97722685, 7078.42551492,\n",
       "       7081.15271345, 7090.25033839, 7041.82648229, 6975.66187746,\n",
       "       7013.93101998, 6993.99302862, 7059.6149157 , 7182.48566004,\n",
       "       7364.92518236, 7390.99895624, 7428.42424821, 7387.66178993,\n",
       "       7423.21995733, 7417.18398559, 7323.49039104, 7169.15343699,\n",
       "       6956.82792215, 6896.42157054, 7018.71166095, 7093.89849536,\n",
       "       7074.85179127, 6984.0737101 , 6976.08244098, 7008.74299115,\n",
       "       6987.06505704, 7049.79717241, 7169.12206539, 7298.45041404,\n",
       "       7317.96774655, 7320.15851155, 7278.8999544 , 7272.65403962,\n",
       "       7246.58651981, 7203.03261557, 7455.35249947, 7916.21476439,\n",
       "       8259.13832486, 8372.87574367, 8420.13904776, 8467.1854509 ,\n",
       "       8474.67776031, 8477.05770988, 8454.68156993, 8365.42371   ,\n",
       "       8319.32459131, 8294.19255915, 8220.6591498 , 8214.98031122,\n",
       "       8172.46088371, 8131.88417396, 8111.8115961 , 8210.96872494,\n",
       "       8341.51262195, 8324.47247638, 8284.97731905, 8167.69973744,\n",
       "       8045.82774322, 7968.09516246, 7976.21172515, 8051.62889901,\n",
       "       8157.73849768, 8273.25738633, 8557.01223723, 8800.4887933 ,\n",
       "       8825.66960581, 8816.64389697, 8791.47236993, 8782.48042306,\n",
       "       8859.05464585, 8949.54332681, 9067.89066275, 9078.31125176,\n",
       "       9096.09823081, 9100.01331723, 9085.66107601, 9051.14281599,\n",
       "       9056.18034081, 9099.05505393, 9145.92894684, 9205.10195045,\n",
       "       9197.36052382, 9149.71797516, 9039.74769816, 8968.00265826,\n",
       "       8965.65819607, 8928.19161295, 8891.8611611 , 8892.0020074 ,\n",
       "       8948.33000686, 9056.2017098 , 9175.48740203, 9227.46927095,\n",
       "       9292.72715963, 9341.46875652, 9335.49038523, 9318.59406083,\n",
       "       9272.62097336, 9271.2081625 , 9294.554128  , 9341.63577143,\n",
       "       9405.08054545, 9415.57465131, 9403.0312062 , 9414.27419883,\n",
       "       9413.18616236, 9358.10838678, 9251.26525173, 9106.28999793,\n",
       "       9213.81275446, 9287.93583511, 9376.12986727, 9443.9673401 ,\n",
       "       9506.63920834, 9553.88928604, 9633.07138388, 9678.65902807,\n",
       "       9665.2404129 , 9598.51418181, 9531.36047515, 9520.03962681,\n",
       "       9539.38323236, 9582.33049851, 9751.89359288, 9863.19219205,\n",
       "       9855.48872803, 9568.04415735, 9278.29180865, 9188.24379331,\n",
       "       9319.29814806, 9496.92625221, 9562.34883532, 9557.27005994,\n",
       "       9615.0200082 , 9686.24183065, 9739.42268612, 9737.30194741,\n",
       "       9682.09939417, 9623.83305194, 9607.07716466, 9669.76093191,\n",
       "       9674.23322889, 9607.76282241, 9453.08801524, 9356.90596912,\n",
       "       9237.51050277, 9090.84913013, 8944.64137672, 8856.12452858,\n",
       "       8808.28495647, 8737.33701849, 8580.17200133, 8294.84235454,\n",
       "       7990.68985062, 7515.991963  , 7179.64920464, 7025.20186346,\n",
       "       6945.22860545, 6538.61517485, 6089.84689476, 5388.68676624,\n",
       "       5081.33766638, 4551.92027049, 4727.26280412, 5036.34107506,\n",
       "       5149.33911944, 5043.4624004 , 4641.27927299, 4611.1361249 ,\n",
       "       4553.0671998 , 4674.54470048, 4754.3787557 , 4759.34880358,\n",
       "       4701.29374501, 4618.85625587, 4819.8236772 , 4936.08770733,\n",
       "       4960.59674983, 4761.041658  , 4668.52901382, 4641.12182785,\n",
       "       4577.94091547, 4620.53969846, 4868.93641681, 5070.67164753,\n",
       "       5035.38201692, 4917.79186503, 4664.97619502, 4621.23661879,\n",
       "       4581.86587911, 4580.87456897, 4583.97610786, 4767.06032315,\n",
       "       4864.91826947, 4875.83852778, 4743.00742008, 4607.131845  ,\n",
       "       4543.55387045, 4588.00934959, 4618.42507385, 4544.52261148,\n",
       "       4382.90519716, 4225.9681245 , 4249.10663142, 4485.86254316,\n",
       "       4898.51605433, 5397.78753825, 5503.5617052 , 5440.59311036,\n",
       "       5293.43792228, 5275.31130496, 5287.18830702, 5224.10347824,\n",
       "       5103.15623211, 5083.60792757, 5067.25281977, 5088.22501125,\n",
       "       5184.10974752, 5664.00857603, 6231.25619037, 6568.69019843,\n",
       "       6478.35856382, 6318.14453206, 6008.87140152, 5784.24476955,\n",
       "       5774.27762262, 5836.12689078, 6071.18118833, 6176.18985066,\n",
       "       6237.01542062, 6384.66485126, 6552.76485146, 6570.91536384,\n",
       "       6575.57810818, 6512.31589287, 6413.18077891, 6268.12667074,\n",
       "       6170.6420526 , 6160.49809883, 6319.44543478, 6565.21525217,\n",
       "       6739.05168183, 6657.68041922, 6442.92742271, 6243.16405757,\n",
       "       6152.48445833, 6217.13302869, 6276.51025243, 6256.77638342,\n",
       "       6171.92274933, 6120.39181045, 6147.2752308 , 6246.58923676,\n",
       "       6372.02289036, 6437.26988831, 6453.03285132, 6417.65448035,\n",
       "       6364.4073512 , 6302.24762783, 6287.25532714, 6256.98318293,\n",
       "       6296.77270491, 6305.46275241, 6301.50256321, 6318.22312468,\n",
       "       6429.7225622 , 6629.72288493, 6655.67127951, 6643.78222445,\n",
       "       6512.25784691])"
      ]
     },
     "execution_count": 63,
     "metadata": {},
     "output_type": "execute_result"
    }
   ],
   "source": [
    "forecast"
   ]
  },
  {
   "cell_type": "code",
   "execution_count": 64,
   "metadata": {},
   "outputs": [],
   "source": [
    "test_data['Forecast_ARIMA']= forecast"
   ]
  },
  {
   "cell_type": "code",
   "execution_count": 65,
   "metadata": {},
   "outputs": [
    {
     "data": {
      "text/plain": [
       "Date\n",
       "2018-09-11    6367.450816\n",
       "2018-09-12    6394.340742\n",
       "2018-09-14    6532.754900\n",
       "2018-09-17    6604.613677\n",
       "2018-09-18    6640.667947\n",
       "                 ...     \n",
       "2020-08-25    6429.722562\n",
       "2020-08-26    6629.722885\n",
       "2020-08-27    6655.671280\n",
       "2020-08-28    6643.782224\n",
       "2020-08-31    6512.257847\n",
       "Name: Forecast_ARIMA, Length: 485, dtype: float64"
      ]
     },
     "execution_count": 65,
     "metadata": {},
     "output_type": "execute_result"
    }
   ],
   "source": [
    "test_data['Forecast_ARIMA']"
   ]
  },
  {
   "cell_type": "code",
   "execution_count": 66,
   "metadata": {},
   "outputs": [
    {
     "data": {
      "text/plain": [
       "<AxesSubplot:xlabel='Date'>"
      ]
     },
     "execution_count": 66,
     "metadata": {},
     "output_type": "execute_result"
    },
    {
     "data": {
      "image/png": "[encoded data removed]",
      "text/plain": [
       "<Figure size 1008x504 with 1 Axes>"
      ]
     },
     "metadata": {
      "needs_background": "light"
     },
     "output_type": "display_data"
    }
   ],
   "source": [
    "test_data[['VWAP','Forecast_ARIMA']].plot(figsize=(14,7))"
   ]
  },
  {
   "cell_type": "markdown",
   "metadata": {},
   "source": [
    "#### The Auto ARIMA model seems to do a fairly good job in predicting the stock price"
   ]
  },
  {
   "cell_type": "markdown",
   "metadata": {},
   "source": [
    "#### Checking Accuracy of our model"
   ]
  },
  {
   "cell_type": "code",
   "execution_count": 55,
   "metadata": {},
   "outputs": [],
   "source": [
    "from sklearn.metrics import mean_absolute_error, mean_squared_error"
   ]
  },
  {
   "cell_type": "code",
   "execution_count": 56,
   "metadata": {},
   "outputs": [
    {
     "data": {
      "text/plain": [
       "120.21182040924319"
      ]
     },
     "execution_count": 56,
     "metadata": {},
     "output_type": "execute_result"
    }
   ],
   "source": [
    "np.sqrt(mean_squared_error(test_data['VWAP'],test_data['Forecast_ARIMA']))"
   ]
  },
  {
   "cell_type": "code",
   "execution_count": 37,
   "metadata": {},
   "outputs": [
    {
     "data": {
      "text/plain": [
       "79.96180280266465"
      ]
     },
     "execution_count": 37,
     "metadata": {},
     "output_type": "execute_result"
    }
   ],
   "source": [
    "mean_absolute_error(test_data['VWAP'],test_data['Forecast_ARIMA'])"
   ]
  }
 ],
 "metadata": {
  "kernelspec": {
   "display_name": "Python 3",
   "language": "python",
   "name": "python3"
  },
  "language_info": {
   "codemirror_mode": {
    "name": "ipython",
    "version": 3
   },
   "file_extension": ".py",
   "mimetype": "text/x-python",
   "name": "python",
   "nbconvert_exporter": "python",
   "pygments_lexer": "ipython3",
   "version": "3.12.7"
  }
 },
 "nbformat": 4,
 "nbformat_minor": 4
}
